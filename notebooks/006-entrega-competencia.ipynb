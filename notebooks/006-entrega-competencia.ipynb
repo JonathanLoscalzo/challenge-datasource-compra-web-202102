{
 "cells": [
  {
   "cell_type": "markdown",
   "metadata": {},
   "source": [
    "# Entrega\n",
    "## Intro\n",
    "Esta notebook se utiliza para la entrega del challange. \n",
    "Explica el proceso de manera simplificada de \n",
    "- limpieza y transformacion de los datos\n",
    "- entregar el modelo seleccionado, \n",
    "- eligiendo los mejores hiperparámetros\n",
    "- guardando el resultado en /data/results\n",
    "\n",
    "No se realiza un analisis, en el repositorio luego dejaré un minimo análisis.\n",
    "\n",
    "Hay formas de asegurar la reproducibilidad de los resultados utilizando seeds (o random_state) para que el resultado sea el mismo siempre. (De todas formas, los resultados podrían diferir un poco...)\n",
    "\n",
    "- https://machinelearningmastery.com/reproducible-machine-learning-results-by-default/\n",
    "- https://machinelearningmastery.com/randomness-in-machine-learning/\n",
    "- https://towardsdatascience.com/exploring-optuna-a-hyper-parameter-framework-using-logistic-regression-84bd622cd3a5\n"
   ]
  },
  {
   "cell_type": "markdown",
   "metadata": {},
   "source": [
    "______________\n",
    "## Limpieza y Transformación\n",
    "- El código se encuentra en funciones que realizan cambios en el dataset"
   ]
  },
  {
   "cell_type": "code",
   "execution_count": 2,
   "metadata": {},
   "outputs": [],
   "source": [
    "import pandas as pd\n",
    "import numpy as np\n",
    "import matplotlib.pyplot as plt\n",
    "from sklearn.preprocessing import OrdinalEncoder, OneHotEncoder, StandardScaler, MinMaxScaler\n",
    "\n",
    "\n",
    "SEED = 42\n",
    "np.random.seed(SEED)\n"
   ]
  },
  {
   "cell_type": "code",
   "execution_count": 3,
   "metadata": {},
   "outputs": [],
   "source": [
    "train = pd.read_csv('../data/raw/train.csv')\n",
    "test = pd.read_csv('../data/raw/test.csv')"
   ]
  },
  {
   "cell_type": "code",
   "execution_count": 4,
   "metadata": {},
   "outputs": [],
   "source": [
    "# methods used in clean & transform stage\n",
    "\n",
    "def train_ordinal(df, enc_columns):\n",
    "    \"\"\" Train an ordinal encoder from sklearn\n",
    "    \"\"\"\n",
    "    enc = OrdinalEncoder()\n",
    "    enc.fit(df[enc_columns].to_numpy())\n",
    "    \n",
    "    return enc\n",
    "\n",
    "def transform_ordinal(df, enc, enc_columns):\n",
    "    \"\"\" Transform and Apply an ordinal encoder from sklearn\n",
    "    \"\"\"\n",
    "    df[enc_columns] = enc.transform(df.loc[:, enc_columns])\n",
    "    df[enc_columns] = df.loc[:, enc_columns].astype('category')\n",
    "    \n",
    "\n",
    "def train_ohe(df, ohe_columns):\n",
    "    \"\"\" Train a one hot encoder from sklearn\n",
    "    \"\"\"\n",
    "    ohe = OneHotEncoder()\n",
    "    ohe.fit(df[ohe_columns])\n",
    "    return ohe\n",
    "\n",
    "def transform_one_hot(df, ohe, ohe_columns):\n",
    "    \"\"\" Transform and Apply an one-hot encoder from sklearn\n",
    "    \"\"\"\n",
    "    df.loc[:, ohe.get_feature_names(ohe_columns)] = ohe.transform(df[ohe_columns]).toarray()\n",
    "    df.drop(columns=ohe_columns, inplace=True)\n",
    "\n",
    "\n",
    "def train_stdscaler(df, columns):\n",
    "    \"\"\" Train a scaler from sklearn. MixMax gives better performance than StandardScaler\n",
    "    \"\"\"\n",
    "    scaler = MinMaxScaler()\n",
    "    scaler.fit(df[columns])\n",
    "    return scaler\n",
    "\n",
    "def transform_stdscaler(df, scaler, columns):\n",
    "    \"\"\" Transform and Apply scaler from sklearn\n",
    "    \"\"\"\n",
    "    df[columns] = scaler.transform(df[columns])\n",
    "    \n",
    "\n",
    "def sum_duration_columns(df):\n",
    "    \"\"\" From all *_Duration columns, it are sum and result in a new column Total\n",
    "    \"\"\"\n",
    "    duration_columns = df.columns.str.contains(\"Duration\")\n",
    "    duration_columns_str = df.columns[duration_columns]\n",
    "    pages_names = duration_columns_str.str.replace('_Duration', '')\n",
    "    df['Total_Duration'] = df.loc[:, duration_columns_str].sum(axis=1)\n",
    "    df[\"Total\"] = df.loc[:, pages_names].sum(axis=1)\n",
    "\n",
    "def avg_duration_per_page(df):\n",
    "    \"\"\" From all *_Duration columns, add a avg duration time per page\n",
    "    \"\"\"\n",
    "    duration_columns = df.columns.str.contains(\"Duration\")\n",
    "    duration_columns_str = df.columns[duration_columns]\n",
    "    pages_names = duration_columns_str.str.replace('_Duration', '')\n",
    "    for page, duration in zip(pages_names, duration_columns_str):\n",
    "        df[page+\"_Duration_AVG\"]= (df[duration] / df[page]).fillna(-1)\n"
   ]
  },
  {
   "cell_type": "code",
   "execution_count": 5,
   "metadata": {},
   "outputs": [],
   "source": [
    "# transforming TRAIN set\n",
    "\n",
    "# 1st option\n",
    "enc_columns=[\"Month\", \"TrafficType\", \"Browser\"]\n",
    "enc = train_ordinal(train, enc_columns)\n",
    "transform_ordinal(train, enc, enc_columns)\n",
    "\n",
    "ohe_columns = [\"SpecialDay\", \"OperatingSystems\", \"Region\", \"VisitorType\", \"Weekend\"]\n",
    "ohe = train_ohe(train, ohe_columns)\n",
    "transform_one_hot(train, ohe, ohe_columns)\n",
    "\n",
    "sum_duration_columns(train)\n",
    "avg_duration_per_page(train)\n",
    "\n",
    "stdscaler_columns = [\"Administrative_Duration\", \"Informational_Duration\", \"ProductRelated_Duration\"]\n",
    "\n",
    "scaler = train_stdscaler(train, stdscaler_columns)\n",
    "transform_stdscaler(train, scaler, stdscaler_columns)"
   ]
  },
  {
   "cell_type": "code",
   "execution_count": 6,
   "metadata": {},
   "outputs": [],
   "source": [
    "# transform TEST set \n",
    "transform_ordinal(test, enc, enc_columns)\n",
    "transform_one_hot(test, ohe, ohe_columns)\n",
    "sum_duration_columns(test)\n",
    "transform_stdscaler(test, scaler, stdscaler_columns)\n",
    "\n",
    "sum_duration_columns(test)\n",
    "avg_duration_per_page(test)"
   ]
  },
  {
   "cell_type": "markdown",
   "metadata": {},
   "source": [
    "\n",
    "\n",
    "_______________________\n",
    "## Model: Selecting, Training and Tuning\n"
   ]
  },
  {
   "cell_type": "code",
   "execution_count": 7,
   "metadata": {},
   "outputs": [],
   "source": [
    "import pandas as pd"
   ]
  },
  {
   "cell_type": "code",
   "execution_count": 8,
   "metadata": {},
   "outputs": [],
   "source": [
    "import lightgbm as lgb\n",
    "import optuna"
   ]
  },
  {
   "cell_type": "code",
   "execution_count": 9,
   "metadata": {},
   "outputs": [],
   "source": [
    "from sklearn.model_selection import train_test_split, cross_val_score, cross_validate, StratifiedKFold, GridSearchCV\n",
    "from sklearn.metrics import f1_score, classification_report, confusion_matrix, make_scorer\n",
    "\n",
    "from functools import partial"
   ]
  },
  {
   "cell_type": "code",
   "execution_count": 10,
   "metadata": {},
   "outputs": [],
   "source": [
    "metric = partial(f1_score, average='macro')\n",
    "score = make_scorer(f1_score, average='macro')"
   ]
  },
  {
   "cell_type": "code",
   "execution_count": 11,
   "metadata": {},
   "outputs": [],
   "source": [
    "X, y = train.loc[:, ~train.columns.isin(['revenue', \"id\"])], train.revenue\n",
    "X_train, X_test, y_train, y_test = train_test_split(X,y, stratify=y, test_size=0.2, random_state=SEED)\n",
    "X_train, X_val, y_train, y_val = train_test_split(X_train, y_train, stratify=y_train, test_size=0.2, random_state=SEED)"
   ]
  },
  {
   "cell_type": "markdown",
   "metadata": {},
   "source": [
    "### Selecting model"
   ]
  },
  {
   "cell_type": "code",
   "execution_count": 12,
   "metadata": {},
   "outputs": [
    {
     "name": "stdout",
     "output_type": "stream",
     "text": [
      "3-fold cross validation:\n",
      "\n",
      "Accuracy: 0.7967 (+/- 0.0049) [LGB1]\n",
      "Accuracy: 0.6650 (+/- 0.0032) [KNN]\n",
      "Accuracy: 0.7798 (+/- 0.0037) [RF]\n",
      "Accuracy: 0.7798 (+/- 0.0037) [StackingClassifier]\n"
     ]
    }
   ],
   "source": [
    "from sklearn import model_selection\n",
    "from sklearn.linear_model import LogisticRegression\n",
    "from sklearn.neighbors import KNeighborsClassifier\n",
    "from sklearn.ensemble import RandomForestClassifier\n",
    "from sklearn.neighbors import KNeighborsClassifier\n",
    "from mlxtend.classifier import StackingClassifier\n",
    "import warnings\n",
    "warnings.simplefilter('ignore')\n",
    "\n",
    "clf1 = lgb.LGBMClassifier(random_state=SEED)\n",
    "clf2 = KNeighborsClassifier()\n",
    "clf3 = RandomForestClassifier(random_state=SEED)\n",
    "\n",
    "lr = LogisticRegression(random_state=SEED)\n",
    "sclf = StackingClassifier(classifiers=[clf1, clf2, clf3], \n",
    "                          meta_classifier=lr)\n",
    "\n",
    "print('3-fold cross validation:\\n')\n",
    "\n",
    "for clf, label in zip([clf1, clf2, clf3, sclf], \n",
    "                      ['LGB1',  'KNN', 'RF', 'StackingClassifier']):\n",
    "\n",
    "    scores = model_selection.cross_val_score(clf, X, y, cv=3, scoring=score)\n",
    "    print(\"Accuracy: %0.4f (+/- %0.4f) [%s]\" % (scores.mean(), scores.std(), label))\n",
    "    "
   ]
  },
  {
   "cell_type": "markdown",
   "metadata": {},
   "source": [
    "probando algunos modelos, nos damos cuenta que lgb o rf pueden ser una buena opción.\n",
    "\n",
    "En este caso voy a elegir RF, pero podría agregar un branch con `trial.suggest_categorical(\"model\", [\"lgb\", \"rf\"])`"
   ]
  },
  {
   "cell_type": "code",
   "execution_count": 14,
   "metadata": {},
   "outputs": [],
   "source": [
    "def objective_challenge(trial: optuna.trial.Trial):\n",
    "\n",
    "    param = {\n",
    "        \"criterion\": trial.suggest_categorical(\"criterion\", [\"gini\", \"entropy\"]),\n",
    "        \"n_estimators\":trial.suggest_int(\"n_estimators\", 50, 400, step=50),\n",
    "        \"max_depth\": trial.suggest_int(\"max_depth\", 9, 27, log=True),\n",
    "        \"min_samples_split\": trial.suggest_int('min_samples_split', 5, 100),\n",
    "        \"min_samples_leaf\": trial.suggest_int(\"min_samples_leaf\", 1, 60, step=1),\n",
    "        \"max_features\": trial.suggest_categorical(\"max_features\", [\"auto\", \"sqrt\", \"log2\"]),\n",
    "        \"bootstrap\": trial.suggest_categorical(\"bootstrap\", [True, False]),\n",
    "        \"class_weight\":trial.suggest_categorical(\"class_weight\",[\"balanced_subsample\"]),\n",
    "        \"random_state\": trial.suggest_int(\"random_state\", SEED, SEED),\n",
    "    }\n",
    "    \n",
    "    pruning_callback = optuna.integration.LightGBMPruningCallback(trial, \"F1_MACRO\", \"validation\")\n",
    "\n",
    "    gbm = RandomForestClassifier(**param, verbose=0)\n",
    "    \n",
    "    f1_cross = cross_val_score(\n",
    "        gbm, \n",
    "        pd.concat([X_train, X_val]), pd.concat([y_train, y_val]), \n",
    "        n_jobs=-1,\n",
    "        cv=StratifiedKFold(3), \n",
    "        scoring=score,\n",
    "#         fit_params={\n",
    "#             **fit_params, \n",
    "# #             \"early_stopping_rounds\":15, \n",
    "#             \"callbacks\":[pruning_callback]\n",
    "#         }\n",
    "    )\n",
    "    \n",
    "    return np.mean(f1_cross)\n",
    "    "
   ]
  },
  {
   "cell_type": "code",
   "execution_count": 15,
   "metadata": {
    "scrolled": true
   },
   "outputs": [
    {
     "name": "stderr",
     "output_type": "stream",
     "text": [
      "[I 2021-02-08 19:39:14,729] A new study created in RDB with name: 006-study-challenge\n",
      "[I 2021-02-08 19:39:19,544] Trial 0 finished with value: 0.7827459472637629 and parameters: {'criterion': 'gini', 'n_estimators': 200, 'max_depth': 26, 'min_child_samples': 76, 'min_samples_leaf': 21, 'max_features': 'log2', 'bootstrap': False, 'class_weight': 'balanced_subsample', 'random_state': 42}. Best is trial 0 with value: 0.7827459472637629.\n",
      "[I 2021-02-08 19:39:24,759] Trial 1 finished with value: 0.7710833392467813 and parameters: {'criterion': 'gini', 'n_estimators': 350, 'max_depth': 9, 'min_child_samples': 92, 'min_samples_leaf': 53, 'max_features': 'log2', 'bootstrap': False, 'class_weight': 'balanced_subsample', 'random_state': 42}. Best is trial 0 with value: 0.7827459472637629.\n",
      "[I 2021-02-08 19:39:26,509] Trial 2 finished with value: 0.7798987976976947 and parameters: {'criterion': 'gini', 'n_estimators': 100, 'max_depth': 20, 'min_child_samples': 34, 'min_samples_leaf': 38, 'max_features': 'sqrt', 'bootstrap': False, 'class_weight': 'balanced_subsample', 'random_state': 42}. Best is trial 0 with value: 0.7827459472637629.\n",
      "[I 2021-02-08 19:39:31,791] Trial 3 finished with value: 0.7857053401410156 and parameters: {'criterion': 'entropy', 'n_estimators': 250, 'max_depth': 18, 'min_child_samples': 62, 'min_samples_leaf': 22, 'max_features': 'auto', 'bootstrap': False, 'class_weight': 'balanced_subsample', 'random_state': 42}. Best is trial 3 with value: 0.7857053401410156.\n",
      "[I 2021-02-08 19:39:32,889] Trial 4 finished with value: 0.7808670312142292 and parameters: {'criterion': 'gini', 'n_estimators': 50, 'max_depth': 16, 'min_child_samples': 46, 'min_samples_leaf': 28, 'max_features': 'log2', 'bootstrap': False, 'class_weight': 'balanced_subsample', 'random_state': 42}. Best is trial 3 with value: 0.7857053401410156.\n",
      "[I 2021-02-08 19:39:38,524] Trial 5 finished with value: 0.7743312412483125 and parameters: {'criterion': 'entropy', 'n_estimators': 350, 'max_depth': 18, 'min_child_samples': 59, 'min_samples_leaf': 52, 'max_features': 'auto', 'bootstrap': True, 'class_weight': 'balanced_subsample', 'random_state': 42}. Best is trial 3 with value: 0.7857053401410156.\n",
      "[I 2021-02-08 19:39:40,981] Trial 6 finished with value: 0.7775071361478494 and parameters: {'criterion': 'gini', 'n_estimators': 150, 'max_depth': 19, 'min_child_samples': 77, 'min_samples_leaf': 39, 'max_features': 'sqrt', 'bootstrap': False, 'class_weight': 'balanced_subsample', 'random_state': 42}. Best is trial 3 with value: 0.7857053401410156.\n",
      "[I 2021-02-08 19:39:44,347] Trial 7 finished with value: 0.7838899697612186 and parameters: {'criterion': 'gini', 'n_estimators': 200, 'max_depth': 16, 'min_child_samples': 13, 'min_samples_leaf': 26, 'max_features': 'auto', 'bootstrap': False, 'class_weight': 'balanced_subsample', 'random_state': 42}. Best is trial 3 with value: 0.7857053401410156.\n",
      "[I 2021-02-08 19:39:48,333] Trial 8 finished with value: 0.7772838853838744 and parameters: {'criterion': 'entropy', 'n_estimators': 200, 'max_depth': 14, 'min_child_samples': 75, 'min_samples_leaf': 44, 'max_features': 'auto', 'bootstrap': False, 'class_weight': 'balanced_subsample', 'random_state': 42}. Best is trial 3 with value: 0.7857053401410156.\n",
      "[I 2021-02-08 19:39:50,657] Trial 9 finished with value: 0.7771007221465295 and parameters: {'criterion': 'gini', 'n_estimators': 150, 'max_depth': 25, 'min_child_samples': 40, 'min_samples_leaf': 50, 'max_features': 'sqrt', 'bootstrap': False, 'class_weight': 'balanced_subsample', 'random_state': 42}. Best is trial 3 with value: 0.7857053401410156.\n",
      "[I 2021-02-08 19:39:57,095] Trial 10 finished with value: 0.8066805377122327 and parameters: {'criterion': 'entropy', 'n_estimators': 300, 'max_depth': 11, 'min_child_samples': 17, 'min_samples_leaf': 1, 'max_features': 'auto', 'bootstrap': True, 'class_weight': 'balanced_subsample', 'random_state': 42}. Best is trial 10 with value: 0.8066805377122327.\n",
      "[I 2021-02-08 19:40:03,813] Trial 11 finished with value: 0.8120441730895157 and parameters: {'criterion': 'entropy', 'n_estimators': 300, 'max_depth': 11, 'min_child_samples': 5, 'min_samples_leaf': 2, 'max_features': 'auto', 'bootstrap': True, 'class_weight': 'balanced_subsample', 'random_state': 42}. Best is trial 11 with value: 0.8120441730895157.\n",
      "[I 2021-02-08 19:40:10,215] Trial 12 finished with value: 0.8100181580121286 and parameters: {'criterion': 'entropy', 'n_estimators': 300, 'max_depth': 11, 'min_child_samples': 5, 'min_samples_leaf': 1, 'max_features': 'auto', 'bootstrap': True, 'class_weight': 'balanced_subsample', 'random_state': 42}. Best is trial 11 with value: 0.8120441730895157.\n",
      "[I 2021-02-08 19:40:19,086] Trial 13 finished with value: 0.8082294694404286 and parameters: {'criterion': 'entropy', 'n_estimators': 400, 'max_depth': 11, 'min_child_samples': 9, 'min_samples_leaf': 1, 'max_features': 'auto', 'bootstrap': True, 'class_weight': 'balanced_subsample', 'random_state': 42}. Best is trial 11 with value: 0.8120441730895157.\n",
      "[I 2021-02-08 19:40:25,280] Trial 14 finished with value: 0.795620488609139 and parameters: {'criterion': 'entropy', 'n_estimators': 300, 'max_depth': 9, 'min_child_samples': 27, 'min_samples_leaf': 10, 'max_features': 'auto', 'bootstrap': True, 'class_weight': 'balanced_subsample', 'random_state': 42}. Best is trial 11 with value: 0.8120441730895157.\n",
      "[I 2021-02-08 19:40:33,542] Trial 15 finished with value: 0.799219978566103 and parameters: {'criterion': 'entropy', 'n_estimators': 400, 'max_depth': 12, 'min_child_samples': 7, 'min_samples_leaf': 11, 'max_features': 'auto', 'bootstrap': True, 'class_weight': 'balanced_subsample', 'random_state': 42}. Best is trial 11 with value: 0.8120441730895157.\n",
      "[I 2021-02-08 19:40:39,381] Trial 16 finished with value: 0.7931456787161527 and parameters: {'criterion': 'entropy', 'n_estimators': 300, 'max_depth': 12, 'min_child_samples': 26, 'min_samples_leaf': 13, 'max_features': 'auto', 'bootstrap': True, 'class_weight': 'balanced_subsample', 'random_state': 42}. Best is trial 11 with value: 0.8120441730895157.\n",
      "[I 2021-02-08 19:40:44,404] Trial 17 finished with value: 0.8022940736210104 and parameters: {'criterion': 'entropy', 'n_estimators': 250, 'max_depth': 10, 'min_child_samples': 21, 'min_samples_leaf': 1, 'max_features': 'auto', 'bootstrap': True, 'class_weight': 'balanced_subsample', 'random_state': 42}. Best is trial 11 with value: 0.8120441730895157.\n",
      "[I 2021-02-08 19:40:51,863] Trial 18 finished with value: 0.8089041922120458 and parameters: {'criterion': 'entropy', 'n_estimators': 350, 'max_depth': 13, 'min_child_samples': 6, 'min_samples_leaf': 6, 'max_features': 'auto', 'bootstrap': True, 'class_weight': 'balanced_subsample', 'random_state': 42}. Best is trial 11 with value: 0.8120441730895157.\n",
      "[I 2021-02-08 19:40:57,414] Trial 19 finished with value: 0.7904218447764887 and parameters: {'criterion': 'entropy', 'n_estimators': 300, 'max_depth': 9, 'min_child_samples': 38, 'min_samples_leaf': 16, 'max_features': 'auto', 'bootstrap': True, 'class_weight': 'balanced_subsample', 'random_state': 42}. Best is trial 11 with value: 0.8120441730895157.\n",
      "[I 2021-02-08 19:41:01,308] Trial 20 finished with value: 0.7720177334630192 and parameters: {'criterion': 'entropy', 'n_estimators': 250, 'max_depth': 10, 'min_child_samples': 99, 'min_samples_leaf': 60, 'max_features': 'log2', 'bootstrap': True, 'class_weight': 'balanced_subsample', 'random_state': 42}. Best is trial 11 with value: 0.8120441730895157.\n",
      "[I 2021-02-08 19:41:08,557] Trial 21 finished with value: 0.8133946502058573 and parameters: {'criterion': 'entropy', 'n_estimators': 350, 'max_depth': 14, 'min_child_samples': 8, 'min_samples_leaf': 6, 'max_features': 'auto', 'bootstrap': True, 'class_weight': 'balanced_subsample', 'random_state': 42}. Best is trial 21 with value: 0.8133946502058573.\n",
      "[I 2021-02-08 19:41:16,064] Trial 22 finished with value: 0.8133946502058573 and parameters: {'criterion': 'entropy', 'n_estimators': 350, 'max_depth': 14, 'min_child_samples': 8, 'min_samples_leaf': 6, 'max_features': 'auto', 'bootstrap': True, 'class_weight': 'balanced_subsample', 'random_state': 42}. Best is trial 21 with value: 0.8133946502058573.\n",
      "[I 2021-02-08 19:41:24,266] Trial 23 finished with value: 0.8069520899989019 and parameters: {'criterion': 'entropy', 'n_estimators': 400, 'max_depth': 14, 'min_child_samples': 18, 'min_samples_leaf': 6, 'max_features': 'auto', 'bootstrap': True, 'class_weight': 'balanced_subsample', 'random_state': 42}. Best is trial 21 with value: 0.8133946502058573.\n",
      "[I 2021-02-08 19:41:31,224] Trial 24 finished with value: 0.8043259317723602 and parameters: {'criterion': 'entropy', 'n_estimators': 350, 'max_depth': 14, 'min_child_samples': 26, 'min_samples_leaf': 6, 'max_features': 'auto', 'bootstrap': True, 'class_weight': 'balanced_subsample', 'random_state': 42}. Best is trial 21 with value: 0.8133946502058573.\n",
      "[I 2021-02-08 19:41:37,589] Trial 25 finished with value: 0.7906768605438533 and parameters: {'criterion': 'entropy', 'n_estimators': 350, 'max_depth': 12, 'min_child_samples': 12, 'min_samples_leaf': 18, 'max_features': 'sqrt', 'bootstrap': True, 'class_weight': 'balanced_subsample', 'random_state': 42}. Best is trial 21 with value: 0.8133946502058573.\n",
      "[I 2021-02-08 19:41:45,760] Trial 26 finished with value: 0.8048919714194925 and parameters: {'criterion': 'entropy', 'n_estimators': 400, 'max_depth': 15, 'min_child_samples': 6, 'min_samples_leaf': 9, 'max_features': 'auto', 'bootstrap': True, 'class_weight': 'balanced_subsample', 'random_state': 42}. Best is trial 21 with value: 0.8133946502058573.\n",
      "[I 2021-02-08 19:41:52,339] Trial 27 finished with value: 0.7940353641362453 and parameters: {'criterion': 'entropy', 'n_estimators': 350, 'max_depth': 13, 'min_child_samples': 30, 'min_samples_leaf': 15, 'max_features': 'auto', 'bootstrap': True, 'class_weight': 'balanced_subsample', 'random_state': 42}. Best is trial 21 with value: 0.8133946502058573.\n",
      "[I 2021-02-08 19:41:58,618] Trial 28 finished with value: 0.8119547643875354 and parameters: {'criterion': 'entropy', 'n_estimators': 300, 'max_depth': 17, 'min_child_samples': 20, 'min_samples_leaf': 5, 'max_features': 'auto', 'bootstrap': True, 'class_weight': 'balanced_subsample', 'random_state': 42}. Best is trial 21 with value: 0.8133946502058573.\n",
      "[I 2021-02-08 19:42:02,896] Trial 29 finished with value: 0.7861639176830172 and parameters: {'criterion': 'entropy', 'n_estimators': 250, 'max_depth': 22, 'min_child_samples': 13, 'min_samples_leaf': 23, 'max_features': 'log2', 'bootstrap': True, 'class_weight': 'balanced_subsample', 'random_state': 42}. Best is trial 21 with value: 0.8133946502058573.\n",
      "[I 2021-02-08 19:42:09,939] Trial 30 finished with value: 0.7895183876814169 and parameters: {'criterion': 'entropy', 'n_estimators': 400, 'max_depth': 10, 'min_child_samples': 49, 'min_samples_leaf': 19, 'max_features': 'auto', 'bootstrap': True, 'class_weight': 'balanced_subsample', 'random_state': 42}. Best is trial 21 with value: 0.8133946502058573.\n",
      "[I 2021-02-08 19:42:16,366] Trial 31 finished with value: 0.8119547643875354 and parameters: {'criterion': 'entropy', 'n_estimators': 300, 'max_depth': 17, 'min_child_samples': 20, 'min_samples_leaf': 5, 'max_features': 'auto', 'bootstrap': True, 'class_weight': 'balanced_subsample', 'random_state': 42}. Best is trial 21 with value: 0.8133946502058573.\n",
      "[I 2021-02-08 19:42:23,768] Trial 32 finished with value: 0.8169425174280313 and parameters: {'criterion': 'entropy', 'n_estimators': 350, 'max_depth': 15, 'min_child_samples': 5, 'min_samples_leaf': 4, 'max_features': 'auto', 'bootstrap': True, 'class_weight': 'balanced_subsample', 'random_state': 42}. Best is trial 32 with value: 0.8169425174280313.\n",
      "[I 2021-02-08 19:42:30,732] Trial 33 finished with value: 0.8050186461775025 and parameters: {'criterion': 'entropy', 'n_estimators': 350, 'max_depth': 15, 'min_child_samples': 5, 'min_samples_leaf': 9, 'max_features': 'auto', 'bootstrap': True, 'class_weight': 'balanced_subsample', 'random_state': 42}. Best is trial 32 with value: 0.8169425174280313.\n",
      "[I 2021-02-08 19:42:37,648] Trial 34 finished with value: 0.8098117082156128 and parameters: {'criterion': 'entropy', 'n_estimators': 350, 'max_depth': 13, 'min_child_samples': 13, 'min_samples_leaf': 3, 'max_features': 'log2', 'bootstrap': True, 'class_weight': 'balanced_subsample', 'random_state': 42}. Best is trial 32 with value: 0.8169425174280313.\n",
      "[I 2021-02-08 19:42:44,229] Trial 35 finished with value: 0.7814462302710599 and parameters: {'criterion': 'entropy', 'n_estimators': 350, 'max_depth': 21, 'min_child_samples': 11, 'min_samples_leaf': 33, 'max_features': 'auto', 'bootstrap': True, 'class_weight': 'balanced_subsample', 'random_state': 42}. Best is trial 32 with value: 0.8169425174280313.\n",
      "[I 2021-02-08 19:42:52,308] Trial 36 finished with value: 0.7958380757239535 and parameters: {'criterion': 'entropy', 'n_estimators': 400, 'max_depth': 16, 'min_child_samples': 5, 'min_samples_leaf': 13, 'max_features': 'sqrt', 'bootstrap': True, 'class_weight': 'balanced_subsample', 'random_state': 42}. Best is trial 32 with value: 0.8169425174280313.\n",
      "[I 2021-02-08 19:42:57,826] Trial 37 finished with value: 0.7986678171366687 and parameters: {'criterion': 'gini', 'n_estimators': 350, 'max_depth': 14, 'min_child_samples': 34, 'min_samples_leaf': 8, 'max_features': 'auto', 'bootstrap': True, 'class_weight': 'balanced_subsample', 'random_state': 42}. Best is trial 32 with value: 0.8169425174280313.\n",
      "[I 2021-02-08 19:43:03,307] Trial 38 finished with value: 0.7899553961391663 and parameters: {'criterion': 'entropy', 'n_estimators': 300, 'max_depth': 13, 'min_child_samples': 58, 'min_samples_leaf': 13, 'max_features': 'auto', 'bootstrap': True, 'class_weight': 'balanced_subsample', 'random_state': 42}. Best is trial 32 with value: 0.8169425174280313.\n",
      "[I 2021-02-08 19:43:06,865] Trial 39 finished with value: 0.790388980823446 and parameters: {'criterion': 'gini', 'n_estimators': 250, 'max_depth': 18, 'min_child_samples': 84, 'min_samples_leaf': 3, 'max_features': 'log2', 'bootstrap': True, 'class_weight': 'balanced_subsample', 'random_state': 42}. Best is trial 32 with value: 0.8169425174280313.\n",
      "[I 2021-02-08 19:43:14,292] Trial 40 finished with value: 0.7873449025009639 and parameters: {'criterion': 'entropy', 'n_estimators': 350, 'max_depth': 15, 'min_child_samples': 15, 'min_samples_leaf': 23, 'max_features': 'auto', 'bootstrap': False, 'class_weight': 'balanced_subsample', 'random_state': 42}. Best is trial 32 with value: 0.8169425174280313.\n",
      "[I 2021-02-08 19:43:20,796] Trial 41 finished with value: 0.8080095543578173 and parameters: {'criterion': 'entropy', 'n_estimators': 300, 'max_depth': 17, 'min_child_samples': 22, 'min_samples_leaf': 4, 'max_features': 'auto', 'bootstrap': True, 'class_weight': 'balanced_subsample', 'random_state': 42}. Best is trial 32 with value: 0.8169425174280313.\n",
      "[I 2021-02-08 19:43:27,150] Trial 42 finished with value: 0.8104203520340416 and parameters: {'criterion': 'entropy', 'n_estimators': 300, 'max_depth': 19, 'min_child_samples': 9, 'min_samples_leaf': 7, 'max_features': 'auto', 'bootstrap': True, 'class_weight': 'balanced_subsample', 'random_state': 42}. Best is trial 32 with value: 0.8169425174280313.\n",
      "[I 2021-02-08 19:43:32,915] Trial 43 finished with value: 0.8176968080929088 and parameters: {'criterion': 'entropy', 'n_estimators': 250, 'max_depth': 16, 'min_child_samples': 17, 'min_samples_leaf': 1, 'max_features': 'auto', 'bootstrap': True, 'class_weight': 'balanced_subsample', 'random_state': 42}. Best is trial 43 with value: 0.8176968080929088.\n",
      "[I 2021-02-08 19:43:37,366] Trial 44 finished with value: 0.8158301199643759 and parameters: {'criterion': 'entropy', 'n_estimators': 200, 'max_depth': 16, 'min_child_samples': 16, 'min_samples_leaf': 1, 'max_features': 'auto', 'bootstrap': True, 'class_weight': 'balanced_subsample', 'random_state': 42}. Best is trial 43 with value: 0.8176968080929088.\n",
      "[I 2021-02-08 19:43:40,825] Trial 45 finished with value: 0.8169564021626851 and parameters: {'criterion': 'entropy', 'n_estimators': 150, 'max_depth': 16, 'min_child_samples': 15, 'min_samples_leaf': 1, 'max_features': 'sqrt', 'bootstrap': True, 'class_weight': 'balanced_subsample', 'random_state': 42}. Best is trial 43 with value: 0.8176968080929088.\n",
      "[I 2021-02-08 19:43:45,366] Trial 46 finished with value: 0.8123608340173627 and parameters: {'criterion': 'entropy', 'n_estimators': 150, 'max_depth': 16, 'min_child_samples': 16, 'min_samples_leaf': 1, 'max_features': 'sqrt', 'bootstrap': False, 'class_weight': 'balanced_subsample', 'random_state': 42}. Best is trial 43 with value: 0.8176968080929088.\n",
      "[I 2021-02-08 19:43:47,511] Trial 47 finished with value: 0.8069259691759675 and parameters: {'criterion': 'gini', 'n_estimators': 100, 'max_depth': 18, 'min_child_samples': 31, 'min_samples_leaf': 1, 'max_features': 'sqrt', 'bootstrap': True, 'class_weight': 'balanced_subsample', 'random_state': 42}. Best is trial 43 with value: 0.8176968080929088.\n",
      "[I 2021-02-08 19:43:51,614] Trial 48 finished with value: 0.7965485361261999 and parameters: {'criterion': 'entropy', 'n_estimators': 200, 'max_depth': 17, 'min_child_samples': 41, 'min_samples_leaf': 11, 'max_features': 'sqrt', 'bootstrap': True, 'class_weight': 'balanced_subsample', 'random_state': 42}. Best is trial 43 with value: 0.8176968080929088.\n",
      "[I 2021-02-08 19:43:54,389] Trial 49 finished with value: 0.784679241249696 and parameters: {'criterion': 'entropy', 'n_estimators': 150, 'max_depth': 16, 'min_child_samples': 23, 'min_samples_leaf': 32, 'max_features': 'sqrt', 'bootstrap': True, 'class_weight': 'balanced_subsample', 'random_state': 42}. Best is trial 43 with value: 0.8176968080929088.\n",
      "[I 2021-02-08 19:43:56,540] Trial 50 finished with value: 0.7805476941210053 and parameters: {'criterion': 'entropy', 'n_estimators': 100, 'max_depth': 20, 'min_child_samples': 16, 'min_samples_leaf': 42, 'max_features': 'sqrt', 'bootstrap': False, 'class_weight': 'balanced_subsample', 'random_state': 42}. Best is trial 43 with value: 0.8176968080929088.\n",
      "[I 2021-02-08 19:43:58,996] Trial 51 finished with value: 0.8123218403447613 and parameters: {'criterion': 'entropy', 'n_estimators': 100, 'max_depth': 14, 'min_child_samples': 13, 'min_samples_leaf': 3, 'max_features': 'auto', 'bootstrap': True, 'class_weight': 'balanced_subsample', 'random_state': 42}. Best is trial 43 with value: 0.8176968080929088.\n",
      "[I 2021-02-08 19:44:03,316] Trial 52 finished with value: 0.806920632979658 and parameters: {'criterion': 'entropy', 'n_estimators': 200, 'max_depth': 15, 'min_child_samples': 9, 'min_samples_leaf': 8, 'max_features': 'auto', 'bootstrap': True, 'class_weight': 'balanced_subsample', 'random_state': 42}. Best is trial 43 with value: 0.8176968080929088.\n",
      "[I 2021-02-08 19:44:06,384] Trial 53 finished with value: 0.7934843803052916 and parameters: {'criterion': 'entropy', 'n_estimators': 150, 'max_depth': 16, 'min_child_samples': 70, 'min_samples_leaf': 4, 'max_features': 'auto', 'bootstrap': True, 'class_weight': 'balanced_subsample', 'random_state': 42}. Best is trial 43 with value: 0.8176968080929088.\n",
      "[I 2021-02-08 19:44:10,885] Trial 54 finished with value: 0.8073856842302342 and parameters: {'criterion': 'entropy', 'n_estimators': 200, 'max_depth': 14, 'min_child_samples': 24, 'min_samples_leaf': 1, 'max_features': 'auto', 'bootstrap': True, 'class_weight': 'balanced_subsample', 'random_state': 42}. Best is trial 43 with value: 0.8176968080929088.\n",
      "[I 2021-02-08 19:44:12,445] Trial 55 finished with value: 0.799755766718666 and parameters: {'criterion': 'entropy', 'n_estimators': 50, 'max_depth': 15, 'min_child_samples': 9, 'min_samples_leaf': 11, 'max_features': 'auto', 'bootstrap': True, 'class_weight': 'balanced_subsample', 'random_state': 42}. Best is trial 43 with value: 0.8176968080929088.\n",
      "[I 2021-02-08 19:44:16,339] Trial 56 finished with value: 0.8078472578856686 and parameters: {'criterion': 'entropy', 'n_estimators': 150, 'max_depth': 14, 'min_child_samples': 18, 'min_samples_leaf': 7, 'max_features': 'sqrt', 'bootstrap': True, 'class_weight': 'balanced_subsample', 'random_state': 42}. Best is trial 43 with value: 0.8176968080929088.\n",
      "[I 2021-02-08 19:44:24,109] Trial 57 finished with value: 0.8106975718651089 and parameters: {'criterion': 'entropy', 'n_estimators': 200, 'max_depth': 14, 'min_child_samples': 5, 'min_samples_leaf': 1, 'max_features': 'auto', 'bootstrap': True, 'class_weight': 'balanced_subsample', 'random_state': 42}. Best is trial 43 with value: 0.8176968080929088.\n",
      "[I 2021-02-08 19:44:27,918] Trial 58 finished with value: 0.7938869440423003 and parameters: {'criterion': 'entropy', 'n_estimators': 150, 'max_depth': 12, 'min_child_samples': 10, 'min_samples_leaf': 15, 'max_features': 'auto', 'bootstrap': True, 'class_weight': 'balanced_subsample', 'random_state': 42}. Best is trial 43 with value: 0.8176968080929088.\n",
      "[I 2021-02-08 19:44:32,828] Trial 59 finished with value: 0.7773422219015341 and parameters: {'criterion': 'entropy', 'n_estimators': 250, 'max_depth': 13, 'min_child_samples': 18, 'min_samples_leaf': 59, 'max_features': 'auto', 'bootstrap': True, 'class_weight': 'balanced_subsample', 'random_state': 42}. Best is trial 43 with value: 0.8176968080929088.\n",
      "[I 2021-02-08 19:44:38,347] Trial 60 finished with value: 0.8048380245150003 and parameters: {'criterion': 'gini', 'n_estimators': 200, 'max_depth': 16, 'min_child_samples': 28, 'min_samples_leaf': 4, 'max_features': 'auto', 'bootstrap': True, 'class_weight': 'balanced_subsample', 'random_state': 42}. Best is trial 43 with value: 0.8176968080929088.\n",
      "[I 2021-02-08 19:44:46,391] Trial 61 finished with value: 0.8148625434364879 and parameters: {'criterion': 'entropy', 'n_estimators': 150, 'max_depth': 16, 'min_child_samples': 14, 'min_samples_leaf': 1, 'max_features': 'sqrt', 'bootstrap': False, 'class_weight': 'balanced_subsample', 'random_state': 42}. Best is trial 43 with value: 0.8176968080929088.\n",
      "[I 2021-02-08 19:44:51,819] Trial 62 finished with value: 0.8056387618811681 and parameters: {'criterion': 'entropy', 'n_estimators': 150, 'max_depth': 15, 'min_child_samples': 15, 'min_samples_leaf': 6, 'max_features': 'sqrt', 'bootstrap': False, 'class_weight': 'balanced_subsample', 'random_state': 42}. Best is trial 43 with value: 0.8176968080929088.\n",
      "[I 2021-02-08 19:44:56,479] Trial 63 finished with value: 0.8166872040460659 and parameters: {'criterion': 'entropy', 'n_estimators': 100, 'max_depth': 16, 'min_child_samples': 8, 'min_samples_leaf': 3, 'max_features': 'sqrt', 'bootstrap': False, 'class_weight': 'balanced_subsample', 'random_state': 42}. Best is trial 43 with value: 0.8176968080929088.\n",
      "[I 2021-02-08 19:44:59,736] Trial 64 finished with value: 0.8095424346628187 and parameters: {'criterion': 'entropy', 'n_estimators': 100, 'max_depth': 15, 'min_child_samples': 24, 'min_samples_leaf': 2, 'max_features': 'sqrt', 'bootstrap': False, 'class_weight': 'balanced_subsample', 'random_state': 42}. Best is trial 43 with value: 0.8176968080929088.\n",
      "[I 2021-02-08 19:45:01,735] Trial 65 finished with value: 0.8114074416244884 and parameters: {'criterion': 'entropy', 'n_estimators': 50, 'max_depth': 18, 'min_child_samples': 20, 'min_samples_leaf': 3, 'max_features': 'sqrt', 'bootstrap': False, 'class_weight': 'balanced_subsample', 'random_state': 42}. Best is trial 43 with value: 0.8176968080929088.\n",
      "[I 2021-02-08 19:45:04,885] Trial 66 finished with value: 0.8020559824533958 and parameters: {'criterion': 'entropy', 'n_estimators': 100, 'max_depth': 17, 'min_child_samples': 12, 'min_samples_leaf': 9, 'max_features': 'sqrt', 'bootstrap': False, 'class_weight': 'balanced_subsample', 'random_state': 42}. Best is trial 43 with value: 0.8176968080929088.\n",
      "[I 2021-02-08 19:45:10,745] Trial 67 finished with value: 0.8138719444451361 and parameters: {'criterion': 'entropy', 'n_estimators': 150, 'max_depth': 16, 'min_child_samples': 7, 'min_samples_leaf': 1, 'max_features': 'sqrt', 'bootstrap': False, 'class_weight': 'balanced_subsample', 'random_state': 42}. Best is trial 43 with value: 0.8176968080929088.\n",
      "[I 2021-02-08 19:45:16,713] Trial 68 finished with value: 0.817833579404119 and parameters: {'criterion': 'entropy', 'n_estimators': 150, 'max_depth': 19, 'min_child_samples': 14, 'min_samples_leaf': 1, 'max_features': 'sqrt', 'bootstrap': False, 'class_weight': 'balanced_subsample', 'random_state': 42}. Best is trial 68 with value: 0.817833579404119.\n",
      "[I 2021-02-08 19:45:20,009] Trial 69 finished with value: 0.7804436710987308 and parameters: {'criterion': 'entropy', 'n_estimators': 100, 'max_depth': 24, 'min_child_samples': 32, 'min_samples_leaf': 49, 'max_features': 'sqrt', 'bootstrap': False, 'class_weight': 'balanced_subsample', 'random_state': 42}. Best is trial 68 with value: 0.817833579404119.\n",
      "[I 2021-02-08 19:45:24,603] Trial 70 finished with value: 0.8037120014880474 and parameters: {'criterion': 'entropy', 'n_estimators': 150, 'max_depth': 19, 'min_child_samples': 28, 'min_samples_leaf': 4, 'max_features': 'sqrt', 'bootstrap': False, 'class_weight': 'balanced_subsample', 'random_state': 42}. Best is trial 68 with value: 0.817833579404119.\n",
      "[I 2021-02-08 19:45:29,223] Trial 71 finished with value: 0.8148625434364879 and parameters: {'criterion': 'entropy', 'n_estimators': 150, 'max_depth': 16, 'min_child_samples': 14, 'min_samples_leaf': 1, 'max_features': 'sqrt', 'bootstrap': False, 'class_weight': 'balanced_subsample', 'random_state': 42}. Best is trial 68 with value: 0.817833579404119.\n",
      "[I 2021-02-08 19:45:33,753] Trial 72 finished with value: 0.816194163226536 and parameters: {'criterion': 'entropy', 'n_estimators': 150, 'max_depth': 17, 'min_child_samples': 14, 'min_samples_leaf': 1, 'max_features': 'sqrt', 'bootstrap': False, 'class_weight': 'balanced_subsample', 'random_state': 42}. Best is trial 68 with value: 0.817833579404119.\n",
      "[I 2021-02-08 19:45:40,219] Trial 73 finished with value: 0.8124989320929106 and parameters: {'criterion': 'entropy', 'n_estimators': 200, 'max_depth': 18, 'min_child_samples': 19, 'min_samples_leaf': 3, 'max_features': 'sqrt', 'bootstrap': False, 'class_weight': 'balanced_subsample', 'random_state': 42}. Best is trial 68 with value: 0.817833579404119.\n",
      "[I 2021-02-08 19:45:43,641] Trial 74 finished with value: 0.8130743852749779 and parameters: {'criterion': 'entropy', 'n_estimators': 100, 'max_depth': 17, 'min_child_samples': 11, 'min_samples_leaf': 5, 'max_features': 'sqrt', 'bootstrap': False, 'class_weight': 'balanced_subsample', 'random_state': 42}. Best is trial 68 with value: 0.817833579404119.\n",
      "[I 2021-02-08 19:45:50,422] Trial 75 finished with value: 0.813808466351297 and parameters: {'criterion': 'entropy', 'n_estimators': 200, 'max_depth': 16, 'min_child_samples': 17, 'min_samples_leaf': 2, 'max_features': 'sqrt', 'bootstrap': False, 'class_weight': 'balanced_subsample', 'random_state': 42}. Best is trial 68 with value: 0.817833579404119.\n",
      "[I 2021-02-08 19:45:56,097] Trial 76 finished with value: 0.8031311383377968 and parameters: {'criterion': 'entropy', 'n_estimators': 150, 'max_depth': 14, 'min_child_samples': 22, 'min_samples_leaf': 7, 'max_features': 'sqrt', 'bootstrap': False, 'class_weight': 'balanced_subsample', 'random_state': 42}. Best is trial 68 with value: 0.817833579404119.\n",
      "[I 2021-02-08 19:46:02,249] Trial 77 finished with value: 0.8135987918296701 and parameters: {'criterion': 'entropy', 'n_estimators': 150, 'max_depth': 19, 'min_child_samples': 14, 'min_samples_leaf': 5, 'max_features': 'sqrt', 'bootstrap': False, 'class_weight': 'balanced_subsample', 'random_state': 42}. Best is trial 68 with value: 0.817833579404119.\n",
      "[I 2021-02-08 19:46:05,409] Trial 78 finished with value: 0.7962833646906438 and parameters: {'criterion': 'entropy', 'n_estimators': 100, 'max_depth': 15, 'min_child_samples': 5, 'min_samples_leaf': 10, 'max_features': 'sqrt', 'bootstrap': False, 'class_weight': 'balanced_subsample', 'random_state': 42}. Best is trial 68 with value: 0.817833579404119.\n",
      "[I 2021-02-08 19:46:08,160] Trial 79 finished with value: 0.810424213131726 and parameters: {'criterion': 'entropy', 'n_estimators': 50, 'max_depth': 20, 'min_child_samples': 11, 'min_samples_leaf': 1, 'max_features': 'sqrt', 'bootstrap': False, 'class_weight': 'balanced_subsample', 'random_state': 42}. Best is trial 68 with value: 0.817833579404119.\n",
      "[I 2021-02-08 19:46:13,076] Trial 80 finished with value: 0.7787675193798202 and parameters: {'criterion': 'entropy', 'n_estimators': 200, 'max_depth': 15, 'min_child_samples': 25, 'min_samples_leaf': 36, 'max_features': 'log2', 'bootstrap': False, 'class_weight': 'balanced_subsample', 'random_state': 42}. Best is trial 68 with value: 0.817833579404119.\n",
      "[I 2021-02-08 19:46:18,050] Trial 81 finished with value: 0.813318681366499 and parameters: {'criterion': 'entropy', 'n_estimators': 150, 'max_depth': 16, 'min_child_samples': 15, 'min_samples_leaf': 1, 'max_features': 'sqrt', 'bootstrap': False, 'class_weight': 'balanced_subsample', 'random_state': 42}. Best is trial 68 with value: 0.817833579404119.\n",
      "[I 2021-02-08 19:46:23,501] Trial 82 finished with value: 0.8167642395528504 and parameters: {'criterion': 'entropy', 'n_estimators': 150, 'max_depth': 18, 'min_child_samples': 7, 'min_samples_leaf': 2, 'max_features': 'sqrt', 'bootstrap': False, 'class_weight': 'balanced_subsample', 'random_state': 42}. Best is trial 68 with value: 0.817833579404119.\n",
      "[I 2021-02-08 19:46:29,176] Trial 83 finished with value: 0.8189256875615737 and parameters: {'criterion': 'entropy', 'n_estimators': 150, 'max_depth': 18, 'min_child_samples': 7, 'min_samples_leaf': 3, 'max_features': 'sqrt', 'bootstrap': False, 'class_weight': 'balanced_subsample', 'random_state': 42}. Best is trial 83 with value: 0.8189256875615737.\n",
      "[I 2021-02-08 19:46:32,632] Trial 84 finished with value: 0.7837722644250856 and parameters: {'criterion': 'entropy', 'n_estimators': 100, 'max_depth': 17, 'min_child_samples': 7, 'min_samples_leaf': 28, 'max_features': 'sqrt', 'bootstrap': False, 'class_weight': 'balanced_subsample', 'random_state': 42}. Best is trial 83 with value: 0.8189256875615737.\n",
      "[I 2021-02-08 19:46:40,758] Trial 85 finished with value: 0.8186025028253828 and parameters: {'criterion': 'entropy', 'n_estimators': 250, 'max_depth': 18, 'min_child_samples': 8, 'min_samples_leaf': 3, 'max_features': 'sqrt', 'bootstrap': False, 'class_weight': 'balanced_subsample', 'random_state': 42}. Best is trial 83 with value: 0.8189256875615737.\n",
      "[I 2021-02-08 19:46:48,005] Trial 86 finished with value: 0.8058919482753651 and parameters: {'criterion': 'entropy', 'n_estimators': 250, 'max_depth': 18, 'min_child_samples': 8, 'min_samples_leaf': 8, 'max_features': 'sqrt', 'bootstrap': False, 'class_weight': 'balanced_subsample', 'random_state': 42}. Best is trial 83 with value: 0.8189256875615737.\n",
      "[I 2021-02-08 19:46:56,024] Trial 87 finished with value: 0.8215793019808597 and parameters: {'criterion': 'entropy', 'n_estimators': 250, 'max_depth': 21, 'min_child_samples': 5, 'min_samples_leaf': 3, 'max_features': 'sqrt', 'bootstrap': False, 'class_weight': 'balanced_subsample', 'random_state': 42}. Best is trial 87 with value: 0.8215793019808597.\n",
      "[I 2021-02-08 19:47:03,833] Trial 88 finished with value: 0.8209888393229025 and parameters: {'criterion': 'entropy', 'n_estimators': 250, 'max_depth': 21, 'min_child_samples': 5, 'min_samples_leaf': 4, 'max_features': 'sqrt', 'bootstrap': False, 'class_weight': 'balanced_subsample', 'random_state': 42}. Best is trial 87 with value: 0.8215793019808597.\n",
      "[I 2021-02-08 19:47:09,004] Trial 89 finished with value: 0.8176100213051124 and parameters: {'criterion': 'gini', 'n_estimators': 250, 'max_depth': 23, 'min_child_samples': 5, 'min_samples_leaf': 5, 'max_features': 'sqrt', 'bootstrap': False, 'class_weight': 'balanced_subsample', 'random_state': 42}. Best is trial 87 with value: 0.8215793019808597.\n",
      "[I 2021-02-08 19:47:14,583] Trial 90 finished with value: 0.8176100213051124 and parameters: {'criterion': 'gini', 'n_estimators': 250, 'max_depth': 23, 'min_child_samples': 5, 'min_samples_leaf': 5, 'max_features': 'sqrt', 'bootstrap': False, 'class_weight': 'balanced_subsample', 'random_state': 42}. Best is trial 87 with value: 0.8215793019808597.\n",
      "[I 2021-02-08 19:47:19,455] Trial 91 finished with value: 0.8169590897584739 and parameters: {'criterion': 'gini', 'n_estimators': 250, 'max_depth': 21, 'min_child_samples': 5, 'min_samples_leaf': 5, 'max_features': 'sqrt', 'bootstrap': False, 'class_weight': 'balanced_subsample', 'random_state': 42}. Best is trial 87 with value: 0.8215793019808597.\n",
      "[I 2021-02-08 19:47:24,743] Trial 92 finished with value: 0.8176100213051124 and parameters: {'criterion': 'gini', 'n_estimators': 250, 'max_depth': 23, 'min_child_samples': 5, 'min_samples_leaf': 5, 'max_features': 'sqrt', 'bootstrap': False, 'class_weight': 'balanced_subsample', 'random_state': 42}. Best is trial 87 with value: 0.8215793019808597.\n",
      "[I 2021-02-08 19:47:30,352] Trial 93 finished with value: 0.8118525873380484 and parameters: {'criterion': 'gini', 'n_estimators': 250, 'max_depth': 23, 'min_child_samples': 5, 'min_samples_leaf': 6, 'max_features': 'sqrt', 'bootstrap': False, 'class_weight': 'balanced_subsample', 'random_state': 42}. Best is trial 87 with value: 0.8215793019808597.\n",
      "[I 2021-02-08 19:47:34,857] Trial 94 finished with value: 0.797546153852673 and parameters: {'criterion': 'gini', 'n_estimators': 250, 'max_depth': 27, 'min_child_samples': 10, 'min_samples_leaf': 12, 'max_features': 'sqrt', 'bootstrap': False, 'class_weight': 'balanced_subsample', 'random_state': 42}. Best is trial 87 with value: 0.8215793019808597.\n",
      "[I 2021-02-08 19:47:40,009] Trial 95 finished with value: 0.8049973277633492 and parameters: {'criterion': 'gini', 'n_estimators': 250, 'max_depth': 21, 'min_child_samples': 6, 'min_samples_leaf': 8, 'max_features': 'sqrt', 'bootstrap': False, 'class_weight': 'balanced_subsample', 'random_state': 42}. Best is trial 87 with value: 0.8215793019808597.\n",
      "[I 2021-02-08 19:47:45,342] Trial 96 finished with value: 0.7992972830219068 and parameters: {'criterion': 'gini', 'n_estimators': 250, 'max_depth': 23, 'min_child_samples': 11, 'min_samples_leaf': 10, 'max_features': 'sqrt', 'bootstrap': False, 'class_weight': 'balanced_subsample', 'random_state': 42}. Best is trial 87 with value: 0.8215793019808597.\n",
      "[I 2021-02-08 19:47:50,606] Trial 97 finished with value: 0.8167570595239875 and parameters: {'criterion': 'gini', 'n_estimators': 250, 'max_depth': 25, 'min_child_samples': 9, 'min_samples_leaf': 5, 'max_features': 'sqrt', 'bootstrap': False, 'class_weight': 'balanced_subsample', 'random_state': 42}. Best is trial 87 with value: 0.8215793019808597.\n",
      "[I 2021-02-08 19:47:55,365] Trial 98 finished with value: 0.8075724663451007 and parameters: {'criterion': 'gini', 'n_estimators': 250, 'max_depth': 21, 'min_child_samples': 5, 'min_samples_leaf': 7, 'max_features': 'sqrt', 'bootstrap': False, 'class_weight': 'balanced_subsample', 'random_state': 42}. Best is trial 87 with value: 0.8215793019808597.\n",
      "[I 2021-02-08 19:48:00,483] Trial 99 finished with value: 0.816718227927354 and parameters: {'criterion': 'gini', 'n_estimators': 250, 'max_depth': 22, 'min_child_samples': 5, 'min_samples_leaf': 5, 'max_features': 'sqrt', 'bootstrap': False, 'class_weight': 'balanced_subsample', 'random_state': 42}. Best is trial 87 with value: 0.8215793019808597.\n"
     ]
    },
    {
     "name": "stdout",
     "output_type": "stream",
     "text": [
      "Number of finished trials: 100\n",
      "Best trial:\n",
      "  Value: 0.8215793019808597\n",
      "  Params: \n",
      "    bootstrap: False\n",
      "    class_weight: balanced_subsample\n",
      "    criterion: entropy\n",
      "    max_depth: 21\n",
      "    max_features: sqrt\n",
      "    min_child_samples: 5\n",
      "    min_samples_leaf: 3\n",
      "    n_estimators: 250\n",
      "    random_state: 42\n"
     ]
    }
   ],
   "source": [
    "# creamos un study de optuna para buscar los mejores parámetros de lightgbm\n",
    "study = optuna.create_study(\n",
    "    study_name=\"006-study-challenge\",\n",
    "    storage=\"sqlite:///../006-study-challenge.db\",\n",
    "    sampler=optuna.samplers.TPESampler(seed=SEED),\n",
    "    pruner=optuna.pruners.MedianPruner(n_startup_trials=20, n_warmup_steps=30), # this acts as a early_stopping\n",
    "    direction=\"maximize\",\n",
    "    load_if_exists=True\n",
    ")\n",
    "\n",
    "study.optimize(objective_challenge, n_trials=100)\n",
    "\n",
    "print(\"Number of finished trials: {}\".format(len(study.trials)))\n",
    "\n",
    "print(\"Best trial:\")\n",
    "trial = study.best_trial\n",
    "\n",
    "print(\"  Value: {}\".format(trial.value))\n",
    "\n",
    "print(\"  Params: \")\n",
    "for key, value in trial.params.items():\n",
    "    print(\"    {}: {}\".format(key, value))"
   ]
  },
  {
   "cell_type": "code",
   "execution_count": 16,
   "metadata": {},
   "outputs": [
    {
     "name": "stdout",
     "output_type": "stream",
     "text": [
      "Best params {'bootstrap': False, 'class_weight': 'balanced_subsample', 'criterion': 'entropy', 'max_depth': 21, 'max_features': 'sqrt', 'min_child_samples': 5, 'min_samples_leaf': 3, 'n_estimators': 250, 'random_state': 42}\n"
     ]
    }
   ],
   "source": [
    "print(\"Best params\", trial.params)"
   ]
  },
  {
   "cell_type": "code",
   "execution_count": 23,
   "metadata": {},
   "outputs": [
    {
     "data": {
      "application/vnd.plotly.v1+json": {
       "config": {
        "plotlyServerURL": "https://plot.ly"
       },
       "data": [
        {
         "mode": "markers",
         "name": "Objective Value",
         "type": "scatter",
         "x": [
          0,
          1,
          2,
          3,
          4,
          5,
          6,
          7,
          8,
          9,
          10,
          11,
          12,
          13,
          14,
          15,
          16,
          17,
          18,
          19,
          20,
          21,
          22,
          23,
          24,
          25,
          26,
          27,
          28,
          29,
          30,
          31,
          32,
          33,
          34,
          35,
          36,
          37,
          38,
          39,
          40,
          41,
          42,
          43,
          44,
          45,
          46,
          47,
          48,
          49,
          50,
          51,
          52,
          53,
          54,
          55,
          56,
          57,
          58,
          59,
          60,
          61,
          62,
          63,
          64,
          65,
          66,
          67,
          68,
          69,
          70,
          71,
          72,
          73,
          74,
          75,
          76,
          77,
          78,
          79,
          80,
          81,
          82,
          83,
          84,
          85,
          86,
          87,
          88,
          89,
          90,
          91,
          92,
          93,
          94,
          95,
          96,
          97,
          98,
          99
         ],
         "y": [
          0.7827459472637629,
          0.7710833392467813,
          0.7798987976976947,
          0.7857053401410156,
          0.7808670312142292,
          0.7743312412483125,
          0.7775071361478494,
          0.7838899697612186,
          0.7772838853838744,
          0.7771007221465295,
          0.8066805377122327,
          0.8120441730895157,
          0.8100181580121286,
          0.8082294694404286,
          0.795620488609139,
          0.799219978566103,
          0.7931456787161527,
          0.8022940736210104,
          0.8089041922120458,
          0.7904218447764887,
          0.7720177334630192,
          0.8133946502058573,
          0.8133946502058573,
          0.8069520899989019,
          0.8043259317723602,
          0.7906768605438533,
          0.8048919714194925,
          0.7940353641362453,
          0.8119547643875354,
          0.7861639176830172,
          0.7895183876814169,
          0.8119547643875354,
          0.8169425174280313,
          0.8050186461775025,
          0.8098117082156128,
          0.7814462302710599,
          0.7958380757239535,
          0.7986678171366687,
          0.7899553961391663,
          0.790388980823446,
          0.7873449025009639,
          0.8080095543578173,
          0.8104203520340416,
          0.8176968080929088,
          0.8158301199643759,
          0.8169564021626851,
          0.8123608340173627,
          0.8069259691759675,
          0.7965485361261999,
          0.784679241249696,
          0.7805476941210053,
          0.8123218403447613,
          0.806920632979658,
          0.7934843803052916,
          0.8073856842302342,
          0.799755766718666,
          0.8078472578856686,
          0.8106975718651089,
          0.7938869440423003,
          0.7773422219015341,
          0.8048380245150003,
          0.8148625434364879,
          0.8056387618811681,
          0.8166872040460659,
          0.8095424346628187,
          0.8114074416244884,
          0.8020559824533958,
          0.8138719444451361,
          0.817833579404119,
          0.7804436710987308,
          0.8037120014880474,
          0.8148625434364879,
          0.816194163226536,
          0.8124989320929106,
          0.8130743852749779,
          0.813808466351297,
          0.8031311383377968,
          0.8135987918296701,
          0.7962833646906438,
          0.810424213131726,
          0.7787675193798202,
          0.813318681366499,
          0.8167642395528504,
          0.8189256875615737,
          0.7837722644250856,
          0.8186025028253828,
          0.8058919482753651,
          0.8215793019808597,
          0.8209888393229025,
          0.8176100213051124,
          0.8176100213051124,
          0.8169590897584739,
          0.8176100213051124,
          0.8118525873380484,
          0.797546153852673,
          0.8049973277633492,
          0.7992972830219068,
          0.8167570595239875,
          0.8075724663451007,
          0.816718227927354
         ]
        },
        {
         "name": "Best Value",
         "type": "scatter",
         "x": [
          0,
          1,
          2,
          3,
          4,
          5,
          6,
          7,
          8,
          9,
          10,
          11,
          12,
          13,
          14,
          15,
          16,
          17,
          18,
          19,
          20,
          21,
          22,
          23,
          24,
          25,
          26,
          27,
          28,
          29,
          30,
          31,
          32,
          33,
          34,
          35,
          36,
          37,
          38,
          39,
          40,
          41,
          42,
          43,
          44,
          45,
          46,
          47,
          48,
          49,
          50,
          51,
          52,
          53,
          54,
          55,
          56,
          57,
          58,
          59,
          60,
          61,
          62,
          63,
          64,
          65,
          66,
          67,
          68,
          69,
          70,
          71,
          72,
          73,
          74,
          75,
          76,
          77,
          78,
          79,
          80,
          81,
          82,
          83,
          84,
          85,
          86,
          87,
          88,
          89,
          90,
          91,
          92,
          93,
          94,
          95,
          96,
          97,
          98,
          99
         ],
         "y": [
          0.7827459472637629,
          0.7827459472637629,
          0.7827459472637629,
          0.7857053401410156,
          0.7857053401410156,
          0.7857053401410156,
          0.7857053401410156,
          0.7857053401410156,
          0.7857053401410156,
          0.7857053401410156,
          0.8066805377122327,
          0.8120441730895157,
          0.8120441730895157,
          0.8120441730895157,
          0.8120441730895157,
          0.8120441730895157,
          0.8120441730895157,
          0.8120441730895157,
          0.8120441730895157,
          0.8120441730895157,
          0.8120441730895157,
          0.8133946502058573,
          0.8133946502058573,
          0.8133946502058573,
          0.8133946502058573,
          0.8133946502058573,
          0.8133946502058573,
          0.8133946502058573,
          0.8133946502058573,
          0.8133946502058573,
          0.8133946502058573,
          0.8133946502058573,
          0.8169425174280313,
          0.8169425174280313,
          0.8169425174280313,
          0.8169425174280313,
          0.8169425174280313,
          0.8169425174280313,
          0.8169425174280313,
          0.8169425174280313,
          0.8169425174280313,
          0.8169425174280313,
          0.8169425174280313,
          0.8176968080929088,
          0.8176968080929088,
          0.8176968080929088,
          0.8176968080929088,
          0.8176968080929088,
          0.8176968080929088,
          0.8176968080929088,
          0.8176968080929088,
          0.8176968080929088,
          0.8176968080929088,
          0.8176968080929088,
          0.8176968080929088,
          0.8176968080929088,
          0.8176968080929088,
          0.8176968080929088,
          0.8176968080929088,
          0.8176968080929088,
          0.8176968080929088,
          0.8176968080929088,
          0.8176968080929088,
          0.8176968080929088,
          0.8176968080929088,
          0.8176968080929088,
          0.8176968080929088,
          0.8176968080929088,
          0.817833579404119,
          0.817833579404119,
          0.817833579404119,
          0.817833579404119,
          0.817833579404119,
          0.817833579404119,
          0.817833579404119,
          0.817833579404119,
          0.817833579404119,
          0.817833579404119,
          0.817833579404119,
          0.817833579404119,
          0.817833579404119,
          0.817833579404119,
          0.817833579404119,
          0.8189256875615737,
          0.8189256875615737,
          0.8189256875615737,
          0.8189256875615737,
          0.8215793019808597,
          0.8215793019808597,
          0.8215793019808597,
          0.8215793019808597,
          0.8215793019808597,
          0.8215793019808597,
          0.8215793019808597,
          0.8215793019808597,
          0.8215793019808597,
          0.8215793019808597,
          0.8215793019808597,
          0.8215793019808597,
          0.8215793019808597
         ]
        }
       ],
       "layout": {
        "autosize": true,
        "template": {
         "data": {
          "bar": [
           {
            "error_x": {
             "color": "#2a3f5f"
            },
            "error_y": {
             "color": "#2a3f5f"
            },
            "marker": {
             "line": {
              "color": "#E5ECF6",
              "width": 0.5
             }
            },
            "type": "bar"
           }
          ],
          "barpolar": [
           {
            "marker": {
             "line": {
              "color": "#E5ECF6",
              "width": 0.5
             }
            },
            "type": "barpolar"
           }
          ],
          "carpet": [
           {
            "aaxis": {
             "endlinecolor": "#2a3f5f",
             "gridcolor": "white",
             "linecolor": "white",
             "minorgridcolor": "white",
             "startlinecolor": "#2a3f5f"
            },
            "baxis": {
             "endlinecolor": "#2a3f5f",
             "gridcolor": "white",
             "linecolor": "white",
             "minorgridcolor": "white",
             "startlinecolor": "#2a3f5f"
            },
            "type": "carpet"
           }
          ],
          "choropleth": [
           {
            "colorbar": {
             "outlinewidth": 0,
             "ticks": ""
            },
            "type": "choropleth"
           }
          ],
          "contour": [
           {
            "colorbar": {
             "outlinewidth": 0,
             "ticks": ""
            },
            "colorscale": [
             [
              0,
              "#0d0887"
             ],
             [
              0.1111111111111111,
              "#46039f"
             ],
             [
              0.2222222222222222,
              "#7201a8"
             ],
             [
              0.3333333333333333,
              "#9c179e"
             ],
             [
              0.4444444444444444,
              "#bd3786"
             ],
             [
              0.5555555555555556,
              "#d8576b"
             ],
             [
              0.6666666666666666,
              "#ed7953"
             ],
             [
              0.7777777777777778,
              "#fb9f3a"
             ],
             [
              0.8888888888888888,
              "#fdca26"
             ],
             [
              1,
              "#f0f921"
             ]
            ],
            "type": "contour"
           }
          ],
          "contourcarpet": [
           {
            "colorbar": {
             "outlinewidth": 0,
             "ticks": ""
            },
            "type": "contourcarpet"
           }
          ],
          "heatmap": [
           {
            "colorbar": {
             "outlinewidth": 0,
             "ticks": ""
            },
            "colorscale": [
             [
              0,
              "#0d0887"
             ],
             [
              0.1111111111111111,
              "#46039f"
             ],
             [
              0.2222222222222222,
              "#7201a8"
             ],
             [
              0.3333333333333333,
              "#9c179e"
             ],
             [
              0.4444444444444444,
              "#bd3786"
             ],
             [
              0.5555555555555556,
              "#d8576b"
             ],
             [
              0.6666666666666666,
              "#ed7953"
             ],
             [
              0.7777777777777778,
              "#fb9f3a"
             ],
             [
              0.8888888888888888,
              "#fdca26"
             ],
             [
              1,
              "#f0f921"
             ]
            ],
            "type": "heatmap"
           }
          ],
          "heatmapgl": [
           {
            "colorbar": {
             "outlinewidth": 0,
             "ticks": ""
            },
            "colorscale": [
             [
              0,
              "#0d0887"
             ],
             [
              0.1111111111111111,
              "#46039f"
             ],
             [
              0.2222222222222222,
              "#7201a8"
             ],
             [
              0.3333333333333333,
              "#9c179e"
             ],
             [
              0.4444444444444444,
              "#bd3786"
             ],
             [
              0.5555555555555556,
              "#d8576b"
             ],
             [
              0.6666666666666666,
              "#ed7953"
             ],
             [
              0.7777777777777778,
              "#fb9f3a"
             ],
             [
              0.8888888888888888,
              "#fdca26"
             ],
             [
              1,
              "#f0f921"
             ]
            ],
            "type": "heatmapgl"
           }
          ],
          "histogram": [
           {
            "marker": {
             "colorbar": {
              "outlinewidth": 0,
              "ticks": ""
             }
            },
            "type": "histogram"
           }
          ],
          "histogram2d": [
           {
            "colorbar": {
             "outlinewidth": 0,
             "ticks": ""
            },
            "colorscale": [
             [
              0,
              "#0d0887"
             ],
             [
              0.1111111111111111,
              "#46039f"
             ],
             [
              0.2222222222222222,
              "#7201a8"
             ],
             [
              0.3333333333333333,
              "#9c179e"
             ],
             [
              0.4444444444444444,
              "#bd3786"
             ],
             [
              0.5555555555555556,
              "#d8576b"
             ],
             [
              0.6666666666666666,
              "#ed7953"
             ],
             [
              0.7777777777777778,
              "#fb9f3a"
             ],
             [
              0.8888888888888888,
              "#fdca26"
             ],
             [
              1,
              "#f0f921"
             ]
            ],
            "type": "histogram2d"
           }
          ],
          "histogram2dcontour": [
           {
            "colorbar": {
             "outlinewidth": 0,
             "ticks": ""
            },
            "colorscale": [
             [
              0,
              "#0d0887"
             ],
             [
              0.1111111111111111,
              "#46039f"
             ],
             [
              0.2222222222222222,
              "#7201a8"
             ],
             [
              0.3333333333333333,
              "#9c179e"
             ],
             [
              0.4444444444444444,
              "#bd3786"
             ],
             [
              0.5555555555555556,
              "#d8576b"
             ],
             [
              0.6666666666666666,
              "#ed7953"
             ],
             [
              0.7777777777777778,
              "#fb9f3a"
             ],
             [
              0.8888888888888888,
              "#fdca26"
             ],
             [
              1,
              "#f0f921"
             ]
            ],
            "type": "histogram2dcontour"
           }
          ],
          "mesh3d": [
           {
            "colorbar": {
             "outlinewidth": 0,
             "ticks": ""
            },
            "type": "mesh3d"
           }
          ],
          "parcoords": [
           {
            "line": {
             "colorbar": {
              "outlinewidth": 0,
              "ticks": ""
             }
            },
            "type": "parcoords"
           }
          ],
          "pie": [
           {
            "automargin": true,
            "type": "pie"
           }
          ],
          "scatter": [
           {
            "marker": {
             "colorbar": {
              "outlinewidth": 0,
              "ticks": ""
             }
            },
            "type": "scatter"
           }
          ],
          "scatter3d": [
           {
            "line": {
             "colorbar": {
              "outlinewidth": 0,
              "ticks": ""
             }
            },
            "marker": {
             "colorbar": {
              "outlinewidth": 0,
              "ticks": ""
             }
            },
            "type": "scatter3d"
           }
          ],
          "scattercarpet": [
           {
            "marker": {
             "colorbar": {
              "outlinewidth": 0,
              "ticks": ""
             }
            },
            "type": "scattercarpet"
           }
          ],
          "scattergeo": [
           {
            "marker": {
             "colorbar": {
              "outlinewidth": 0,
              "ticks": ""
             }
            },
            "type": "scattergeo"
           }
          ],
          "scattergl": [
           {
            "marker": {
             "colorbar": {
              "outlinewidth": 0,
              "ticks": ""
             }
            },
            "type": "scattergl"
           }
          ],
          "scattermapbox": [
           {
            "marker": {
             "colorbar": {
              "outlinewidth": 0,
              "ticks": ""
             }
            },
            "type": "scattermapbox"
           }
          ],
          "scatterpolar": [
           {
            "marker": {
             "colorbar": {
              "outlinewidth": 0,
              "ticks": ""
             }
            },
            "type": "scatterpolar"
           }
          ],
          "scatterpolargl": [
           {
            "marker": {
             "colorbar": {
              "outlinewidth": 0,
              "ticks": ""
             }
            },
            "type": "scatterpolargl"
           }
          ],
          "scatterternary": [
           {
            "marker": {
             "colorbar": {
              "outlinewidth": 0,
              "ticks": ""
             }
            },
            "type": "scatterternary"
           }
          ],
          "surface": [
           {
            "colorbar": {
             "outlinewidth": 0,
             "ticks": ""
            },
            "colorscale": [
             [
              0,
              "#0d0887"
             ],
             [
              0.1111111111111111,
              "#46039f"
             ],
             [
              0.2222222222222222,
              "#7201a8"
             ],
             [
              0.3333333333333333,
              "#9c179e"
             ],
             [
              0.4444444444444444,
              "#bd3786"
             ],
             [
              0.5555555555555556,
              "#d8576b"
             ],
             [
              0.6666666666666666,
              "#ed7953"
             ],
             [
              0.7777777777777778,
              "#fb9f3a"
             ],
             [
              0.8888888888888888,
              "#fdca26"
             ],
             [
              1,
              "#f0f921"
             ]
            ],
            "type": "surface"
           }
          ],
          "table": [
           {
            "cells": {
             "fill": {
              "color": "#EBF0F8"
             },
             "line": {
              "color": "white"
             }
            },
            "header": {
             "fill": {
              "color": "#C8D4E3"
             },
             "line": {
              "color": "white"
             }
            },
            "type": "table"
           }
          ]
         },
         "layout": {
          "annotationdefaults": {
           "arrowcolor": "#2a3f5f",
           "arrowhead": 0,
           "arrowwidth": 1
          },
          "coloraxis": {
           "colorbar": {
            "outlinewidth": 0,
            "ticks": ""
           }
          },
          "colorscale": {
           "diverging": [
            [
             0,
             "#8e0152"
            ],
            [
             0.1,
             "#c51b7d"
            ],
            [
             0.2,
             "#de77ae"
            ],
            [
             0.3,
             "#f1b6da"
            ],
            [
             0.4,
             "#fde0ef"
            ],
            [
             0.5,
             "#f7f7f7"
            ],
            [
             0.6,
             "#e6f5d0"
            ],
            [
             0.7,
             "#b8e186"
            ],
            [
             0.8,
             "#7fbc41"
            ],
            [
             0.9,
             "#4d9221"
            ],
            [
             1,
             "#276419"
            ]
           ],
           "sequential": [
            [
             0,
             "#0d0887"
            ],
            [
             0.1111111111111111,
             "#46039f"
            ],
            [
             0.2222222222222222,
             "#7201a8"
            ],
            [
             0.3333333333333333,
             "#9c179e"
            ],
            [
             0.4444444444444444,
             "#bd3786"
            ],
            [
             0.5555555555555556,
             "#d8576b"
            ],
            [
             0.6666666666666666,
             "#ed7953"
            ],
            [
             0.7777777777777778,
             "#fb9f3a"
            ],
            [
             0.8888888888888888,
             "#fdca26"
            ],
            [
             1,
             "#f0f921"
            ]
           ],
           "sequentialminus": [
            [
             0,
             "#0d0887"
            ],
            [
             0.1111111111111111,
             "#46039f"
            ],
            [
             0.2222222222222222,
             "#7201a8"
            ],
            [
             0.3333333333333333,
             "#9c179e"
            ],
            [
             0.4444444444444444,
             "#bd3786"
            ],
            [
             0.5555555555555556,
             "#d8576b"
            ],
            [
             0.6666666666666666,
             "#ed7953"
            ],
            [
             0.7777777777777778,
             "#fb9f3a"
            ],
            [
             0.8888888888888888,
             "#fdca26"
            ],
            [
             1,
             "#f0f921"
            ]
           ]
          },
          "colorway": [
           "#636efa",
           "#EF553B",
           "#00cc96",
           "#ab63fa",
           "#FFA15A",
           "#19d3f3",
           "#FF6692",
           "#B6E880",
           "#FF97FF",
           "#FECB52"
          ],
          "font": {
           "color": "#2a3f5f"
          },
          "geo": {
           "bgcolor": "white",
           "lakecolor": "white",
           "landcolor": "#E5ECF6",
           "showlakes": true,
           "showland": true,
           "subunitcolor": "white"
          },
          "hoverlabel": {
           "align": "left"
          },
          "hovermode": "closest",
          "mapbox": {
           "style": "light"
          },
          "paper_bgcolor": "white",
          "plot_bgcolor": "#E5ECF6",
          "polar": {
           "angularaxis": {
            "gridcolor": "white",
            "linecolor": "white",
            "ticks": ""
           },
           "bgcolor": "#E5ECF6",
           "radialaxis": {
            "gridcolor": "white",
            "linecolor": "white",
            "ticks": ""
           }
          },
          "scene": {
           "xaxis": {
            "backgroundcolor": "#E5ECF6",
            "gridcolor": "white",
            "gridwidth": 2,
            "linecolor": "white",
            "showbackground": true,
            "ticks": "",
            "zerolinecolor": "white"
           },
           "yaxis": {
            "backgroundcolor": "#E5ECF6",
            "gridcolor": "white",
            "gridwidth": 2,
            "linecolor": "white",
            "showbackground": true,
            "ticks": "",
            "zerolinecolor": "white"
           },
           "zaxis": {
            "backgroundcolor": "#E5ECF6",
            "gridcolor": "white",
            "gridwidth": 2,
            "linecolor": "white",
            "showbackground": true,
            "ticks": "",
            "zerolinecolor": "white"
           }
          },
          "shapedefaults": {
           "line": {
            "color": "#2a3f5f"
           }
          },
          "ternary": {
           "aaxis": {
            "gridcolor": "white",
            "linecolor": "white",
            "ticks": ""
           },
           "baxis": {
            "gridcolor": "white",
            "linecolor": "white",
            "ticks": ""
           },
           "bgcolor": "#E5ECF6",
           "caxis": {
            "gridcolor": "white",
            "linecolor": "white",
            "ticks": ""
           }
          },
          "title": {
           "x": 0.05
          },
          "xaxis": {
           "automargin": true,
           "gridcolor": "white",
           "linecolor": "white",
           "ticks": "",
           "title": {
            "standoff": 15
           },
           "zerolinecolor": "white",
           "zerolinewidth": 2
          },
          "yaxis": {
           "automargin": true,
           "gridcolor": "white",
           "linecolor": "white",
           "ticks": "",
           "title": {
            "standoff": 15
           },
           "zerolinecolor": "white",
           "zerolinewidth": 2
          }
         }
        },
        "title": {
         "text": "Optimization History Plot"
        },
        "xaxis": {
         "autorange": true,
         "range": [
          -5.998911465892598,
          104.9989114658926
         ],
         "title": {
          "text": "#Trials"
         },
         "type": "linear"
        },
        "yaxis": {
         "autorange": true,
         "range": [
          0.767384590384094,
          0.825278050843547
         ],
         "title": {
          "text": "Objective Value"
         },
         "type": "linear"
        }
       }
      },
      "image/png": "[encoded data removed]",
      "text/html": [
       "<div>                            <div id=\"833c2846-bc6a-4849-93e0-555b60f0cf73\" class=\"plotly-graph-div\" style=\"height:525px; width:100%;\"></div>            <script type=\"text/javascript\">                require([\"plotly\"], function(Plotly) {                    window.PLOTLYENV=window.PLOTLYENV || {};                                    if (document.getElementById(\"833c2846-bc6a-4849-93e0-555b60f0cf73\")) {                    Plotly.newPlot(                        \"833c2846-bc6a-4849-93e0-555b60f0cf73\",                        [{\"mode\": \"markers\", \"name\": \"Objective Value\", \"type\": \"scatter\", \"x\": [0, 1, 2, 3, 4, 5, 6, 7, 8, 9, 10, 11, 12, 13, 14, 15, 16, 17, 18, 19, 20, 21, 22, 23, 24, 25, 26, 27, 28, 29, 30, 31, 32, 33, 34, 35, 36, 37, 38, 39, 40, 41, 42, 43, 44, 45, 46, 47, 48, 49, 50, 51, 52, 53, 54, 55, 56, 57, 58, 59, 60, 61, 62, 63, 64, 65, 66, 67, 68, 69, 70, 71, 72, 73, 74, 75, 76, 77, 78, 79, 80, 81, 82, 83, 84, 85, 86, 87, 88, 89, 90, 91, 92, 93, 94, 95, 96, 97, 98, 99], \"y\": [0.7827459472637629, 0.7710833392467813, 0.7798987976976947, 0.7857053401410156, 0.7808670312142292, 0.7743312412483125, 0.7775071361478494, 0.7838899697612186, 0.7772838853838744, 0.7771007221465295, 0.8066805377122327, 0.8120441730895157, 0.8100181580121286, 0.8082294694404286, 0.795620488609139, 0.799219978566103, 0.7931456787161527, 0.8022940736210104, 0.8089041922120458, 0.7904218447764887, 0.7720177334630192, 0.8133946502058573, 0.8133946502058573, 0.8069520899989019, 0.8043259317723602, 0.7906768605438533, 0.8048919714194925, 0.7940353641362453, 0.8119547643875354, 0.7861639176830172, 0.7895183876814169, 0.8119547643875354, 0.8169425174280313, 0.8050186461775025, 0.8098117082156128, 0.7814462302710599, 0.7958380757239535, 0.7986678171366687, 0.7899553961391663, 0.790388980823446, 0.7873449025009639, 0.8080095543578173, 0.8104203520340416, 0.8176968080929088, 0.8158301199643759, 0.8169564021626851, 0.8123608340173627, 0.8069259691759675, 0.7965485361261999, 0.784679241249696, 0.7805476941210053, 0.8123218403447613, 0.806920632979658, 0.7934843803052916, 0.8073856842302342, 0.799755766718666, 0.8078472578856686, 0.8106975718651089, 0.7938869440423003, 0.7773422219015341, 0.8048380245150003, 0.8148625434364879, 0.8056387618811681, 0.8166872040460659, 0.8095424346628187, 0.8114074416244884, 0.8020559824533958, 0.8138719444451361, 0.817833579404119, 0.7804436710987308, 0.8037120014880474, 0.8148625434364879, 0.816194163226536, 0.8124989320929106, 0.8130743852749779, 0.813808466351297, 0.8031311383377968, 0.8135987918296701, 0.7962833646906438, 0.810424213131726, 0.7787675193798202, 0.813318681366499, 0.8167642395528504, 0.8189256875615737, 0.7837722644250856, 0.8186025028253828, 0.8058919482753651, 0.8215793019808597, 0.8209888393229025, 0.8176100213051124, 0.8176100213051124, 0.8169590897584739, 0.8176100213051124, 0.8118525873380484, 0.797546153852673, 0.8049973277633492, 0.7992972830219068, 0.8167570595239875, 0.8075724663451007, 0.816718227927354]}, {\"name\": \"Best Value\", \"type\": \"scatter\", \"x\": [0, 1, 2, 3, 4, 5, 6, 7, 8, 9, 10, 11, 12, 13, 14, 15, 16, 17, 18, 19, 20, 21, 22, 23, 24, 25, 26, 27, 28, 29, 30, 31, 32, 33, 34, 35, 36, 37, 38, 39, 40, 41, 42, 43, 44, 45, 46, 47, 48, 49, 50, 51, 52, 53, 54, 55, 56, 57, 58, 59, 60, 61, 62, 63, 64, 65, 66, 67, 68, 69, 70, 71, 72, 73, 74, 75, 76, 77, 78, 79, 80, 81, 82, 83, 84, 85, 86, 87, 88, 89, 90, 91, 92, 93, 94, 95, 96, 97, 98, 99], \"y\": [0.7827459472637629, 0.7827459472637629, 0.7827459472637629, 0.7857053401410156, 0.7857053401410156, 0.7857053401410156, 0.7857053401410156, 0.7857053401410156, 0.7857053401410156, 0.7857053401410156, 0.8066805377122327, 0.8120441730895157, 0.8120441730895157, 0.8120441730895157, 0.8120441730895157, 0.8120441730895157, 0.8120441730895157, 0.8120441730895157, 0.8120441730895157, 0.8120441730895157, 0.8120441730895157, 0.8133946502058573, 0.8133946502058573, 0.8133946502058573, 0.8133946502058573, 0.8133946502058573, 0.8133946502058573, 0.8133946502058573, 0.8133946502058573, 0.8133946502058573, 0.8133946502058573, 0.8133946502058573, 0.8169425174280313, 0.8169425174280313, 0.8169425174280313, 0.8169425174280313, 0.8169425174280313, 0.8169425174280313, 0.8169425174280313, 0.8169425174280313, 0.8169425174280313, 0.8169425174280313, 0.8169425174280313, 0.8176968080929088, 0.8176968080929088, 0.8176968080929088, 0.8176968080929088, 0.8176968080929088, 0.8176968080929088, 0.8176968080929088, 0.8176968080929088, 0.8176968080929088, 0.8176968080929088, 0.8176968080929088, 0.8176968080929088, 0.8176968080929088, 0.8176968080929088, 0.8176968080929088, 0.8176968080929088, 0.8176968080929088, 0.8176968080929088, 0.8176968080929088, 0.8176968080929088, 0.8176968080929088, 0.8176968080929088, 0.8176968080929088, 0.8176968080929088, 0.8176968080929088, 0.817833579404119, 0.817833579404119, 0.817833579404119, 0.817833579404119, 0.817833579404119, 0.817833579404119, 0.817833579404119, 0.817833579404119, 0.817833579404119, 0.817833579404119, 0.817833579404119, 0.817833579404119, 0.817833579404119, 0.817833579404119, 0.817833579404119, 0.8189256875615737, 0.8189256875615737, 0.8189256875615737, 0.8189256875615737, 0.8215793019808597, 0.8215793019808597, 0.8215793019808597, 0.8215793019808597, 0.8215793019808597, 0.8215793019808597, 0.8215793019808597, 0.8215793019808597, 0.8215793019808597, 0.8215793019808597, 0.8215793019808597, 0.8215793019808597, 0.8215793019808597]}],                        {\"template\": {\"data\": {\"bar\": [{\"error_x\": {\"color\": \"#2a3f5f\"}, \"error_y\": {\"color\": \"#2a3f5f\"}, \"marker\": {\"line\": {\"color\": \"#E5ECF6\", \"width\": 0.5}}, \"type\": \"bar\"}], \"barpolar\": [{\"marker\": {\"line\": {\"color\": \"#E5ECF6\", \"width\": 0.5}}, \"type\": \"barpolar\"}], \"carpet\": [{\"aaxis\": {\"endlinecolor\": \"#2a3f5f\", \"gridcolor\": \"white\", \"linecolor\": \"white\", \"minorgridcolor\": \"white\", \"startlinecolor\": \"#2a3f5f\"}, \"baxis\": {\"endlinecolor\": \"#2a3f5f\", \"gridcolor\": \"white\", \"linecolor\": \"white\", \"minorgridcolor\": \"white\", \"startlinecolor\": \"#2a3f5f\"}, \"type\": \"carpet\"}], \"choropleth\": [{\"colorbar\": {\"outlinewidth\": 0, \"ticks\": \"\"}, \"type\": \"choropleth\"}], \"contour\": [{\"colorbar\": {\"outlinewidth\": 0, \"ticks\": \"\"}, \"colorscale\": [[0.0, \"#0d0887\"], [0.1111111111111111, \"#46039f\"], [0.2222222222222222, \"#7201a8\"], [0.3333333333333333, \"#9c179e\"], [0.4444444444444444, \"#bd3786\"], [0.5555555555555556, \"#d8576b\"], [0.6666666666666666, \"#ed7953\"], [0.7777777777777778, \"#fb9f3a\"], [0.8888888888888888, \"#fdca26\"], [1.0, \"#f0f921\"]], \"type\": \"contour\"}], \"contourcarpet\": [{\"colorbar\": {\"outlinewidth\": 0, \"ticks\": \"\"}, \"type\": \"contourcarpet\"}], \"heatmap\": [{\"colorbar\": {\"outlinewidth\": 0, \"ticks\": \"\"}, \"colorscale\": [[0.0, \"#0d0887\"], [0.1111111111111111, \"#46039f\"], [0.2222222222222222, \"#7201a8\"], [0.3333333333333333, \"#9c179e\"], [0.4444444444444444, \"#bd3786\"], [0.5555555555555556, \"#d8576b\"], [0.6666666666666666, \"#ed7953\"], [0.7777777777777778, \"#fb9f3a\"], [0.8888888888888888, \"#fdca26\"], [1.0, \"#f0f921\"]], \"type\": \"heatmap\"}], \"heatmapgl\": [{\"colorbar\": {\"outlinewidth\": 0, \"ticks\": \"\"}, \"colorscale\": [[0.0, \"#0d0887\"], [0.1111111111111111, \"#46039f\"], [0.2222222222222222, \"#7201a8\"], [0.3333333333333333, \"#9c179e\"], [0.4444444444444444, \"#bd3786\"], [0.5555555555555556, \"#d8576b\"], [0.6666666666666666, \"#ed7953\"], [0.7777777777777778, \"#fb9f3a\"], [0.8888888888888888, \"#fdca26\"], [1.0, \"#f0f921\"]], \"type\": \"heatmapgl\"}], \"histogram\": [{\"marker\": {\"colorbar\": {\"outlinewidth\": 0, \"ticks\": \"\"}}, \"type\": \"histogram\"}], \"histogram2d\": [{\"colorbar\": {\"outlinewidth\": 0, \"ticks\": \"\"}, \"colorscale\": [[0.0, \"#0d0887\"], [0.1111111111111111, \"#46039f\"], [0.2222222222222222, \"#7201a8\"], [0.3333333333333333, \"#9c179e\"], [0.4444444444444444, \"#bd3786\"], [0.5555555555555556, \"#d8576b\"], [0.6666666666666666, \"#ed7953\"], [0.7777777777777778, \"#fb9f3a\"], [0.8888888888888888, \"#fdca26\"], [1.0, \"#f0f921\"]], \"type\": \"histogram2d\"}], \"histogram2dcontour\": [{\"colorbar\": {\"outlinewidth\": 0, \"ticks\": \"\"}, \"colorscale\": [[0.0, \"#0d0887\"], [0.1111111111111111, \"#46039f\"], [0.2222222222222222, \"#7201a8\"], [0.3333333333333333, \"#9c179e\"], [0.4444444444444444, \"#bd3786\"], [0.5555555555555556, \"#d8576b\"], [0.6666666666666666, \"#ed7953\"], [0.7777777777777778, \"#fb9f3a\"], [0.8888888888888888, \"#fdca26\"], [1.0, \"#f0f921\"]], \"type\": \"histogram2dcontour\"}], \"mesh3d\": [{\"colorbar\": {\"outlinewidth\": 0, \"ticks\": \"\"}, \"type\": \"mesh3d\"}], \"parcoords\": [{\"line\": {\"colorbar\": {\"outlinewidth\": 0, \"ticks\": \"\"}}, \"type\": \"parcoords\"}], \"pie\": [{\"automargin\": true, \"type\": \"pie\"}], \"scatter\": [{\"marker\": {\"colorbar\": {\"outlinewidth\": 0, \"ticks\": \"\"}}, \"type\": \"scatter\"}], \"scatter3d\": [{\"line\": {\"colorbar\": {\"outlinewidth\": 0, \"ticks\": \"\"}}, \"marker\": {\"colorbar\": {\"outlinewidth\": 0, \"ticks\": \"\"}}, \"type\": \"scatter3d\"}], \"scattercarpet\": [{\"marker\": {\"colorbar\": {\"outlinewidth\": 0, \"ticks\": \"\"}}, \"type\": \"scattercarpet\"}], \"scattergeo\": [{\"marker\": {\"colorbar\": {\"outlinewidth\": 0, \"ticks\": \"\"}}, \"type\": \"scattergeo\"}], \"scattergl\": [{\"marker\": {\"colorbar\": {\"outlinewidth\": 0, \"ticks\": \"\"}}, \"type\": \"scattergl\"}], \"scattermapbox\": [{\"marker\": {\"colorbar\": {\"outlinewidth\": 0, \"ticks\": \"\"}}, \"type\": \"scattermapbox\"}], \"scatterpolar\": [{\"marker\": {\"colorbar\": {\"outlinewidth\": 0, \"ticks\": \"\"}}, \"type\": \"scatterpolar\"}], \"scatterpolargl\": [{\"marker\": {\"colorbar\": {\"outlinewidth\": 0, \"ticks\": \"\"}}, \"type\": \"scatterpolargl\"}], \"scatterternary\": [{\"marker\": {\"colorbar\": {\"outlinewidth\": 0, \"ticks\": \"\"}}, \"type\": \"scatterternary\"}], \"surface\": [{\"colorbar\": {\"outlinewidth\": 0, \"ticks\": \"\"}, \"colorscale\": [[0.0, \"#0d0887\"], [0.1111111111111111, \"#46039f\"], [0.2222222222222222, \"#7201a8\"], [0.3333333333333333, \"#9c179e\"], [0.4444444444444444, \"#bd3786\"], [0.5555555555555556, \"#d8576b\"], [0.6666666666666666, \"#ed7953\"], [0.7777777777777778, \"#fb9f3a\"], [0.8888888888888888, \"#fdca26\"], [1.0, \"#f0f921\"]], \"type\": \"surface\"}], \"table\": [{\"cells\": {\"fill\": {\"color\": \"#EBF0F8\"}, \"line\": {\"color\": \"white\"}}, \"header\": {\"fill\": {\"color\": \"#C8D4E3\"}, \"line\": {\"color\": \"white\"}}, \"type\": \"table\"}]}, \"layout\": {\"annotationdefaults\": {\"arrowcolor\": \"#2a3f5f\", \"arrowhead\": 0, \"arrowwidth\": 1}, \"coloraxis\": {\"colorbar\": {\"outlinewidth\": 0, \"ticks\": \"\"}}, \"colorscale\": {\"diverging\": [[0, \"#8e0152\"], [0.1, \"#c51b7d\"], [0.2, \"#de77ae\"], [0.3, \"#f1b6da\"], [0.4, \"#fde0ef\"], [0.5, \"#f7f7f7\"], [0.6, \"#e6f5d0\"], [0.7, \"#b8e186\"], [0.8, \"#7fbc41\"], [0.9, \"#4d9221\"], [1, \"#276419\"]], \"sequential\": [[0.0, \"#0d0887\"], [0.1111111111111111, \"#46039f\"], [0.2222222222222222, \"#7201a8\"], [0.3333333333333333, \"#9c179e\"], [0.4444444444444444, \"#bd3786\"], [0.5555555555555556, \"#d8576b\"], [0.6666666666666666, \"#ed7953\"], [0.7777777777777778, \"#fb9f3a\"], [0.8888888888888888, \"#fdca26\"], [1.0, \"#f0f921\"]], \"sequentialminus\": [[0.0, \"#0d0887\"], [0.1111111111111111, \"#46039f\"], [0.2222222222222222, \"#7201a8\"], [0.3333333333333333, \"#9c179e\"], [0.4444444444444444, \"#bd3786\"], [0.5555555555555556, \"#d8576b\"], [0.6666666666666666, \"#ed7953\"], [0.7777777777777778, \"#fb9f3a\"], [0.8888888888888888, \"#fdca26\"], [1.0, \"#f0f921\"]]}, \"colorway\": [\"#636efa\", \"#EF553B\", \"#00cc96\", \"#ab63fa\", \"#FFA15A\", \"#19d3f3\", \"#FF6692\", \"#B6E880\", \"#FF97FF\", \"#FECB52\"], \"font\": {\"color\": \"#2a3f5f\"}, \"geo\": {\"bgcolor\": \"white\", \"lakecolor\": \"white\", \"landcolor\": \"#E5ECF6\", \"showlakes\": true, \"showland\": true, \"subunitcolor\": \"white\"}, \"hoverlabel\": {\"align\": \"left\"}, \"hovermode\": \"closest\", \"mapbox\": {\"style\": \"light\"}, \"paper_bgcolor\": \"white\", \"plot_bgcolor\": \"#E5ECF6\", \"polar\": {\"angularaxis\": {\"gridcolor\": \"white\", \"linecolor\": \"white\", \"ticks\": \"\"}, \"bgcolor\": \"#E5ECF6\", \"radialaxis\": {\"gridcolor\": \"white\", \"linecolor\": \"white\", \"ticks\": \"\"}}, \"scene\": {\"xaxis\": {\"backgroundcolor\": \"#E5ECF6\", \"gridcolor\": \"white\", \"gridwidth\": 2, \"linecolor\": \"white\", \"showbackground\": true, \"ticks\": \"\", \"zerolinecolor\": \"white\"}, \"yaxis\": {\"backgroundcolor\": \"#E5ECF6\", \"gridcolor\": \"white\", \"gridwidth\": 2, \"linecolor\": \"white\", \"showbackground\": true, \"ticks\": \"\", \"zerolinecolor\": \"white\"}, \"zaxis\": {\"backgroundcolor\": \"#E5ECF6\", \"gridcolor\": \"white\", \"gridwidth\": 2, \"linecolor\": \"white\", \"showbackground\": true, \"ticks\": \"\", \"zerolinecolor\": \"white\"}}, \"shapedefaults\": {\"line\": {\"color\": \"#2a3f5f\"}}, \"ternary\": {\"aaxis\": {\"gridcolor\": \"white\", \"linecolor\": \"white\", \"ticks\": \"\"}, \"baxis\": {\"gridcolor\": \"white\", \"linecolor\": \"white\", \"ticks\": \"\"}, \"bgcolor\": \"#E5ECF6\", \"caxis\": {\"gridcolor\": \"white\", \"linecolor\": \"white\", \"ticks\": \"\"}}, \"title\": {\"x\": 0.05}, \"xaxis\": {\"automargin\": true, \"gridcolor\": \"white\", \"linecolor\": \"white\", \"ticks\": \"\", \"title\": {\"standoff\": 15}, \"zerolinecolor\": \"white\", \"zerolinewidth\": 2}, \"yaxis\": {\"automargin\": true, \"gridcolor\": \"white\", \"linecolor\": \"white\", \"ticks\": \"\", \"title\": {\"standoff\": 15}, \"zerolinecolor\": \"white\", \"zerolinewidth\": 2}}}, \"title\": {\"text\": \"Optimization History Plot\"}, \"xaxis\": {\"title\": {\"text\": \"#Trials\"}}, \"yaxis\": {\"title\": {\"text\": \"Objective Value\"}}},                        {\"responsive\": true}                    ).then(function(){\n",
       "                            \n",
       "var gd = document.getElementById('833c2846-bc6a-4849-93e0-555b60f0cf73');\n",
       "var x = new MutationObserver(function (mutations, observer) {{\n",
       "        var display = window.getComputedStyle(gd).display;\n",
       "        if (!display || display === 'none') {{\n",
       "            console.log([gd, 'removed!']);\n",
       "            Plotly.purge(gd);\n",
       "            observer.disconnect();\n",
       "        }}\n",
       "}});\n",
       "\n",
       "// Listen for the removal of the full notebook cells\n",
       "var notebookContainer = gd.closest('#notebook-container');\n",
       "if (notebookContainer) {{\n",
       "    x.observe(notebookContainer, {childList: true});\n",
       "}}\n",
       "\n",
       "// Listen for the clearing of the current output cell\n",
       "var outputEl = gd.closest('.output');\n",
       "if (outputEl) {{\n",
       "    x.observe(outputEl, {childList: true});\n",
       "}}\n",
       "\n",
       "                        })                };                });            </script>        </div>"
      ]
     },
     "metadata": {},
     "output_type": "display_data"
    }
   ],
   "source": [
    "# jupyter lab needs plotly extension widget\n",
    "# https://github.com/plotly/plotly.py#jupyterlab-support-python-35\n",
    "# https://colab.research.google.com/github/optuna/optuna/blob/master/examples/quickstart.ipynb#scrollTo=Jd4Ew4Kt_IIm\n",
    "optuna.visualization.plot_optimization_history(study)\n",
    "# optuna.visualization.plot_param_importances(study)\n",
    "# optuna.visualization.matplotlib.plot_param_importances(study)\n"
   ]
  },
  {
   "cell_type": "code",
   "execution_count": 24,
   "metadata": {},
   "outputs": [
    {
     "data": {
      "application/vnd.plotly.v1+json": {
       "config": {
        "plotlyServerURL": "https://plot.ly"
       },
       "data": [
        {
         "marker": {
          "color": [
           0,
           1,
           2,
           3,
           4,
           5,
           6,
           7,
           8,
           9,
           10,
           11,
           12,
           13,
           14,
           15,
           16,
           17,
           18,
           19,
           20,
           21,
           22,
           23,
           24,
           25,
           26,
           27,
           28,
           29,
           30,
           31,
           32,
           33,
           34,
           35,
           36,
           37,
           38,
           39,
           40,
           41,
           42,
           43,
           44,
           45,
           46,
           47,
           48,
           49,
           50,
           51,
           52,
           53,
           54,
           55,
           56,
           57,
           58,
           59,
           60,
           61,
           62,
           63,
           64,
           65,
           66,
           67,
           68,
           69,
           70,
           71,
           72,
           73,
           74,
           75,
           76,
           77,
           78,
           79,
           80,
           81,
           82,
           83,
           84,
           85,
           86,
           87,
           88,
           89,
           90,
           91,
           92,
           93,
           94,
           95,
           96,
           97,
           98,
           99
          ],
          "colorbar": {
           "title": {
            "text": "#Trials"
           },
           "x": 1,
           "xpad": 40,
           "y": 0.5
          },
          "colorscale": [
           [
            0,
            "rgb(247,251,255)"
           ],
           [
            0.125,
            "rgb(222,235,247)"
           ],
           [
            0.25,
            "rgb(198,219,239)"
           ],
           [
            0.375,
            "rgb(158,202,225)"
           ],
           [
            0.5,
            "rgb(107,174,214)"
           ],
           [
            0.625,
            "rgb(66,146,198)"
           ],
           [
            0.75,
            "rgb(33,113,181)"
           ],
           [
            0.875,
            "rgb(8,81,156)"
           ],
           [
            1,
            "rgb(8,48,107)"
           ]
          ],
          "line": {
           "color": "Grey",
           "width": 0.5
          },
          "showscale": true
         },
         "mode": "markers",
         "showlegend": false,
         "type": "scatter",
         "x": [
          false,
          false,
          false,
          false,
          false,
          true,
          false,
          false,
          false,
          false,
          true,
          true,
          true,
          true,
          true,
          true,
          true,
          true,
          true,
          true,
          true,
          true,
          true,
          true,
          true,
          true,
          true,
          true,
          true,
          true,
          true,
          true,
          true,
          true,
          true,
          true,
          true,
          true,
          true,
          true,
          false,
          true,
          true,
          true,
          true,
          true,
          false,
          true,
          true,
          true,
          false,
          true,
          true,
          true,
          true,
          true,
          true,
          true,
          true,
          true,
          true,
          false,
          false,
          false,
          false,
          false,
          false,
          false,
          false,
          false,
          false,
          false,
          false,
          false,
          false,
          false,
          false,
          false,
          false,
          false,
          false,
          false,
          false,
          false,
          false,
          false,
          false,
          false,
          false,
          false,
          false,
          false,
          false,
          false,
          false,
          false,
          false,
          false,
          false,
          false
         ],
         "xaxis": "x",
         "y": [
          0.7827459472637629,
          0.7710833392467813,
          0.7798987976976947,
          0.7857053401410156,
          0.7808670312142292,
          0.7743312412483125,
          0.7775071361478494,
          0.7838899697612186,
          0.7772838853838744,
          0.7771007221465295,
          0.8066805377122327,
          0.8120441730895157,
          0.8100181580121286,
          0.8082294694404286,
          0.795620488609139,
          0.799219978566103,
          0.7931456787161527,
          0.8022940736210104,
          0.8089041922120458,
          0.7904218447764887,
          0.7720177334630192,
          0.8133946502058573,
          0.8133946502058573,
          0.8069520899989019,
          0.8043259317723602,
          0.7906768605438533,
          0.8048919714194925,
          0.7940353641362453,
          0.8119547643875354,
          0.7861639176830172,
          0.7895183876814169,
          0.8119547643875354,
          0.8169425174280313,
          0.8050186461775025,
          0.8098117082156128,
          0.7814462302710599,
          0.7958380757239535,
          0.7986678171366687,
          0.7899553961391663,
          0.790388980823446,
          0.7873449025009639,
          0.8080095543578173,
          0.8104203520340416,
          0.8176968080929088,
          0.8158301199643759,
          0.8169564021626851,
          0.8123608340173627,
          0.8069259691759675,
          0.7965485361261999,
          0.784679241249696,
          0.7805476941210053,
          0.8123218403447613,
          0.806920632979658,
          0.7934843803052916,
          0.8073856842302342,
          0.799755766718666,
          0.8078472578856686,
          0.8106975718651089,
          0.7938869440423003,
          0.7773422219015341,
          0.8048380245150003,
          0.8148625434364879,
          0.8056387618811681,
          0.8166872040460659,
          0.8095424346628187,
          0.8114074416244884,
          0.8020559824533958,
          0.8138719444451361,
          0.817833579404119,
          0.7804436710987308,
          0.8037120014880474,
          0.8148625434364879,
          0.816194163226536,
          0.8124989320929106,
          0.8130743852749779,
          0.813808466351297,
          0.8031311383377968,
          0.8135987918296701,
          0.7962833646906438,
          0.810424213131726,
          0.7787675193798202,
          0.813318681366499,
          0.8167642395528504,
          0.8189256875615737,
          0.7837722644250856,
          0.8186025028253828,
          0.8058919482753651,
          0.8215793019808597,
          0.8209888393229025,
          0.8176100213051124,
          0.8176100213051124,
          0.8169590897584739,
          0.8176100213051124,
          0.8118525873380484,
          0.797546153852673,
          0.8049973277633492,
          0.7992972830219068,
          0.8167570595239875,
          0.8075724663451007,
          0.816718227927354
         ],
         "yaxis": "y"
        },
        {
         "marker": {
          "color": [
           0,
           1,
           2,
           3,
           4,
           5,
           6,
           7,
           8,
           9,
           10,
           11,
           12,
           13,
           14,
           15,
           16,
           17,
           18,
           19,
           20,
           21,
           22,
           23,
           24,
           25,
           26,
           27,
           28,
           29,
           30,
           31,
           32,
           33,
           34,
           35,
           36,
           37,
           38,
           39,
           40,
           41,
           42,
           43,
           44,
           45,
           46,
           47,
           48,
           49,
           50,
           51,
           52,
           53,
           54,
           55,
           56,
           57,
           58,
           59,
           60,
           61,
           62,
           63,
           64,
           65,
           66,
           67,
           68,
           69,
           70,
           71,
           72,
           73,
           74,
           75,
           76,
           77,
           78,
           79,
           80,
           81,
           82,
           83,
           84,
           85,
           86,
           87,
           88,
           89,
           90,
           91,
           92,
           93,
           94,
           95,
           96,
           97,
           98,
           99
          ],
          "colorbar": {
           "title": {
            "text": "#Trials"
           },
           "x": 1,
           "xpad": 40
          },
          "colorscale": [
           [
            0,
            "rgb(247,251,255)"
           ],
           [
            0.125,
            "rgb(222,235,247)"
           ],
           [
            0.25,
            "rgb(198,219,239)"
           ],
           [
            0.375,
            "rgb(158,202,225)"
           ],
           [
            0.5,
            "rgb(107,174,214)"
           ],
           [
            0.625,
            "rgb(66,146,198)"
           ],
           [
            0.75,
            "rgb(33,113,181)"
           ],
           [
            0.875,
            "rgb(8,81,156)"
           ],
           [
            1,
            "rgb(8,48,107)"
           ]
          ],
          "line": {
           "color": "Grey",
           "width": 0.5
          },
          "showscale": false
         },
         "mode": "markers",
         "showlegend": false,
         "type": "scatter",
         "x": [
          "balanced_subsample",
          "balanced_subsample",
          "balanced_subsample",
          "balanced_subsample",
          "balanced_subsample",
          "balanced_subsample",
          "balanced_subsample",
          "balanced_subsample",
          "balanced_subsample",
          "balanced_subsample",
          "balanced_subsample",
          "balanced_subsample",
          "balanced_subsample",
          "balanced_subsample",
          "balanced_subsample",
          "balanced_subsample",
          "balanced_subsample",
          "balanced_subsample",
          "balanced_subsample",
          "balanced_subsample",
          "balanced_subsample",
          "balanced_subsample",
          "balanced_subsample",
          "balanced_subsample",
          "balanced_subsample",
          "balanced_subsample",
          "balanced_subsample",
          "balanced_subsample",
          "balanced_subsample",
          "balanced_subsample",
          "balanced_subsample",
          "balanced_subsample",
          "balanced_subsample",
          "balanced_subsample",
          "balanced_subsample",
          "balanced_subsample",
          "balanced_subsample",
          "balanced_subsample",
          "balanced_subsample",
          "balanced_subsample",
          "balanced_subsample",
          "balanced_subsample",
          "balanced_subsample",
          "balanced_subsample",
          "balanced_subsample",
          "balanced_subsample",
          "balanced_subsample",
          "balanced_subsample",
          "balanced_subsample",
          "balanced_subsample",
          "balanced_subsample",
          "balanced_subsample",
          "balanced_subsample",
          "balanced_subsample",
          "balanced_subsample",
          "balanced_subsample",
          "balanced_subsample",
          "balanced_subsample",
          "balanced_subsample",
          "balanced_subsample",
          "balanced_subsample",
          "balanced_subsample",
          "balanced_subsample",
          "balanced_subsample",
          "balanced_subsample",
          "balanced_subsample",
          "balanced_subsample",
          "balanced_subsample",
          "balanced_subsample",
          "balanced_subsample",
          "balanced_subsample",
          "balanced_subsample",
          "balanced_subsample",
          "balanced_subsample",
          "balanced_subsample",
          "balanced_subsample",
          "balanced_subsample",
          "balanced_subsample",
          "balanced_subsample",
          "balanced_subsample",
          "balanced_subsample",
          "balanced_subsample",
          "balanced_subsample",
          "balanced_subsample",
          "balanced_subsample",
          "balanced_subsample",
          "balanced_subsample",
          "balanced_subsample",
          "balanced_subsample",
          "balanced_subsample",
          "balanced_subsample",
          "balanced_subsample",
          "balanced_subsample",
          "balanced_subsample",
          "balanced_subsample",
          "balanced_subsample",
          "balanced_subsample",
          "balanced_subsample",
          "balanced_subsample",
          "balanced_subsample"
         ],
         "xaxis": "x2",
         "y": [
          0.7827459472637629,
          0.7710833392467813,
          0.7798987976976947,
          0.7857053401410156,
          0.7808670312142292,
          0.7743312412483125,
          0.7775071361478494,
          0.7838899697612186,
          0.7772838853838744,
          0.7771007221465295,
          0.8066805377122327,
          0.8120441730895157,
          0.8100181580121286,
          0.8082294694404286,
          0.795620488609139,
          0.799219978566103,
          0.7931456787161527,
          0.8022940736210104,
          0.8089041922120458,
          0.7904218447764887,
          0.7720177334630192,
          0.8133946502058573,
          0.8133946502058573,
          0.8069520899989019,
          0.8043259317723602,
          0.7906768605438533,
          0.8048919714194925,
          0.7940353641362453,
          0.8119547643875354,
          0.7861639176830172,
          0.7895183876814169,
          0.8119547643875354,
          0.8169425174280313,
          0.8050186461775025,
          0.8098117082156128,
          0.7814462302710599,
          0.7958380757239535,
          0.7986678171366687,
          0.7899553961391663,
          0.790388980823446,
          0.7873449025009639,
          0.8080095543578173,
          0.8104203520340416,
          0.8176968080929088,
          0.8158301199643759,
          0.8169564021626851,
          0.8123608340173627,
          0.8069259691759675,
          0.7965485361261999,
          0.784679241249696,
          0.7805476941210053,
          0.8123218403447613,
          0.806920632979658,
          0.7934843803052916,
          0.8073856842302342,
          0.799755766718666,
          0.8078472578856686,
          0.8106975718651089,
          0.7938869440423003,
          0.7773422219015341,
          0.8048380245150003,
          0.8148625434364879,
          0.8056387618811681,
          0.8166872040460659,
          0.8095424346628187,
          0.8114074416244884,
          0.8020559824533958,
          0.8138719444451361,
          0.817833579404119,
          0.7804436710987308,
          0.8037120014880474,
          0.8148625434364879,
          0.816194163226536,
          0.8124989320929106,
          0.8130743852749779,
          0.813808466351297,
          0.8031311383377968,
          0.8135987918296701,
          0.7962833646906438,
          0.810424213131726,
          0.7787675193798202,
          0.813318681366499,
          0.8167642395528504,
          0.8189256875615737,
          0.7837722644250856,
          0.8186025028253828,
          0.8058919482753651,
          0.8215793019808597,
          0.8209888393229025,
          0.8176100213051124,
          0.8176100213051124,
          0.8169590897584739,
          0.8176100213051124,
          0.8118525873380484,
          0.797546153852673,
          0.8049973277633492,
          0.7992972830219068,
          0.8167570595239875,
          0.8075724663451007,
          0.816718227927354
         ],
         "yaxis": "y2"
        },
        {
         "marker": {
          "color": [
           0,
           1,
           2,
           3,
           4,
           5,
           6,
           7,
           8,
           9,
           10,
           11,
           12,
           13,
           14,
           15,
           16,
           17,
           18,
           19,
           20,
           21,
           22,
           23,
           24,
           25,
           26,
           27,
           28,
           29,
           30,
           31,
           32,
           33,
           34,
           35,
           36,
           37,
           38,
           39,
           40,
           41,
           42,
           43,
           44,
           45,
           46,
           47,
           48,
           49,
           50,
           51,
           52,
           53,
           54,
           55,
           56,
           57,
           58,
           59,
           60,
           61,
           62,
           63,
           64,
           65,
           66,
           67,
           68,
           69,
           70,
           71,
           72,
           73,
           74,
           75,
           76,
           77,
           78,
           79,
           80,
           81,
           82,
           83,
           84,
           85,
           86,
           87,
           88,
           89,
           90,
           91,
           92,
           93,
           94,
           95,
           96,
           97,
           98,
           99
          ],
          "colorbar": {
           "title": {
            "text": "#Trials"
           },
           "x": 1,
           "xpad": 40
          },
          "colorscale": [
           [
            0,
            "rgb(247,251,255)"
           ],
           [
            0.125,
            "rgb(222,235,247)"
           ],
           [
            0.25,
            "rgb(198,219,239)"
           ],
           [
            0.375,
            "rgb(158,202,225)"
           ],
           [
            0.5,
            "rgb(107,174,214)"
           ],
           [
            0.625,
            "rgb(66,146,198)"
           ],
           [
            0.75,
            "rgb(33,113,181)"
           ],
           [
            0.875,
            "rgb(8,81,156)"
           ],
           [
            1,
            "rgb(8,48,107)"
           ]
          ],
          "line": {
           "color": "Grey",
           "width": 0.5
          },
          "showscale": false
         },
         "mode": "markers",
         "showlegend": false,
         "type": "scatter",
         "x": [
          "gini",
          "gini",
          "gini",
          "entropy",
          "gini",
          "entropy",
          "gini",
          "gini",
          "entropy",
          "gini",
          "entropy",
          "entropy",
          "entropy",
          "entropy",
          "entropy",
          "entropy",
          "entropy",
          "entropy",
          "entropy",
          "entropy",
          "entropy",
          "entropy",
          "entropy",
          "entropy",
          "entropy",
          "entropy",
          "entropy",
          "entropy",
          "entropy",
          "entropy",
          "entropy",
          "entropy",
          "entropy",
          "entropy",
          "entropy",
          "entropy",
          "entropy",
          "gini",
          "entropy",
          "gini",
          "entropy",
          "entropy",
          "entropy",
          "entropy",
          "entropy",
          "entropy",
          "entropy",
          "gini",
          "entropy",
          "entropy",
          "entropy",
          "entropy",
          "entropy",
          "entropy",
          "entropy",
          "entropy",
          "entropy",
          "entropy",
          "entropy",
          "entropy",
          "gini",
          "entropy",
          "entropy",
          "entropy",
          "entropy",
          "entropy",
          "entropy",
          "entropy",
          "entropy",
          "entropy",
          "entropy",
          "entropy",
          "entropy",
          "entropy",
          "entropy",
          "entropy",
          "entropy",
          "entropy",
          "entropy",
          "entropy",
          "entropy",
          "entropy",
          "entropy",
          "entropy",
          "entropy",
          "entropy",
          "entropy",
          "entropy",
          "entropy",
          "gini",
          "gini",
          "gini",
          "gini",
          "gini",
          "gini",
          "gini",
          "gini",
          "gini",
          "gini",
          "gini"
         ],
         "xaxis": "x3",
         "y": [
          0.7827459472637629,
          0.7710833392467813,
          0.7798987976976947,
          0.7857053401410156,
          0.7808670312142292,
          0.7743312412483125,
          0.7775071361478494,
          0.7838899697612186,
          0.7772838853838744,
          0.7771007221465295,
          0.8066805377122327,
          0.8120441730895157,
          0.8100181580121286,
          0.8082294694404286,
          0.795620488609139,
          0.799219978566103,
          0.7931456787161527,
          0.8022940736210104,
          0.8089041922120458,
          0.7904218447764887,
          0.7720177334630192,
          0.8133946502058573,
          0.8133946502058573,
          0.8069520899989019,
          0.8043259317723602,
          0.7906768605438533,
          0.8048919714194925,
          0.7940353641362453,
          0.8119547643875354,
          0.7861639176830172,
          0.7895183876814169,
          0.8119547643875354,
          0.8169425174280313,
          0.8050186461775025,
          0.8098117082156128,
          0.7814462302710599,
          0.7958380757239535,
          0.7986678171366687,
          0.7899553961391663,
          0.790388980823446,
          0.7873449025009639,
          0.8080095543578173,
          0.8104203520340416,
          0.8176968080929088,
          0.8158301199643759,
          0.8169564021626851,
          0.8123608340173627,
          0.8069259691759675,
          0.7965485361261999,
          0.784679241249696,
          0.7805476941210053,
          0.8123218403447613,
          0.806920632979658,
          0.7934843803052916,
          0.8073856842302342,
          0.799755766718666,
          0.8078472578856686,
          0.8106975718651089,
          0.7938869440423003,
          0.7773422219015341,
          0.8048380245150003,
          0.8148625434364879,
          0.8056387618811681,
          0.8166872040460659,
          0.8095424346628187,
          0.8114074416244884,
          0.8020559824533958,
          0.8138719444451361,
          0.817833579404119,
          0.7804436710987308,
          0.8037120014880474,
          0.8148625434364879,
          0.816194163226536,
          0.8124989320929106,
          0.8130743852749779,
          0.813808466351297,
          0.8031311383377968,
          0.8135987918296701,
          0.7962833646906438,
          0.810424213131726,
          0.7787675193798202,
          0.813318681366499,
          0.8167642395528504,
          0.8189256875615737,
          0.7837722644250856,
          0.8186025028253828,
          0.8058919482753651,
          0.8215793019808597,
          0.8209888393229025,
          0.8176100213051124,
          0.8176100213051124,
          0.8169590897584739,
          0.8176100213051124,
          0.8118525873380484,
          0.797546153852673,
          0.8049973277633492,
          0.7992972830219068,
          0.8167570595239875,
          0.8075724663451007,
          0.816718227927354
         ],
         "yaxis": "y3"
        },
        {
         "marker": {
          "color": [
           0,
           1,
           2,
           3,
           4,
           5,
           6,
           7,
           8,
           9,
           10,
           11,
           12,
           13,
           14,
           15,
           16,
           17,
           18,
           19,
           20,
           21,
           22,
           23,
           24,
           25,
           26,
           27,
           28,
           29,
           30,
           31,
           32,
           33,
           34,
           35,
           36,
           37,
           38,
           39,
           40,
           41,
           42,
           43,
           44,
           45,
           46,
           47,
           48,
           49,
           50,
           51,
           52,
           53,
           54,
           55,
           56,
           57,
           58,
           59,
           60,
           61,
           62,
           63,
           64,
           65,
           66,
           67,
           68,
           69,
           70,
           71,
           72,
           73,
           74,
           75,
           76,
           77,
           78,
           79,
           80,
           81,
           82,
           83,
           84,
           85,
           86,
           87,
           88,
           89,
           90,
           91,
           92,
           93,
           94,
           95,
           96,
           97,
           98,
           99
          ],
          "colorbar": {
           "title": {
            "text": "#Trials"
           },
           "x": 1,
           "xpad": 40
          },
          "colorscale": [
           [
            0,
            "rgb(247,251,255)"
           ],
           [
            0.125,
            "rgb(222,235,247)"
           ],
           [
            0.25,
            "rgb(198,219,239)"
           ],
           [
            0.375,
            "rgb(158,202,225)"
           ],
           [
            0.5,
            "rgb(107,174,214)"
           ],
           [
            0.625,
            "rgb(66,146,198)"
           ],
           [
            0.75,
            "rgb(33,113,181)"
           ],
           [
            0.875,
            "rgb(8,81,156)"
           ],
           [
            1,
            "rgb(8,48,107)"
           ]
          ],
          "line": {
           "color": "Grey",
           "width": 0.5
          },
          "showscale": false
         },
         "mode": "markers",
         "showlegend": false,
         "type": "scatter",
         "x": [
          26,
          9,
          20,
          18,
          16,
          18,
          19,
          16,
          14,
          25,
          11,
          11,
          11,
          11,
          9,
          12,
          12,
          10,
          13,
          9,
          10,
          14,
          14,
          14,
          14,
          12,
          15,
          13,
          17,
          22,
          10,
          17,
          15,
          15,
          13,
          21,
          16,
          14,
          13,
          18,
          15,
          17,
          19,
          16,
          16,
          16,
          16,
          18,
          17,
          16,
          20,
          14,
          15,
          16,
          14,
          15,
          14,
          14,
          12,
          13,
          16,
          16,
          15,
          16,
          15,
          18,
          17,
          16,
          19,
          24,
          19,
          16,
          17,
          18,
          17,
          16,
          14,
          19,
          15,
          20,
          15,
          16,
          18,
          18,
          17,
          18,
          18,
          21,
          21,
          23,
          23,
          21,
          23,
          23,
          27,
          21,
          23,
          25,
          21,
          22
         ],
         "xaxis": "x4",
         "y": [
          0.7827459472637629,
          0.7710833392467813,
          0.7798987976976947,
          0.7857053401410156,
          0.7808670312142292,
          0.7743312412483125,
          0.7775071361478494,
          0.7838899697612186,
          0.7772838853838744,
          0.7771007221465295,
          0.8066805377122327,
          0.8120441730895157,
          0.8100181580121286,
          0.8082294694404286,
          0.795620488609139,
          0.799219978566103,
          0.7931456787161527,
          0.8022940736210104,
          0.8089041922120458,
          0.7904218447764887,
          0.7720177334630192,
          0.8133946502058573,
          0.8133946502058573,
          0.8069520899989019,
          0.8043259317723602,
          0.7906768605438533,
          0.8048919714194925,
          0.7940353641362453,
          0.8119547643875354,
          0.7861639176830172,
          0.7895183876814169,
          0.8119547643875354,
          0.8169425174280313,
          0.8050186461775025,
          0.8098117082156128,
          0.7814462302710599,
          0.7958380757239535,
          0.7986678171366687,
          0.7899553961391663,
          0.790388980823446,
          0.7873449025009639,
          0.8080095543578173,
          0.8104203520340416,
          0.8176968080929088,
          0.8158301199643759,
          0.8169564021626851,
          0.8123608340173627,
          0.8069259691759675,
          0.7965485361261999,
          0.784679241249696,
          0.7805476941210053,
          0.8123218403447613,
          0.806920632979658,
          0.7934843803052916,
          0.8073856842302342,
          0.799755766718666,
          0.8078472578856686,
          0.8106975718651089,
          0.7938869440423003,
          0.7773422219015341,
          0.8048380245150003,
          0.8148625434364879,
          0.8056387618811681,
          0.8166872040460659,
          0.8095424346628187,
          0.8114074416244884,
          0.8020559824533958,
          0.8138719444451361,
          0.817833579404119,
          0.7804436710987308,
          0.8037120014880474,
          0.8148625434364879,
          0.816194163226536,
          0.8124989320929106,
          0.8130743852749779,
          0.813808466351297,
          0.8031311383377968,
          0.8135987918296701,
          0.7962833646906438,
          0.810424213131726,
          0.7787675193798202,
          0.813318681366499,
          0.8167642395528504,
          0.8189256875615737,
          0.7837722644250856,
          0.8186025028253828,
          0.8058919482753651,
          0.8215793019808597,
          0.8209888393229025,
          0.8176100213051124,
          0.8176100213051124,
          0.8169590897584739,
          0.8176100213051124,
          0.8118525873380484,
          0.797546153852673,
          0.8049973277633492,
          0.7992972830219068,
          0.8167570595239875,
          0.8075724663451007,
          0.816718227927354
         ],
         "yaxis": "y4"
        },
        {
         "marker": {
          "color": [
           0,
           1,
           2,
           3,
           4,
           5,
           6,
           7,
           8,
           9,
           10,
           11,
           12,
           13,
           14,
           15,
           16,
           17,
           18,
           19,
           20,
           21,
           22,
           23,
           24,
           25,
           26,
           27,
           28,
           29,
           30,
           31,
           32,
           33,
           34,
           35,
           36,
           37,
           38,
           39,
           40,
           41,
           42,
           43,
           44,
           45,
           46,
           47,
           48,
           49,
           50,
           51,
           52,
           53,
           54,
           55,
           56,
           57,
           58,
           59,
           60,
           61,
           62,
           63,
           64,
           65,
           66,
           67,
           68,
           69,
           70,
           71,
           72,
           73,
           74,
           75,
           76,
           77,
           78,
           79,
           80,
           81,
           82,
           83,
           84,
           85,
           86,
           87,
           88,
           89,
           90,
           91,
           92,
           93,
           94,
           95,
           96,
           97,
           98,
           99
          ],
          "colorbar": {
           "title": {
            "text": "#Trials"
           },
           "x": 1,
           "xpad": 40
          },
          "colorscale": [
           [
            0,
            "rgb(247,251,255)"
           ],
           [
            0.125,
            "rgb(222,235,247)"
           ],
           [
            0.25,
            "rgb(198,219,239)"
           ],
           [
            0.375,
            "rgb(158,202,225)"
           ],
           [
            0.5,
            "rgb(107,174,214)"
           ],
           [
            0.625,
            "rgb(66,146,198)"
           ],
           [
            0.75,
            "rgb(33,113,181)"
           ],
           [
            0.875,
            "rgb(8,81,156)"
           ],
           [
            1,
            "rgb(8,48,107)"
           ]
          ],
          "line": {
           "color": "Grey",
           "width": 0.5
          },
          "showscale": false
         },
         "mode": "markers",
         "showlegend": false,
         "type": "scatter",
         "x": [
          "log2",
          "log2",
          "sqrt",
          "auto",
          "log2",
          "auto",
          "sqrt",
          "auto",
          "auto",
          "sqrt",
          "auto",
          "auto",
          "auto",
          "auto",
          "auto",
          "auto",
          "auto",
          "auto",
          "auto",
          "auto",
          "log2",
          "auto",
          "auto",
          "auto",
          "auto",
          "sqrt",
          "auto",
          "auto",
          "auto",
          "log2",
          "auto",
          "auto",
          "auto",
          "auto",
          "log2",
          "auto",
          "sqrt",
          "auto",
          "auto",
          "log2",
          "auto",
          "auto",
          "auto",
          "auto",
          "auto",
          "sqrt",
          "sqrt",
          "sqrt",
          "sqrt",
          "sqrt",
          "sqrt",
          "auto",
          "auto",
          "auto",
          "auto",
          "auto",
          "sqrt",
          "auto",
          "auto",
          "auto",
          "auto",
          "sqrt",
          "sqrt",
          "sqrt",
          "sqrt",
          "sqrt",
          "sqrt",
          "sqrt",
          "sqrt",
          "sqrt",
          "sqrt",
          "sqrt",
          "sqrt",
          "sqrt",
          "sqrt",
          "sqrt",
          "sqrt",
          "sqrt",
          "sqrt",
          "sqrt",
          "log2",
          "sqrt",
          "sqrt",
          "sqrt",
          "sqrt",
          "sqrt",
          "sqrt",
          "sqrt",
          "sqrt",
          "sqrt",
          "sqrt",
          "sqrt",
          "sqrt",
          "sqrt",
          "sqrt",
          "sqrt",
          "sqrt",
          "sqrt",
          "sqrt",
          "sqrt"
         ],
         "xaxis": "x5",
         "y": [
          0.7827459472637629,
          0.7710833392467813,
          0.7798987976976947,
          0.7857053401410156,
          0.7808670312142292,
          0.7743312412483125,
          0.7775071361478494,
          0.7838899697612186,
          0.7772838853838744,
          0.7771007221465295,
          0.8066805377122327,
          0.8120441730895157,
          0.8100181580121286,
          0.8082294694404286,
          0.795620488609139,
          0.799219978566103,
          0.7931456787161527,
          0.8022940736210104,
          0.8089041922120458,
          0.7904218447764887,
          0.7720177334630192,
          0.8133946502058573,
          0.8133946502058573,
          0.8069520899989019,
          0.8043259317723602,
          0.7906768605438533,
          0.8048919714194925,
          0.7940353641362453,
          0.8119547643875354,
          0.7861639176830172,
          0.7895183876814169,
          0.8119547643875354,
          0.8169425174280313,
          0.8050186461775025,
          0.8098117082156128,
          0.7814462302710599,
          0.7958380757239535,
          0.7986678171366687,
          0.7899553961391663,
          0.790388980823446,
          0.7873449025009639,
          0.8080095543578173,
          0.8104203520340416,
          0.8176968080929088,
          0.8158301199643759,
          0.8169564021626851,
          0.8123608340173627,
          0.8069259691759675,
          0.7965485361261999,
          0.784679241249696,
          0.7805476941210053,
          0.8123218403447613,
          0.806920632979658,
          0.7934843803052916,
          0.8073856842302342,
          0.799755766718666,
          0.8078472578856686,
          0.8106975718651089,
          0.7938869440423003,
          0.7773422219015341,
          0.8048380245150003,
          0.8148625434364879,
          0.8056387618811681,
          0.8166872040460659,
          0.8095424346628187,
          0.8114074416244884,
          0.8020559824533958,
          0.8138719444451361,
          0.817833579404119,
          0.7804436710987308,
          0.8037120014880474,
          0.8148625434364879,
          0.816194163226536,
          0.8124989320929106,
          0.8130743852749779,
          0.813808466351297,
          0.8031311383377968,
          0.8135987918296701,
          0.7962833646906438,
          0.810424213131726,
          0.7787675193798202,
          0.813318681366499,
          0.8167642395528504,
          0.8189256875615737,
          0.7837722644250856,
          0.8186025028253828,
          0.8058919482753651,
          0.8215793019808597,
          0.8209888393229025,
          0.8176100213051124,
          0.8176100213051124,
          0.8169590897584739,
          0.8176100213051124,
          0.8118525873380484,
          0.797546153852673,
          0.8049973277633492,
          0.7992972830219068,
          0.8167570595239875,
          0.8075724663451007,
          0.816718227927354
         ],
         "yaxis": "y5"
        },
        {
         "marker": {
          "color": [
           0,
           1,
           2,
           3,
           4,
           5,
           6,
           7,
           8,
           9,
           10,
           11,
           12,
           13,
           14,
           15,
           16,
           17,
           18,
           19,
           20,
           21,
           22,
           23,
           24,
           25,
           26,
           27,
           28,
           29,
           30,
           31,
           32,
           33,
           34,
           35,
           36,
           37,
           38,
           39,
           40,
           41,
           42,
           43,
           44,
           45,
           46,
           47,
           48,
           49,
           50,
           51,
           52,
           53,
           54,
           55,
           56,
           57,
           58,
           59,
           60,
           61,
           62,
           63,
           64,
           65,
           66,
           67,
           68,
           69,
           70,
           71,
           72,
           73,
           74,
           75,
           76,
           77,
           78,
           79,
           80,
           81,
           82,
           83,
           84,
           85,
           86,
           87,
           88,
           89,
           90,
           91,
           92,
           93,
           94,
           95,
           96,
           97,
           98,
           99
          ],
          "colorbar": {
           "title": {
            "text": "#Trials"
           },
           "x": 1,
           "xpad": 40
          },
          "colorscale": [
           [
            0,
            "rgb(247,251,255)"
           ],
           [
            0.125,
            "rgb(222,235,247)"
           ],
           [
            0.25,
            "rgb(198,219,239)"
           ],
           [
            0.375,
            "rgb(158,202,225)"
           ],
           [
            0.5,
            "rgb(107,174,214)"
           ],
           [
            0.625,
            "rgb(66,146,198)"
           ],
           [
            0.75,
            "rgb(33,113,181)"
           ],
           [
            0.875,
            "rgb(8,81,156)"
           ],
           [
            1,
            "rgb(8,48,107)"
           ]
          ],
          "line": {
           "color": "Grey",
           "width": 0.5
          },
          "showscale": false
         },
         "mode": "markers",
         "showlegend": false,
         "type": "scatter",
         "x": [
          76,
          92,
          34,
          62,
          46,
          59,
          77,
          13,
          75,
          40,
          17,
          5,
          5,
          9,
          27,
          7,
          26,
          21,
          6,
          38,
          99,
          8,
          8,
          18,
          26,
          12,
          6,
          30,
          20,
          13,
          49,
          20,
          5,
          5,
          13,
          11,
          5,
          34,
          58,
          84,
          15,
          22,
          9,
          17,
          16,
          15,
          16,
          31,
          41,
          23,
          16,
          13,
          9,
          70,
          24,
          9,
          18,
          5,
          10,
          18,
          28,
          14,
          15,
          8,
          24,
          20,
          12,
          7,
          14,
          32,
          28,
          14,
          14,
          19,
          11,
          17,
          22,
          14,
          5,
          11,
          25,
          15,
          7,
          7,
          7,
          8,
          8,
          5,
          5,
          5,
          5,
          5,
          5,
          5,
          10,
          6,
          11,
          9,
          5,
          5
         ],
         "xaxis": "x6",
         "y": [
          0.7827459472637629,
          0.7710833392467813,
          0.7798987976976947,
          0.7857053401410156,
          0.7808670312142292,
          0.7743312412483125,
          0.7775071361478494,
          0.7838899697612186,
          0.7772838853838744,
          0.7771007221465295,
          0.8066805377122327,
          0.8120441730895157,
          0.8100181580121286,
          0.8082294694404286,
          0.795620488609139,
          0.799219978566103,
          0.7931456787161527,
          0.8022940736210104,
          0.8089041922120458,
          0.7904218447764887,
          0.7720177334630192,
          0.8133946502058573,
          0.8133946502058573,
          0.8069520899989019,
          0.8043259317723602,
          0.7906768605438533,
          0.8048919714194925,
          0.7940353641362453,
          0.8119547643875354,
          0.7861639176830172,
          0.7895183876814169,
          0.8119547643875354,
          0.8169425174280313,
          0.8050186461775025,
          0.8098117082156128,
          0.7814462302710599,
          0.7958380757239535,
          0.7986678171366687,
          0.7899553961391663,
          0.790388980823446,
          0.7873449025009639,
          0.8080095543578173,
          0.8104203520340416,
          0.8176968080929088,
          0.8158301199643759,
          0.8169564021626851,
          0.8123608340173627,
          0.8069259691759675,
          0.7965485361261999,
          0.784679241249696,
          0.7805476941210053,
          0.8123218403447613,
          0.806920632979658,
          0.7934843803052916,
          0.8073856842302342,
          0.799755766718666,
          0.8078472578856686,
          0.8106975718651089,
          0.7938869440423003,
          0.7773422219015341,
          0.8048380245150003,
          0.8148625434364879,
          0.8056387618811681,
          0.8166872040460659,
          0.8095424346628187,
          0.8114074416244884,
          0.8020559824533958,
          0.8138719444451361,
          0.817833579404119,
          0.7804436710987308,
          0.8037120014880474,
          0.8148625434364879,
          0.816194163226536,
          0.8124989320929106,
          0.8130743852749779,
          0.813808466351297,
          0.8031311383377968,
          0.8135987918296701,
          0.7962833646906438,
          0.810424213131726,
          0.7787675193798202,
          0.813318681366499,
          0.8167642395528504,
          0.8189256875615737,
          0.7837722644250856,
          0.8186025028253828,
          0.8058919482753651,
          0.8215793019808597,
          0.8209888393229025,
          0.8176100213051124,
          0.8176100213051124,
          0.8169590897584739,
          0.8176100213051124,
          0.8118525873380484,
          0.797546153852673,
          0.8049973277633492,
          0.7992972830219068,
          0.8167570595239875,
          0.8075724663451007,
          0.816718227927354
         ],
         "yaxis": "y6"
        },
        {
         "marker": {
          "color": [
           0,
           1,
           2,
           3,
           4,
           5,
           6,
           7,
           8,
           9,
           10,
           11,
           12,
           13,
           14,
           15,
           16,
           17,
           18,
           19,
           20,
           21,
           22,
           23,
           24,
           25,
           26,
           27,
           28,
           29,
           30,
           31,
           32,
           33,
           34,
           35,
           36,
           37,
           38,
           39,
           40,
           41,
           42,
           43,
           44,
           45,
           46,
           47,
           48,
           49,
           50,
           51,
           52,
           53,
           54,
           55,
           56,
           57,
           58,
           59,
           60,
           61,
           62,
           63,
           64,
           65,
           66,
           67,
           68,
           69,
           70,
           71,
           72,
           73,
           74,
           75,
           76,
           77,
           78,
           79,
           80,
           81,
           82,
           83,
           84,
           85,
           86,
           87,
           88,
           89,
           90,
           91,
           92,
           93,
           94,
           95,
           96,
           97,
           98,
           99
          ],
          "colorbar": {
           "title": {
            "text": "#Trials"
           },
           "x": 1,
           "xpad": 40
          },
          "colorscale": [
           [
            0,
            "rgb(247,251,255)"
           ],
           [
            0.125,
            "rgb(222,235,247)"
           ],
           [
            0.25,
            "rgb(198,219,239)"
           ],
           [
            0.375,
            "rgb(158,202,225)"
           ],
           [
            0.5,
            "rgb(107,174,214)"
           ],
           [
            0.625,
            "rgb(66,146,198)"
           ],
           [
            0.75,
            "rgb(33,113,181)"
           ],
           [
            0.875,
            "rgb(8,81,156)"
           ],
           [
            1,
            "rgb(8,48,107)"
           ]
          ],
          "line": {
           "color": "Grey",
           "width": 0.5
          },
          "showscale": false
         },
         "mode": "markers",
         "showlegend": false,
         "type": "scatter",
         "x": [
          21,
          53,
          38,
          22,
          28,
          52,
          39,
          26,
          44,
          50,
          1,
          2,
          1,
          1,
          10,
          11,
          13,
          1,
          6,
          16,
          60,
          6,
          6,
          6,
          6,
          18,
          9,
          15,
          5,
          23,
          19,
          5,
          4,
          9,
          3,
          33,
          13,
          8,
          13,
          3,
          23,
          4,
          7,
          1,
          1,
          1,
          1,
          1,
          11,
          32,
          42,
          3,
          8,
          4,
          1,
          11,
          7,
          1,
          15,
          59,
          4,
          1,
          6,
          3,
          2,
          3,
          9,
          1,
          1,
          49,
          4,
          1,
          1,
          3,
          5,
          2,
          7,
          5,
          10,
          1,
          36,
          1,
          2,
          3,
          28,
          3,
          8,
          3,
          4,
          5,
          5,
          5,
          5,
          6,
          12,
          8,
          10,
          5,
          7,
          5
         ],
         "xaxis": "x7",
         "y": [
          0.7827459472637629,
          0.7710833392467813,
          0.7798987976976947,
          0.7857053401410156,
          0.7808670312142292,
          0.7743312412483125,
          0.7775071361478494,
          0.7838899697612186,
          0.7772838853838744,
          0.7771007221465295,
          0.8066805377122327,
          0.8120441730895157,
          0.8100181580121286,
          0.8082294694404286,
          0.795620488609139,
          0.799219978566103,
          0.7931456787161527,
          0.8022940736210104,
          0.8089041922120458,
          0.7904218447764887,
          0.7720177334630192,
          0.8133946502058573,
          0.8133946502058573,
          0.8069520899989019,
          0.8043259317723602,
          0.7906768605438533,
          0.8048919714194925,
          0.7940353641362453,
          0.8119547643875354,
          0.7861639176830172,
          0.7895183876814169,
          0.8119547643875354,
          0.8169425174280313,
          0.8050186461775025,
          0.8098117082156128,
          0.7814462302710599,
          0.7958380757239535,
          0.7986678171366687,
          0.7899553961391663,
          0.790388980823446,
          0.7873449025009639,
          0.8080095543578173,
          0.8104203520340416,
          0.8176968080929088,
          0.8158301199643759,
          0.8169564021626851,
          0.8123608340173627,
          0.8069259691759675,
          0.7965485361261999,
          0.784679241249696,
          0.7805476941210053,
          0.8123218403447613,
          0.806920632979658,
          0.7934843803052916,
          0.8073856842302342,
          0.799755766718666,
          0.8078472578856686,
          0.8106975718651089,
          0.7938869440423003,
          0.7773422219015341,
          0.8048380245150003,
          0.8148625434364879,
          0.8056387618811681,
          0.8166872040460659,
          0.8095424346628187,
          0.8114074416244884,
          0.8020559824533958,
          0.8138719444451361,
          0.817833579404119,
          0.7804436710987308,
          0.8037120014880474,
          0.8148625434364879,
          0.816194163226536,
          0.8124989320929106,
          0.8130743852749779,
          0.813808466351297,
          0.8031311383377968,
          0.8135987918296701,
          0.7962833646906438,
          0.810424213131726,
          0.7787675193798202,
          0.813318681366499,
          0.8167642395528504,
          0.8189256875615737,
          0.7837722644250856,
          0.8186025028253828,
          0.8058919482753651,
          0.8215793019808597,
          0.8209888393229025,
          0.8176100213051124,
          0.8176100213051124,
          0.8169590897584739,
          0.8176100213051124,
          0.8118525873380484,
          0.797546153852673,
          0.8049973277633492,
          0.7992972830219068,
          0.8167570595239875,
          0.8075724663451007,
          0.816718227927354
         ],
         "yaxis": "y7"
        },
        {
         "marker": {
          "color": [
           0,
           1,
           2,
           3,
           4,
           5,
           6,
           7,
           8,
           9,
           10,
           11,
           12,
           13,
           14,
           15,
           16,
           17,
           18,
           19,
           20,
           21,
           22,
           23,
           24,
           25,
           26,
           27,
           28,
           29,
           30,
           31,
           32,
           33,
           34,
           35,
           36,
           37,
           38,
           39,
           40,
           41,
           42,
           43,
           44,
           45,
           46,
           47,
           48,
           49,
           50,
           51,
           52,
           53,
           54,
           55,
           56,
           57,
           58,
           59,
           60,
           61,
           62,
           63,
           64,
           65,
           66,
           67,
           68,
           69,
           70,
           71,
           72,
           73,
           74,
           75,
           76,
           77,
           78,
           79,
           80,
           81,
           82,
           83,
           84,
           85,
           86,
           87,
           88,
           89,
           90,
           91,
           92,
           93,
           94,
           95,
           96,
           97,
           98,
           99
          ],
          "colorbar": {
           "title": {
            "text": "#Trials"
           },
           "x": 1,
           "xpad": 40
          },
          "colorscale": [
           [
            0,
            "rgb(247,251,255)"
           ],
           [
            0.125,
            "rgb(222,235,247)"
           ],
           [
            0.25,
            "rgb(198,219,239)"
           ],
           [
            0.375,
            "rgb(158,202,225)"
           ],
           [
            0.5,
            "rgb(107,174,214)"
           ],
           [
            0.625,
            "rgb(66,146,198)"
           ],
           [
            0.75,
            "rgb(33,113,181)"
           ],
           [
            0.875,
            "rgb(8,81,156)"
           ],
           [
            1,
            "rgb(8,48,107)"
           ]
          ],
          "line": {
           "color": "Grey",
           "width": 0.5
          },
          "showscale": false
         },
         "mode": "markers",
         "showlegend": false,
         "type": "scatter",
         "x": [
          200,
          350,
          100,
          250,
          50,
          350,
          150,
          200,
          200,
          150,
          300,
          300,
          300,
          400,
          300,
          400,
          300,
          250,
          350,
          300,
          250,
          350,
          350,
          400,
          350,
          350,
          400,
          350,
          300,
          250,
          400,
          300,
          350,
          350,
          350,
          350,
          400,
          350,
          300,
          250,
          350,
          300,
          300,
          250,
          200,
          150,
          150,
          100,
          200,
          150,
          100,
          100,
          200,
          150,
          200,
          50,
          150,
          200,
          150,
          250,
          200,
          150,
          150,
          100,
          100,
          50,
          100,
          150,
          150,
          100,
          150,
          150,
          150,
          200,
          100,
          200,
          150,
          150,
          100,
          50,
          200,
          150,
          150,
          150,
          100,
          250,
          250,
          250,
          250,
          250,
          250,
          250,
          250,
          250,
          250,
          250,
          250,
          250,
          250,
          250
         ],
         "xaxis": "x8",
         "y": [
          0.7827459472637629,
          0.7710833392467813,
          0.7798987976976947,
          0.7857053401410156,
          0.7808670312142292,
          0.7743312412483125,
          0.7775071361478494,
          0.7838899697612186,
          0.7772838853838744,
          0.7771007221465295,
          0.8066805377122327,
          0.8120441730895157,
          0.8100181580121286,
          0.8082294694404286,
          0.795620488609139,
          0.799219978566103,
          0.7931456787161527,
          0.8022940736210104,
          0.8089041922120458,
          0.7904218447764887,
          0.7720177334630192,
          0.8133946502058573,
          0.8133946502058573,
          0.8069520899989019,
          0.8043259317723602,
          0.7906768605438533,
          0.8048919714194925,
          0.7940353641362453,
          0.8119547643875354,
          0.7861639176830172,
          0.7895183876814169,
          0.8119547643875354,
          0.8169425174280313,
          0.8050186461775025,
          0.8098117082156128,
          0.7814462302710599,
          0.7958380757239535,
          0.7986678171366687,
          0.7899553961391663,
          0.790388980823446,
          0.7873449025009639,
          0.8080095543578173,
          0.8104203520340416,
          0.8176968080929088,
          0.8158301199643759,
          0.8169564021626851,
          0.8123608340173627,
          0.8069259691759675,
          0.7965485361261999,
          0.784679241249696,
          0.7805476941210053,
          0.8123218403447613,
          0.806920632979658,
          0.7934843803052916,
          0.8073856842302342,
          0.799755766718666,
          0.8078472578856686,
          0.8106975718651089,
          0.7938869440423003,
          0.7773422219015341,
          0.8048380245150003,
          0.8148625434364879,
          0.8056387618811681,
          0.8166872040460659,
          0.8095424346628187,
          0.8114074416244884,
          0.8020559824533958,
          0.8138719444451361,
          0.817833579404119,
          0.7804436710987308,
          0.8037120014880474,
          0.8148625434364879,
          0.816194163226536,
          0.8124989320929106,
          0.8130743852749779,
          0.813808466351297,
          0.8031311383377968,
          0.8135987918296701,
          0.7962833646906438,
          0.810424213131726,
          0.7787675193798202,
          0.813318681366499,
          0.8167642395528504,
          0.8189256875615737,
          0.7837722644250856,
          0.8186025028253828,
          0.8058919482753651,
          0.8215793019808597,
          0.8209888393229025,
          0.8176100213051124,
          0.8176100213051124,
          0.8169590897584739,
          0.8176100213051124,
          0.8118525873380484,
          0.797546153852673,
          0.8049973277633492,
          0.7992972830219068,
          0.8167570595239875,
          0.8075724663451007,
          0.816718227927354
         ],
         "yaxis": "y8"
        },
        {
         "marker": {
          "color": [
           0,
           1,
           2,
           3,
           4,
           5,
           6,
           7,
           8,
           9,
           10,
           11,
           12,
           13,
           14,
           15,
           16,
           17,
           18,
           19,
           20,
           21,
           22,
           23,
           24,
           25,
           26,
           27,
           28,
           29,
           30,
           31,
           32,
           33,
           34,
           35,
           36,
           37,
           38,
           39,
           40,
           41,
           42,
           43,
           44,
           45,
           46,
           47,
           48,
           49,
           50,
           51,
           52,
           53,
           54,
           55,
           56,
           57,
           58,
           59,
           60,
           61,
           62,
           63,
           64,
           65,
           66,
           67,
           68,
           69,
           70,
           71,
           72,
           73,
           74,
           75,
           76,
           77,
           78,
           79,
           80,
           81,
           82,
           83,
           84,
           85,
           86,
           87,
           88,
           89,
           90,
           91,
           92,
           93,
           94,
           95,
           96,
           97,
           98,
           99
          ],
          "colorbar": {
           "title": {
            "text": "#Trials"
           },
           "x": 1,
           "xpad": 40
          },
          "colorscale": [
           [
            0,
            "rgb(247,251,255)"
           ],
           [
            0.125,
            "rgb(222,235,247)"
           ],
           [
            0.25,
            "rgb(198,219,239)"
           ],
           [
            0.375,
            "rgb(158,202,225)"
           ],
           [
            0.5,
            "rgb(107,174,214)"
           ],
           [
            0.625,
            "rgb(66,146,198)"
           ],
           [
            0.75,
            "rgb(33,113,181)"
           ],
           [
            0.875,
            "rgb(8,81,156)"
           ],
           [
            1,
            "rgb(8,48,107)"
           ]
          ],
          "line": {
           "color": "Grey",
           "width": 0.5
          },
          "showscale": false
         },
         "mode": "markers",
         "showlegend": false,
         "type": "scatter",
         "x": [
          42,
          42,
          42,
          42,
          42,
          42,
          42,
          42,
          42,
          42,
          42,
          42,
          42,
          42,
          42,
          42,
          42,
          42,
          42,
          42,
          42,
          42,
          42,
          42,
          42,
          42,
          42,
          42,
          42,
          42,
          42,
          42,
          42,
          42,
          42,
          42,
          42,
          42,
          42,
          42,
          42,
          42,
          42,
          42,
          42,
          42,
          42,
          42,
          42,
          42,
          42,
          42,
          42,
          42,
          42,
          42,
          42,
          42,
          42,
          42,
          42,
          42,
          42,
          42,
          42,
          42,
          42,
          42,
          42,
          42,
          42,
          42,
          42,
          42,
          42,
          42,
          42,
          42,
          42,
          42,
          42,
          42,
          42,
          42,
          42,
          42,
          42,
          42,
          42,
          42,
          42,
          42,
          42,
          42,
          42,
          42,
          42,
          42,
          42,
          42
         ],
         "xaxis": "x9",
         "y": [
          0.7827459472637629,
          0.7710833392467813,
          0.7798987976976947,
          0.7857053401410156,
          0.7808670312142292,
          0.7743312412483125,
          0.7775071361478494,
          0.7838899697612186,
          0.7772838853838744,
          0.7771007221465295,
          0.8066805377122327,
          0.8120441730895157,
          0.8100181580121286,
          0.8082294694404286,
          0.795620488609139,
          0.799219978566103,
          0.7931456787161527,
          0.8022940736210104,
          0.8089041922120458,
          0.7904218447764887,
          0.7720177334630192,
          0.8133946502058573,
          0.8133946502058573,
          0.8069520899989019,
          0.8043259317723602,
          0.7906768605438533,
          0.8048919714194925,
          0.7940353641362453,
          0.8119547643875354,
          0.7861639176830172,
          0.7895183876814169,
          0.8119547643875354,
          0.8169425174280313,
          0.8050186461775025,
          0.8098117082156128,
          0.7814462302710599,
          0.7958380757239535,
          0.7986678171366687,
          0.7899553961391663,
          0.790388980823446,
          0.7873449025009639,
          0.8080095543578173,
          0.8104203520340416,
          0.8176968080929088,
          0.8158301199643759,
          0.8169564021626851,
          0.8123608340173627,
          0.8069259691759675,
          0.7965485361261999,
          0.784679241249696,
          0.7805476941210053,
          0.8123218403447613,
          0.806920632979658,
          0.7934843803052916,
          0.8073856842302342,
          0.799755766718666,
          0.8078472578856686,
          0.8106975718651089,
          0.7938869440423003,
          0.7773422219015341,
          0.8048380245150003,
          0.8148625434364879,
          0.8056387618811681,
          0.8166872040460659,
          0.8095424346628187,
          0.8114074416244884,
          0.8020559824533958,
          0.8138719444451361,
          0.817833579404119,
          0.7804436710987308,
          0.8037120014880474,
          0.8148625434364879,
          0.816194163226536,
          0.8124989320929106,
          0.8130743852749779,
          0.813808466351297,
          0.8031311383377968,
          0.8135987918296701,
          0.7962833646906438,
          0.810424213131726,
          0.7787675193798202,
          0.813318681366499,
          0.8167642395528504,
          0.8189256875615737,
          0.7837722644250856,
          0.8186025028253828,
          0.8058919482753651,
          0.8215793019808597,
          0.8209888393229025,
          0.8176100213051124,
          0.8176100213051124,
          0.8169590897584739,
          0.8176100213051124,
          0.8118525873380484,
          0.797546153852673,
          0.8049973277633492,
          0.7992972830219068,
          0.8167570595239875,
          0.8075724663451007,
          0.816718227927354
         ],
         "yaxis": "y9"
        }
       ],
       "layout": {
        "autosize": true,
        "template": {
         "data": {
          "bar": [
           {
            "error_x": {
             "color": "#2a3f5f"
            },
            "error_y": {
             "color": "#2a3f5f"
            },
            "marker": {
             "line": {
              "color": "#E5ECF6",
              "width": 0.5
             }
            },
            "type": "bar"
           }
          ],
          "barpolar": [
           {
            "marker": {
             "line": {
              "color": "#E5ECF6",
              "width": 0.5
             }
            },
            "type": "barpolar"
           }
          ],
          "carpet": [
           {
            "aaxis": {
             "endlinecolor": "#2a3f5f",
             "gridcolor": "white",
             "linecolor": "white",
             "minorgridcolor": "white",
             "startlinecolor": "#2a3f5f"
            },
            "baxis": {
             "endlinecolor": "#2a3f5f",
             "gridcolor": "white",
             "linecolor": "white",
             "minorgridcolor": "white",
             "startlinecolor": "#2a3f5f"
            },
            "type": "carpet"
           }
          ],
          "choropleth": [
           {
            "colorbar": {
             "outlinewidth": 0,
             "ticks": ""
            },
            "type": "choropleth"
           }
          ],
          "contour": [
           {
            "colorbar": {
             "outlinewidth": 0,
             "ticks": ""
            },
            "colorscale": [
             [
              0,
              "#0d0887"
             ],
             [
              0.1111111111111111,
              "#46039f"
             ],
             [
              0.2222222222222222,
              "#7201a8"
             ],
             [
              0.3333333333333333,
              "#9c179e"
             ],
             [
              0.4444444444444444,
              "#bd3786"
             ],
             [
              0.5555555555555556,
              "#d8576b"
             ],
             [
              0.6666666666666666,
              "#ed7953"
             ],
             [
              0.7777777777777778,
              "#fb9f3a"
             ],
             [
              0.8888888888888888,
              "#fdca26"
             ],
             [
              1,
              "#f0f921"
             ]
            ],
            "type": "contour"
           }
          ],
          "contourcarpet": [
           {
            "colorbar": {
             "outlinewidth": 0,
             "ticks": ""
            },
            "type": "contourcarpet"
           }
          ],
          "heatmap": [
           {
            "colorbar": {
             "outlinewidth": 0,
             "ticks": ""
            },
            "colorscale": [
             [
              0,
              "#0d0887"
             ],
             [
              0.1111111111111111,
              "#46039f"
             ],
             [
              0.2222222222222222,
              "#7201a8"
             ],
             [
              0.3333333333333333,
              "#9c179e"
             ],
             [
              0.4444444444444444,
              "#bd3786"
             ],
             [
              0.5555555555555556,
              "#d8576b"
             ],
             [
              0.6666666666666666,
              "#ed7953"
             ],
             [
              0.7777777777777778,
              "#fb9f3a"
             ],
             [
              0.8888888888888888,
              "#fdca26"
             ],
             [
              1,
              "#f0f921"
             ]
            ],
            "type": "heatmap"
           }
          ],
          "heatmapgl": [
           {
            "colorbar": {
             "outlinewidth": 0,
             "ticks": ""
            },
            "colorscale": [
             [
              0,
              "#0d0887"
             ],
             [
              0.1111111111111111,
              "#46039f"
             ],
             [
              0.2222222222222222,
              "#7201a8"
             ],
             [
              0.3333333333333333,
              "#9c179e"
             ],
             [
              0.4444444444444444,
              "#bd3786"
             ],
             [
              0.5555555555555556,
              "#d8576b"
             ],
             [
              0.6666666666666666,
              "#ed7953"
             ],
             [
              0.7777777777777778,
              "#fb9f3a"
             ],
             [
              0.8888888888888888,
              "#fdca26"
             ],
             [
              1,
              "#f0f921"
             ]
            ],
            "type": "heatmapgl"
           }
          ],
          "histogram": [
           {
            "marker": {
             "colorbar": {
              "outlinewidth": 0,
              "ticks": ""
             }
            },
            "type": "histogram"
           }
          ],
          "histogram2d": [
           {
            "colorbar": {
             "outlinewidth": 0,
             "ticks": ""
            },
            "colorscale": [
             [
              0,
              "#0d0887"
             ],
             [
              0.1111111111111111,
              "#46039f"
             ],
             [
              0.2222222222222222,
              "#7201a8"
             ],
             [
              0.3333333333333333,
              "#9c179e"
             ],
             [
              0.4444444444444444,
              "#bd3786"
             ],
             [
              0.5555555555555556,
              "#d8576b"
             ],
             [
              0.6666666666666666,
              "#ed7953"
             ],
             [
              0.7777777777777778,
              "#fb9f3a"
             ],
             [
              0.8888888888888888,
              "#fdca26"
             ],
             [
              1,
              "#f0f921"
             ]
            ],
            "type": "histogram2d"
           }
          ],
          "histogram2dcontour": [
           {
            "colorbar": {
             "outlinewidth": 0,
             "ticks": ""
            },
            "colorscale": [
             [
              0,
              "#0d0887"
             ],
             [
              0.1111111111111111,
              "#46039f"
             ],
             [
              0.2222222222222222,
              "#7201a8"
             ],
             [
              0.3333333333333333,
              "#9c179e"
             ],
             [
              0.4444444444444444,
              "#bd3786"
             ],
             [
              0.5555555555555556,
              "#d8576b"
             ],
             [
              0.6666666666666666,
              "#ed7953"
             ],
             [
              0.7777777777777778,
              "#fb9f3a"
             ],
             [
              0.8888888888888888,
              "#fdca26"
             ],
             [
              1,
              "#f0f921"
             ]
            ],
            "type": "histogram2dcontour"
           }
          ],
          "mesh3d": [
           {
            "colorbar": {
             "outlinewidth": 0,
             "ticks": ""
            },
            "type": "mesh3d"
           }
          ],
          "parcoords": [
           {
            "line": {
             "colorbar": {
              "outlinewidth": 0,
              "ticks": ""
             }
            },
            "type": "parcoords"
           }
          ],
          "pie": [
           {
            "automargin": true,
            "type": "pie"
           }
          ],
          "scatter": [
           {
            "marker": {
             "colorbar": {
              "outlinewidth": 0,
              "ticks": ""
             }
            },
            "type": "scatter"
           }
          ],
          "scatter3d": [
           {
            "line": {
             "colorbar": {
              "outlinewidth": 0,
              "ticks": ""
             }
            },
            "marker": {
             "colorbar": {
              "outlinewidth": 0,
              "ticks": ""
             }
            },
            "type": "scatter3d"
           }
          ],
          "scattercarpet": [
           {
            "marker": {
             "colorbar": {
              "outlinewidth": 0,
              "ticks": ""
             }
            },
            "type": "scattercarpet"
           }
          ],
          "scattergeo": [
           {
            "marker": {
             "colorbar": {
              "outlinewidth": 0,
              "ticks": ""
             }
            },
            "type": "scattergeo"
           }
          ],
          "scattergl": [
           {
            "marker": {
             "colorbar": {
              "outlinewidth": 0,
              "ticks": ""
             }
            },
            "type": "scattergl"
           }
          ],
          "scattermapbox": [
           {
            "marker": {
             "colorbar": {
              "outlinewidth": 0,
              "ticks": ""
             }
            },
            "type": "scattermapbox"
           }
          ],
          "scatterpolar": [
           {
            "marker": {
             "colorbar": {
              "outlinewidth": 0,
              "ticks": ""
             }
            },
            "type": "scatterpolar"
           }
          ],
          "scatterpolargl": [
           {
            "marker": {
             "colorbar": {
              "outlinewidth": 0,
              "ticks": ""
             }
            },
            "type": "scatterpolargl"
           }
          ],
          "scatterternary": [
           {
            "marker": {
             "colorbar": {
              "outlinewidth": 0,
              "ticks": ""
             }
            },
            "type": "scatterternary"
           }
          ],
          "surface": [
           {
            "colorbar": {
             "outlinewidth": 0,
             "ticks": ""
            },
            "colorscale": [
             [
              0,
              "#0d0887"
             ],
             [
              0.1111111111111111,
              "#46039f"
             ],
             [
              0.2222222222222222,
              "#7201a8"
             ],
             [
              0.3333333333333333,
              "#9c179e"
             ],
             [
              0.4444444444444444,
              "#bd3786"
             ],
             [
              0.5555555555555556,
              "#d8576b"
             ],
             [
              0.6666666666666666,
              "#ed7953"
             ],
             [
              0.7777777777777778,
              "#fb9f3a"
             ],
             [
              0.8888888888888888,
              "#fdca26"
             ],
             [
              1,
              "#f0f921"
             ]
            ],
            "type": "surface"
           }
          ],
          "table": [
           {
            "cells": {
             "fill": {
              "color": "#EBF0F8"
             },
             "line": {
              "color": "white"
             }
            },
            "header": {
             "fill": {
              "color": "#C8D4E3"
             },
             "line": {
              "color": "white"
             }
            },
            "type": "table"
           }
          ]
         },
         "layout": {
          "annotationdefaults": {
           "arrowcolor": "#2a3f5f",
           "arrowhead": 0,
           "arrowwidth": 1
          },
          "coloraxis": {
           "colorbar": {
            "outlinewidth": 0,
            "ticks": ""
           }
          },
          "colorscale": {
           "diverging": [
            [
             0,
             "#8e0152"
            ],
            [
             0.1,
             "#c51b7d"
            ],
            [
             0.2,
             "#de77ae"
            ],
            [
             0.3,
             "#f1b6da"
            ],
            [
             0.4,
             "#fde0ef"
            ],
            [
             0.5,
             "#f7f7f7"
            ],
            [
             0.6,
             "#e6f5d0"
            ],
            [
             0.7,
             "#b8e186"
            ],
            [
             0.8,
             "#7fbc41"
            ],
            [
             0.9,
             "#4d9221"
            ],
            [
             1,
             "#276419"
            ]
           ],
           "sequential": [
            [
             0,
             "#0d0887"
            ],
            [
             0.1111111111111111,
             "#46039f"
            ],
            [
             0.2222222222222222,
             "#7201a8"
            ],
            [
             0.3333333333333333,
             "#9c179e"
            ],
            [
             0.4444444444444444,
             "#bd3786"
            ],
            [
             0.5555555555555556,
             "#d8576b"
            ],
            [
             0.6666666666666666,
             "#ed7953"
            ],
            [
             0.7777777777777778,
             "#fb9f3a"
            ],
            [
             0.8888888888888888,
             "#fdca26"
            ],
            [
             1,
             "#f0f921"
            ]
           ],
           "sequentialminus": [
            [
             0,
             "#0d0887"
            ],
            [
             0.1111111111111111,
             "#46039f"
            ],
            [
             0.2222222222222222,
             "#7201a8"
            ],
            [
             0.3333333333333333,
             "#9c179e"
            ],
            [
             0.4444444444444444,
             "#bd3786"
            ],
            [
             0.5555555555555556,
             "#d8576b"
            ],
            [
             0.6666666666666666,
             "#ed7953"
            ],
            [
             0.7777777777777778,
             "#fb9f3a"
            ],
            [
             0.8888888888888888,
             "#fdca26"
            ],
            [
             1,
             "#f0f921"
            ]
           ]
          },
          "colorway": [
           "#636efa",
           "#EF553B",
           "#00cc96",
           "#ab63fa",
           "#FFA15A",
           "#19d3f3",
           "#FF6692",
           "#B6E880",
           "#FF97FF",
           "#FECB52"
          ],
          "font": {
           "color": "#2a3f5f"
          },
          "geo": {
           "bgcolor": "white",
           "lakecolor": "white",
           "landcolor": "#E5ECF6",
           "showlakes": true,
           "showland": true,
           "subunitcolor": "white"
          },
          "hoverlabel": {
           "align": "left"
          },
          "hovermode": "closest",
          "mapbox": {
           "style": "light"
          },
          "paper_bgcolor": "white",
          "plot_bgcolor": "#E5ECF6",
          "polar": {
           "angularaxis": {
            "gridcolor": "white",
            "linecolor": "white",
            "ticks": ""
           },
           "bgcolor": "#E5ECF6",
           "radialaxis": {
            "gridcolor": "white",
            "linecolor": "white",
            "ticks": ""
           }
          },
          "scene": {
           "xaxis": {
            "backgroundcolor": "#E5ECF6",
            "gridcolor": "white",
            "gridwidth": 2,
            "linecolor": "white",
            "showbackground": true,
            "ticks": "",
            "zerolinecolor": "white"
           },
           "yaxis": {
            "backgroundcolor": "#E5ECF6",
            "gridcolor": "white",
            "gridwidth": 2,
            "linecolor": "white",
            "showbackground": true,
            "ticks": "",
            "zerolinecolor": "white"
           },
           "zaxis": {
            "backgroundcolor": "#E5ECF6",
            "gridcolor": "white",
            "gridwidth": 2,
            "linecolor": "white",
            "showbackground": true,
            "ticks": "",
            "zerolinecolor": "white"
           }
          },
          "shapedefaults": {
           "line": {
            "color": "#2a3f5f"
           }
          },
          "ternary": {
           "aaxis": {
            "gridcolor": "white",
            "linecolor": "white",
            "ticks": ""
           },
           "baxis": {
            "gridcolor": "white",
            "linecolor": "white",
            "ticks": ""
           },
           "bgcolor": "#E5ECF6",
           "caxis": {
            "gridcolor": "white",
            "linecolor": "white",
            "ticks": ""
           }
          },
          "title": {
           "x": 0.05
          },
          "xaxis": {
           "automargin": true,
           "gridcolor": "white",
           "linecolor": "white",
           "ticks": "",
           "title": {
            "standoff": 15
           },
           "zerolinecolor": "white",
           "zerolinewidth": 2
          },
          "yaxis": {
           "automargin": true,
           "gridcolor": "white",
           "linecolor": "white",
           "ticks": "",
           "title": {
            "standoff": 15
           },
           "zerolinecolor": "white",
           "zerolinewidth": 2
          }
         }
        },
        "title": {
         "text": "Slice Plot"
        },
        "xaxis": {
         "anchor": "y",
         "autorange": true,
         "domain": [
          0,
          0.09135802469135802
         ],
         "range": [
          -0.11449557818852425,
          1.1144955781885242
         ],
         "title": {
          "text": "bootstrap"
         },
         "type": "category"
        },
        "xaxis2": {
         "anchor": "y2",
         "autorange": true,
         "domain": [
          0.11358024691358025,
          0.20493827160493827
         ],
         "range": [
          -1,
          1
         ],
         "title": {
          "text": "class_weight"
         },
         "type": "category"
        },
        "xaxis3": {
         "anchor": "y3",
         "autorange": true,
         "domain": [
          0.2271604938271605,
          0.31851851851851853
         ],
         "range": [
          -0.11449557818852425,
          1.1144955781885242
         ],
         "title": {
          "text": "criterion"
         },
         "type": "category"
        },
        "xaxis4": {
         "anchor": "y4",
         "autorange": true,
         "domain": [
          0.34074074074074073,
          0.43209876543209874
         ],
         "range": [
          6.939079592606563,
          29.060920407393436
         ],
         "title": {
          "text": "max_depth"
         },
         "type": "linear"
        },
        "xaxis5": {
         "anchor": "y5",
         "autorange": true,
         "domain": [
          0.454320987654321,
          0.5456790123456791
         ],
         "range": [
          -0.22899115637704842,
          2.2289911563770484
         ],
         "title": {
          "text": "max_features"
         },
         "type": "category"
        },
        "xaxis6": {
         "anchor": "y6",
         "autorange": true,
         "domain": [
          0.5679012345679012,
          0.6592592592592592
         ],
         "range": [
          -5.76258434972128,
          109.76258434972128
         ],
         "title": {
          "text": "min_child_samples"
         },
         "type": "linear"
        },
        "xaxis7": {
         "anchor": "y7",
         "autorange": true,
         "domain": [
          0.6814814814814815,
          0.7728395061728395
         ],
         "range": [
          -5.755239113122931,
          66.75523911312293
         ],
         "title": {
          "text": "min_samples_leaf"
         },
         "type": "linear"
        },
        "xaxis8": {
         "anchor": "y8",
         "autorange": true,
         "domain": [
          0.7950617283950617,
          0.8864197530864197
         ],
         "range": [
          9.926547634016508,
          440.0734523659835
         ],
         "title": {
          "text": "n_estimators"
         },
         "type": "linear"
        },
        "xaxis9": {
         "anchor": "y9",
         "autorange": true,
         "domain": [
          0.908641975308642,
          1
         ],
         "range": [
          41,
          43
         ],
         "title": {
          "text": "random_state"
         },
         "type": "linear"
        },
        "yaxis": {
         "anchor": "x",
         "autorange": true,
         "domain": [
          0,
          1
         ],
         "range": [
          0.767384590384094,
          0.825278050843547
         ],
         "title": {
          "text": "Objective Value"
         },
         "type": "linear"
        },
        "yaxis2": {
         "anchor": "x2",
         "autorange": true,
         "domain": [
          0,
          1
         ],
         "matches": "y",
         "range": [
          0.767384590384094,
          0.825278050843547
         ],
         "showticklabels": false,
         "type": "linear"
        },
        "yaxis3": {
         "anchor": "x3",
         "autorange": true,
         "domain": [
          0,
          1
         ],
         "matches": "y",
         "range": [
          0.767384590384094,
          0.825278050843547
         ],
         "showticklabels": false,
         "type": "linear"
        },
        "yaxis4": {
         "anchor": "x4",
         "autorange": true,
         "domain": [
          0,
          1
         ],
         "matches": "y",
         "range": [
          0.767384590384094,
          0.825278050843547
         ],
         "showticklabels": false,
         "type": "linear"
        },
        "yaxis5": {
         "anchor": "x5",
         "autorange": true,
         "domain": [
          0,
          1
         ],
         "matches": "y",
         "range": [
          0.767384590384094,
          0.825278050843547
         ],
         "showticklabels": false,
         "type": "linear"
        },
        "yaxis6": {
         "anchor": "x6",
         "autorange": true,
         "domain": [
          0,
          1
         ],
         "matches": "y",
         "range": [
          0.767384590384094,
          0.825278050843547
         ],
         "showticklabels": false,
         "type": "linear"
        },
        "yaxis7": {
         "anchor": "x7",
         "autorange": true,
         "domain": [
          0,
          1
         ],
         "matches": "y",
         "range": [
          0.767384590384094,
          0.825278050843547
         ],
         "showticklabels": false,
         "type": "linear"
        },
        "yaxis8": {
         "anchor": "x8",
         "autorange": true,
         "domain": [
          0,
          1
         ],
         "matches": "y",
         "range": [
          0.767384590384094,
          0.825278050843547
         ],
         "showticklabels": false,
         "type": "linear"
        },
        "yaxis9": {
         "anchor": "x9",
         "autorange": true,
         "domain": [
          0,
          1
         ],
         "matches": "y",
         "range": [
          0.767384590384094,
          0.825278050843547
         ],
         "showticklabels": false,
         "type": "linear"
        }
       }
      },
      "image/png": "[encoded data removed]",
      "text/html": [
       "<div>                            <div id=\"52963fbd-4770-4da5-a91c-5d9260a6eb08\" class=\"plotly-graph-div\" style=\"height:525px; width:2700px;\"></div>            <script type=\"text/javascript\">                require([\"plotly\"], function(Plotly) {                    window.PLOTLYENV=window.PLOTLYENV || {};                                    if (document.getElementById(\"52963fbd-4770-4da5-a91c-5d9260a6eb08\")) {                    Plotly.newPlot(                        \"52963fbd-4770-4da5-a91c-5d9260a6eb08\",                        [{\"marker\": {\"color\": [0, 1, 2, 3, 4, 5, 6, 7, 8, 9, 10, 11, 12, 13, 14, 15, 16, 17, 18, 19, 20, 21, 22, 23, 24, 25, 26, 27, 28, 29, 30, 31, 32, 33, 34, 35, 36, 37, 38, 39, 40, 41, 42, 43, 44, 45, 46, 47, 48, 49, 50, 51, 52, 53, 54, 55, 56, 57, 58, 59, 60, 61, 62, 63, 64, 65, 66, 67, 68, 69, 70, 71, 72, 73, 74, 75, 76, 77, 78, 79, 80, 81, 82, 83, 84, 85, 86, 87, 88, 89, 90, 91, 92, 93, 94, 95, 96, 97, 98, 99], \"colorbar\": {\"title\": {\"text\": \"#Trials\"}, \"x\": 1.0, \"xpad\": 40}, \"colorscale\": [[0.0, \"rgb(247,251,255)\"], [0.125, \"rgb(222,235,247)\"], [0.25, \"rgb(198,219,239)\"], [0.375, \"rgb(158,202,225)\"], [0.5, \"rgb(107,174,214)\"], [0.625, \"rgb(66,146,198)\"], [0.75, \"rgb(33,113,181)\"], [0.875, \"rgb(8,81,156)\"], [1.0, \"rgb(8,48,107)\"]], \"line\": {\"color\": \"Grey\", \"width\": 0.5}, \"showscale\": true}, \"mode\": \"markers\", \"showlegend\": false, \"type\": \"scatter\", \"x\": [false, false, false, false, false, true, false, false, false, false, true, true, true, true, true, true, true, true, true, true, true, true, true, true, true, true, true, true, true, true, true, true, true, true, true, true, true, true, true, true, false, true, true, true, true, true, false, true, true, true, false, true, true, true, true, true, true, true, true, true, true, false, false, false, false, false, false, false, false, false, false, false, false, false, false, false, false, false, false, false, false, false, false, false, false, false, false, false, false, false, false, false, false, false, false, false, false, false, false, false], \"xaxis\": \"x\", \"y\": [0.7827459472637629, 0.7710833392467813, 0.7798987976976947, 0.7857053401410156, 0.7808670312142292, 0.7743312412483125, 0.7775071361478494, 0.7838899697612186, 0.7772838853838744, 0.7771007221465295, 0.8066805377122327, 0.8120441730895157, 0.8100181580121286, 0.8082294694404286, 0.795620488609139, 0.799219978566103, 0.7931456787161527, 0.8022940736210104, 0.8089041922120458, 0.7904218447764887, 0.7720177334630192, 0.8133946502058573, 0.8133946502058573, 0.8069520899989019, 0.8043259317723602, 0.7906768605438533, 0.8048919714194925, 0.7940353641362453, 0.8119547643875354, 0.7861639176830172, 0.7895183876814169, 0.8119547643875354, 0.8169425174280313, 0.8050186461775025, 0.8098117082156128, 0.7814462302710599, 0.7958380757239535, 0.7986678171366687, 0.7899553961391663, 0.790388980823446, 0.7873449025009639, 0.8080095543578173, 0.8104203520340416, 0.8176968080929088, 0.8158301199643759, 0.8169564021626851, 0.8123608340173627, 0.8069259691759675, 0.7965485361261999, 0.784679241249696, 0.7805476941210053, 0.8123218403447613, 0.806920632979658, 0.7934843803052916, 0.8073856842302342, 0.799755766718666, 0.8078472578856686, 0.8106975718651089, 0.7938869440423003, 0.7773422219015341, 0.8048380245150003, 0.8148625434364879, 0.8056387618811681, 0.8166872040460659, 0.8095424346628187, 0.8114074416244884, 0.8020559824533958, 0.8138719444451361, 0.817833579404119, 0.7804436710987308, 0.8037120014880474, 0.8148625434364879, 0.816194163226536, 0.8124989320929106, 0.8130743852749779, 0.813808466351297, 0.8031311383377968, 0.8135987918296701, 0.7962833646906438, 0.810424213131726, 0.7787675193798202, 0.813318681366499, 0.8167642395528504, 0.8189256875615737, 0.7837722644250856, 0.8186025028253828, 0.8058919482753651, 0.8215793019808597, 0.8209888393229025, 0.8176100213051124, 0.8176100213051124, 0.8169590897584739, 0.8176100213051124, 0.8118525873380484, 0.797546153852673, 0.8049973277633492, 0.7992972830219068, 0.8167570595239875, 0.8075724663451007, 0.816718227927354], \"yaxis\": \"y\"}, {\"marker\": {\"color\": [0, 1, 2, 3, 4, 5, 6, 7, 8, 9, 10, 11, 12, 13, 14, 15, 16, 17, 18, 19, 20, 21, 22, 23, 24, 25, 26, 27, 28, 29, 30, 31, 32, 33, 34, 35, 36, 37, 38, 39, 40, 41, 42, 43, 44, 45, 46, 47, 48, 49, 50, 51, 52, 53, 54, 55, 56, 57, 58, 59, 60, 61, 62, 63, 64, 65, 66, 67, 68, 69, 70, 71, 72, 73, 74, 75, 76, 77, 78, 79, 80, 81, 82, 83, 84, 85, 86, 87, 88, 89, 90, 91, 92, 93, 94, 95, 96, 97, 98, 99], \"colorbar\": {\"title\": {\"text\": \"#Trials\"}, \"x\": 1.0, \"xpad\": 40}, \"colorscale\": [[0.0, \"rgb(247,251,255)\"], [0.125, \"rgb(222,235,247)\"], [0.25, \"rgb(198,219,239)\"], [0.375, \"rgb(158,202,225)\"], [0.5, \"rgb(107,174,214)\"], [0.625, \"rgb(66,146,198)\"], [0.75, \"rgb(33,113,181)\"], [0.875, \"rgb(8,81,156)\"], [1.0, \"rgb(8,48,107)\"]], \"line\": {\"color\": \"Grey\", \"width\": 0.5}, \"showscale\": false}, \"mode\": \"markers\", \"showlegend\": false, \"type\": \"scatter\", \"x\": [\"balanced_subsample\", \"balanced_subsample\", \"balanced_subsample\", \"balanced_subsample\", \"balanced_subsample\", \"balanced_subsample\", \"balanced_subsample\", \"balanced_subsample\", \"balanced_subsample\", \"balanced_subsample\", \"balanced_subsample\", \"balanced_subsample\", \"balanced_subsample\", \"balanced_subsample\", \"balanced_subsample\", \"balanced_subsample\", \"balanced_subsample\", \"balanced_subsample\", \"balanced_subsample\", \"balanced_subsample\", \"balanced_subsample\", \"balanced_subsample\", \"balanced_subsample\", \"balanced_subsample\", \"balanced_subsample\", \"balanced_subsample\", \"balanced_subsample\", \"balanced_subsample\", \"balanced_subsample\", \"balanced_subsample\", \"balanced_subsample\", \"balanced_subsample\", \"balanced_subsample\", \"balanced_subsample\", \"balanced_subsample\", \"balanced_subsample\", \"balanced_subsample\", \"balanced_subsample\", \"balanced_subsample\", \"balanced_subsample\", \"balanced_subsample\", \"balanced_subsample\", \"balanced_subsample\", \"balanced_subsample\", \"balanced_subsample\", \"balanced_subsample\", \"balanced_subsample\", \"balanced_subsample\", \"balanced_subsample\", \"balanced_subsample\", \"balanced_subsample\", \"balanced_subsample\", \"balanced_subsample\", \"balanced_subsample\", \"balanced_subsample\", \"balanced_subsample\", \"balanced_subsample\", \"balanced_subsample\", \"balanced_subsample\", \"balanced_subsample\", \"balanced_subsample\", \"balanced_subsample\", \"balanced_subsample\", \"balanced_subsample\", \"balanced_subsample\", \"balanced_subsample\", \"balanced_subsample\", \"balanced_subsample\", \"balanced_subsample\", \"balanced_subsample\", \"balanced_subsample\", \"balanced_subsample\", \"balanced_subsample\", \"balanced_subsample\", \"balanced_subsample\", \"balanced_subsample\", \"balanced_subsample\", \"balanced_subsample\", \"balanced_subsample\", \"balanced_subsample\", \"balanced_subsample\", \"balanced_subsample\", \"balanced_subsample\", \"balanced_subsample\", \"balanced_subsample\", \"balanced_subsample\", \"balanced_subsample\", \"balanced_subsample\", \"balanced_subsample\", \"balanced_subsample\", \"balanced_subsample\", \"balanced_subsample\", \"balanced_subsample\", \"balanced_subsample\", \"balanced_subsample\", \"balanced_subsample\", \"balanced_subsample\", \"balanced_subsample\", \"balanced_subsample\", \"balanced_subsample\"], \"xaxis\": \"x2\", \"y\": [0.7827459472637629, 0.7710833392467813, 0.7798987976976947, 0.7857053401410156, 0.7808670312142292, 0.7743312412483125, 0.7775071361478494, 0.7838899697612186, 0.7772838853838744, 0.7771007221465295, 0.8066805377122327, 0.8120441730895157, 0.8100181580121286, 0.8082294694404286, 0.795620488609139, 0.799219978566103, 0.7931456787161527, 0.8022940736210104, 0.8089041922120458, 0.7904218447764887, 0.7720177334630192, 0.8133946502058573, 0.8133946502058573, 0.8069520899989019, 0.8043259317723602, 0.7906768605438533, 0.8048919714194925, 0.7940353641362453, 0.8119547643875354, 0.7861639176830172, 0.7895183876814169, 0.8119547643875354, 0.8169425174280313, 0.8050186461775025, 0.8098117082156128, 0.7814462302710599, 0.7958380757239535, 0.7986678171366687, 0.7899553961391663, 0.790388980823446, 0.7873449025009639, 0.8080095543578173, 0.8104203520340416, 0.8176968080929088, 0.8158301199643759, 0.8169564021626851, 0.8123608340173627, 0.8069259691759675, 0.7965485361261999, 0.784679241249696, 0.7805476941210053, 0.8123218403447613, 0.806920632979658, 0.7934843803052916, 0.8073856842302342, 0.799755766718666, 0.8078472578856686, 0.8106975718651089, 0.7938869440423003, 0.7773422219015341, 0.8048380245150003, 0.8148625434364879, 0.8056387618811681, 0.8166872040460659, 0.8095424346628187, 0.8114074416244884, 0.8020559824533958, 0.8138719444451361, 0.817833579404119, 0.7804436710987308, 0.8037120014880474, 0.8148625434364879, 0.816194163226536, 0.8124989320929106, 0.8130743852749779, 0.813808466351297, 0.8031311383377968, 0.8135987918296701, 0.7962833646906438, 0.810424213131726, 0.7787675193798202, 0.813318681366499, 0.8167642395528504, 0.8189256875615737, 0.7837722644250856, 0.8186025028253828, 0.8058919482753651, 0.8215793019808597, 0.8209888393229025, 0.8176100213051124, 0.8176100213051124, 0.8169590897584739, 0.8176100213051124, 0.8118525873380484, 0.797546153852673, 0.8049973277633492, 0.7992972830219068, 0.8167570595239875, 0.8075724663451007, 0.816718227927354], \"yaxis\": \"y2\"}, {\"marker\": {\"color\": [0, 1, 2, 3, 4, 5, 6, 7, 8, 9, 10, 11, 12, 13, 14, 15, 16, 17, 18, 19, 20, 21, 22, 23, 24, 25, 26, 27, 28, 29, 30, 31, 32, 33, 34, 35, 36, 37, 38, 39, 40, 41, 42, 43, 44, 45, 46, 47, 48, 49, 50, 51, 52, 53, 54, 55, 56, 57, 58, 59, 60, 61, 62, 63, 64, 65, 66, 67, 68, 69, 70, 71, 72, 73, 74, 75, 76, 77, 78, 79, 80, 81, 82, 83, 84, 85, 86, 87, 88, 89, 90, 91, 92, 93, 94, 95, 96, 97, 98, 99], \"colorbar\": {\"title\": {\"text\": \"#Trials\"}, \"x\": 1.0, \"xpad\": 40}, \"colorscale\": [[0.0, \"rgb(247,251,255)\"], [0.125, \"rgb(222,235,247)\"], [0.25, \"rgb(198,219,239)\"], [0.375, \"rgb(158,202,225)\"], [0.5, \"rgb(107,174,214)\"], [0.625, \"rgb(66,146,198)\"], [0.75, \"rgb(33,113,181)\"], [0.875, \"rgb(8,81,156)\"], [1.0, \"rgb(8,48,107)\"]], \"line\": {\"color\": \"Grey\", \"width\": 0.5}, \"showscale\": false}, \"mode\": \"markers\", \"showlegend\": false, \"type\": \"scatter\", \"x\": [\"gini\", \"gini\", \"gini\", \"entropy\", \"gini\", \"entropy\", \"gini\", \"gini\", \"entropy\", \"gini\", \"entropy\", \"entropy\", \"entropy\", \"entropy\", \"entropy\", \"entropy\", \"entropy\", \"entropy\", \"entropy\", \"entropy\", \"entropy\", \"entropy\", \"entropy\", \"entropy\", \"entropy\", \"entropy\", \"entropy\", \"entropy\", \"entropy\", \"entropy\", \"entropy\", \"entropy\", \"entropy\", \"entropy\", \"entropy\", \"entropy\", \"entropy\", \"gini\", \"entropy\", \"gini\", \"entropy\", \"entropy\", \"entropy\", \"entropy\", \"entropy\", \"entropy\", \"entropy\", \"gini\", \"entropy\", \"entropy\", \"entropy\", \"entropy\", \"entropy\", \"entropy\", \"entropy\", \"entropy\", \"entropy\", \"entropy\", \"entropy\", \"entropy\", \"gini\", \"entropy\", \"entropy\", \"entropy\", \"entropy\", \"entropy\", \"entropy\", \"entropy\", \"entropy\", \"entropy\", \"entropy\", \"entropy\", \"entropy\", \"entropy\", \"entropy\", \"entropy\", \"entropy\", \"entropy\", \"entropy\", \"entropy\", \"entropy\", \"entropy\", \"entropy\", \"entropy\", \"entropy\", \"entropy\", \"entropy\", \"entropy\", \"entropy\", \"gini\", \"gini\", \"gini\", \"gini\", \"gini\", \"gini\", \"gini\", \"gini\", \"gini\", \"gini\", \"gini\"], \"xaxis\": \"x3\", \"y\": [0.7827459472637629, 0.7710833392467813, 0.7798987976976947, 0.7857053401410156, 0.7808670312142292, 0.7743312412483125, 0.7775071361478494, 0.7838899697612186, 0.7772838853838744, 0.7771007221465295, 0.8066805377122327, 0.8120441730895157, 0.8100181580121286, 0.8082294694404286, 0.795620488609139, 0.799219978566103, 0.7931456787161527, 0.8022940736210104, 0.8089041922120458, 0.7904218447764887, 0.7720177334630192, 0.8133946502058573, 0.8133946502058573, 0.8069520899989019, 0.8043259317723602, 0.7906768605438533, 0.8048919714194925, 0.7940353641362453, 0.8119547643875354, 0.7861639176830172, 0.7895183876814169, 0.8119547643875354, 0.8169425174280313, 0.8050186461775025, 0.8098117082156128, 0.7814462302710599, 0.7958380757239535, 0.7986678171366687, 0.7899553961391663, 0.790388980823446, 0.7873449025009639, 0.8080095543578173, 0.8104203520340416, 0.8176968080929088, 0.8158301199643759, 0.8169564021626851, 0.8123608340173627, 0.8069259691759675, 0.7965485361261999, 0.784679241249696, 0.7805476941210053, 0.8123218403447613, 0.806920632979658, 0.7934843803052916, 0.8073856842302342, 0.799755766718666, 0.8078472578856686, 0.8106975718651089, 0.7938869440423003, 0.7773422219015341, 0.8048380245150003, 0.8148625434364879, 0.8056387618811681, 0.8166872040460659, 0.8095424346628187, 0.8114074416244884, 0.8020559824533958, 0.8138719444451361, 0.817833579404119, 0.7804436710987308, 0.8037120014880474, 0.8148625434364879, 0.816194163226536, 0.8124989320929106, 0.8130743852749779, 0.813808466351297, 0.8031311383377968, 0.8135987918296701, 0.7962833646906438, 0.810424213131726, 0.7787675193798202, 0.813318681366499, 0.8167642395528504, 0.8189256875615737, 0.7837722644250856, 0.8186025028253828, 0.8058919482753651, 0.8215793019808597, 0.8209888393229025, 0.8176100213051124, 0.8176100213051124, 0.8169590897584739, 0.8176100213051124, 0.8118525873380484, 0.797546153852673, 0.8049973277633492, 0.7992972830219068, 0.8167570595239875, 0.8075724663451007, 0.816718227927354], \"yaxis\": \"y3\"}, {\"marker\": {\"color\": [0, 1, 2, 3, 4, 5, 6, 7, 8, 9, 10, 11, 12, 13, 14, 15, 16, 17, 18, 19, 20, 21, 22, 23, 24, 25, 26, 27, 28, 29, 30, 31, 32, 33, 34, 35, 36, 37, 38, 39, 40, 41, 42, 43, 44, 45, 46, 47, 48, 49, 50, 51, 52, 53, 54, 55, 56, 57, 58, 59, 60, 61, 62, 63, 64, 65, 66, 67, 68, 69, 70, 71, 72, 73, 74, 75, 76, 77, 78, 79, 80, 81, 82, 83, 84, 85, 86, 87, 88, 89, 90, 91, 92, 93, 94, 95, 96, 97, 98, 99], \"colorbar\": {\"title\": {\"text\": \"#Trials\"}, \"x\": 1.0, \"xpad\": 40}, \"colorscale\": [[0.0, \"rgb(247,251,255)\"], [0.125, \"rgb(222,235,247)\"], [0.25, \"rgb(198,219,239)\"], [0.375, \"rgb(158,202,225)\"], [0.5, \"rgb(107,174,214)\"], [0.625, \"rgb(66,146,198)\"], [0.75, \"rgb(33,113,181)\"], [0.875, \"rgb(8,81,156)\"], [1.0, \"rgb(8,48,107)\"]], \"line\": {\"color\": \"Grey\", \"width\": 0.5}, \"showscale\": false}, \"mode\": \"markers\", \"showlegend\": false, \"type\": \"scatter\", \"x\": [26, 9, 20, 18, 16, 18, 19, 16, 14, 25, 11, 11, 11, 11, 9, 12, 12, 10, 13, 9, 10, 14, 14, 14, 14, 12, 15, 13, 17, 22, 10, 17, 15, 15, 13, 21, 16, 14, 13, 18, 15, 17, 19, 16, 16, 16, 16, 18, 17, 16, 20, 14, 15, 16, 14, 15, 14, 14, 12, 13, 16, 16, 15, 16, 15, 18, 17, 16, 19, 24, 19, 16, 17, 18, 17, 16, 14, 19, 15, 20, 15, 16, 18, 18, 17, 18, 18, 21, 21, 23, 23, 21, 23, 23, 27, 21, 23, 25, 21, 22], \"xaxis\": \"x4\", \"y\": [0.7827459472637629, 0.7710833392467813, 0.7798987976976947, 0.7857053401410156, 0.7808670312142292, 0.7743312412483125, 0.7775071361478494, 0.7838899697612186, 0.7772838853838744, 0.7771007221465295, 0.8066805377122327, 0.8120441730895157, 0.8100181580121286, 0.8082294694404286, 0.795620488609139, 0.799219978566103, 0.7931456787161527, 0.8022940736210104, 0.8089041922120458, 0.7904218447764887, 0.7720177334630192, 0.8133946502058573, 0.8133946502058573, 0.8069520899989019, 0.8043259317723602, 0.7906768605438533, 0.8048919714194925, 0.7940353641362453, 0.8119547643875354, 0.7861639176830172, 0.7895183876814169, 0.8119547643875354, 0.8169425174280313, 0.8050186461775025, 0.8098117082156128, 0.7814462302710599, 0.7958380757239535, 0.7986678171366687, 0.7899553961391663, 0.790388980823446, 0.7873449025009639, 0.8080095543578173, 0.8104203520340416, 0.8176968080929088, 0.8158301199643759, 0.8169564021626851, 0.8123608340173627, 0.8069259691759675, 0.7965485361261999, 0.784679241249696, 0.7805476941210053, 0.8123218403447613, 0.806920632979658, 0.7934843803052916, 0.8073856842302342, 0.799755766718666, 0.8078472578856686, 0.8106975718651089, 0.7938869440423003, 0.7773422219015341, 0.8048380245150003, 0.8148625434364879, 0.8056387618811681, 0.8166872040460659, 0.8095424346628187, 0.8114074416244884, 0.8020559824533958, 0.8138719444451361, 0.817833579404119, 0.7804436710987308, 0.8037120014880474, 0.8148625434364879, 0.816194163226536, 0.8124989320929106, 0.8130743852749779, 0.813808466351297, 0.8031311383377968, 0.8135987918296701, 0.7962833646906438, 0.810424213131726, 0.7787675193798202, 0.813318681366499, 0.8167642395528504, 0.8189256875615737, 0.7837722644250856, 0.8186025028253828, 0.8058919482753651, 0.8215793019808597, 0.8209888393229025, 0.8176100213051124, 0.8176100213051124, 0.8169590897584739, 0.8176100213051124, 0.8118525873380484, 0.797546153852673, 0.8049973277633492, 0.7992972830219068, 0.8167570595239875, 0.8075724663451007, 0.816718227927354], \"yaxis\": \"y4\"}, {\"marker\": {\"color\": [0, 1, 2, 3, 4, 5, 6, 7, 8, 9, 10, 11, 12, 13, 14, 15, 16, 17, 18, 19, 20, 21, 22, 23, 24, 25, 26, 27, 28, 29, 30, 31, 32, 33, 34, 35, 36, 37, 38, 39, 40, 41, 42, 43, 44, 45, 46, 47, 48, 49, 50, 51, 52, 53, 54, 55, 56, 57, 58, 59, 60, 61, 62, 63, 64, 65, 66, 67, 68, 69, 70, 71, 72, 73, 74, 75, 76, 77, 78, 79, 80, 81, 82, 83, 84, 85, 86, 87, 88, 89, 90, 91, 92, 93, 94, 95, 96, 97, 98, 99], \"colorbar\": {\"title\": {\"text\": \"#Trials\"}, \"x\": 1.0, \"xpad\": 40}, \"colorscale\": [[0.0, \"rgb(247,251,255)\"], [0.125, \"rgb(222,235,247)\"], [0.25, \"rgb(198,219,239)\"], [0.375, \"rgb(158,202,225)\"], [0.5, \"rgb(107,174,214)\"], [0.625, \"rgb(66,146,198)\"], [0.75, \"rgb(33,113,181)\"], [0.875, \"rgb(8,81,156)\"], [1.0, \"rgb(8,48,107)\"]], \"line\": {\"color\": \"Grey\", \"width\": 0.5}, \"showscale\": false}, \"mode\": \"markers\", \"showlegend\": false, \"type\": \"scatter\", \"x\": [\"log2\", \"log2\", \"sqrt\", \"auto\", \"log2\", \"auto\", \"sqrt\", \"auto\", \"auto\", \"sqrt\", \"auto\", \"auto\", \"auto\", \"auto\", \"auto\", \"auto\", \"auto\", \"auto\", \"auto\", \"auto\", \"log2\", \"auto\", \"auto\", \"auto\", \"auto\", \"sqrt\", \"auto\", \"auto\", \"auto\", \"log2\", \"auto\", \"auto\", \"auto\", \"auto\", \"log2\", \"auto\", \"sqrt\", \"auto\", \"auto\", \"log2\", \"auto\", \"auto\", \"auto\", \"auto\", \"auto\", \"sqrt\", \"sqrt\", \"sqrt\", \"sqrt\", \"sqrt\", \"sqrt\", \"auto\", \"auto\", \"auto\", \"auto\", \"auto\", \"sqrt\", \"auto\", \"auto\", \"auto\", \"auto\", \"sqrt\", \"sqrt\", \"sqrt\", \"sqrt\", \"sqrt\", \"sqrt\", \"sqrt\", \"sqrt\", \"sqrt\", \"sqrt\", \"sqrt\", \"sqrt\", \"sqrt\", \"sqrt\", \"sqrt\", \"sqrt\", \"sqrt\", \"sqrt\", \"sqrt\", \"log2\", \"sqrt\", \"sqrt\", \"sqrt\", \"sqrt\", \"sqrt\", \"sqrt\", \"sqrt\", \"sqrt\", \"sqrt\", \"sqrt\", \"sqrt\", \"sqrt\", \"sqrt\", \"sqrt\", \"sqrt\", \"sqrt\", \"sqrt\", \"sqrt\", \"sqrt\"], \"xaxis\": \"x5\", \"y\": [0.7827459472637629, 0.7710833392467813, 0.7798987976976947, 0.7857053401410156, 0.7808670312142292, 0.7743312412483125, 0.7775071361478494, 0.7838899697612186, 0.7772838853838744, 0.7771007221465295, 0.8066805377122327, 0.8120441730895157, 0.8100181580121286, 0.8082294694404286, 0.795620488609139, 0.799219978566103, 0.7931456787161527, 0.8022940736210104, 0.8089041922120458, 0.7904218447764887, 0.7720177334630192, 0.8133946502058573, 0.8133946502058573, 0.8069520899989019, 0.8043259317723602, 0.7906768605438533, 0.8048919714194925, 0.7940353641362453, 0.8119547643875354, 0.7861639176830172, 0.7895183876814169, 0.8119547643875354, 0.8169425174280313, 0.8050186461775025, 0.8098117082156128, 0.7814462302710599, 0.7958380757239535, 0.7986678171366687, 0.7899553961391663, 0.790388980823446, 0.7873449025009639, 0.8080095543578173, 0.8104203520340416, 0.8176968080929088, 0.8158301199643759, 0.8169564021626851, 0.8123608340173627, 0.8069259691759675, 0.7965485361261999, 0.784679241249696, 0.7805476941210053, 0.8123218403447613, 0.806920632979658, 0.7934843803052916, 0.8073856842302342, 0.799755766718666, 0.8078472578856686, 0.8106975718651089, 0.7938869440423003, 0.7773422219015341, 0.8048380245150003, 0.8148625434364879, 0.8056387618811681, 0.8166872040460659, 0.8095424346628187, 0.8114074416244884, 0.8020559824533958, 0.8138719444451361, 0.817833579404119, 0.7804436710987308, 0.8037120014880474, 0.8148625434364879, 0.816194163226536, 0.8124989320929106, 0.8130743852749779, 0.813808466351297, 0.8031311383377968, 0.8135987918296701, 0.7962833646906438, 0.810424213131726, 0.7787675193798202, 0.813318681366499, 0.8167642395528504, 0.8189256875615737, 0.7837722644250856, 0.8186025028253828, 0.8058919482753651, 0.8215793019808597, 0.8209888393229025, 0.8176100213051124, 0.8176100213051124, 0.8169590897584739, 0.8176100213051124, 0.8118525873380484, 0.797546153852673, 0.8049973277633492, 0.7992972830219068, 0.8167570595239875, 0.8075724663451007, 0.816718227927354], \"yaxis\": \"y5\"}, {\"marker\": {\"color\": [0, 1, 2, 3, 4, 5, 6, 7, 8, 9, 10, 11, 12, 13, 14, 15, 16, 17, 18, 19, 20, 21, 22, 23, 24, 25, 26, 27, 28, 29, 30, 31, 32, 33, 34, 35, 36, 37, 38, 39, 40, 41, 42, 43, 44, 45, 46, 47, 48, 49, 50, 51, 52, 53, 54, 55, 56, 57, 58, 59, 60, 61, 62, 63, 64, 65, 66, 67, 68, 69, 70, 71, 72, 73, 74, 75, 76, 77, 78, 79, 80, 81, 82, 83, 84, 85, 86, 87, 88, 89, 90, 91, 92, 93, 94, 95, 96, 97, 98, 99], \"colorbar\": {\"title\": {\"text\": \"#Trials\"}, \"x\": 1.0, \"xpad\": 40}, \"colorscale\": [[0.0, \"rgb(247,251,255)\"], [0.125, \"rgb(222,235,247)\"], [0.25, \"rgb(198,219,239)\"], [0.375, \"rgb(158,202,225)\"], [0.5, \"rgb(107,174,214)\"], [0.625, \"rgb(66,146,198)\"], [0.75, \"rgb(33,113,181)\"], [0.875, \"rgb(8,81,156)\"], [1.0, \"rgb(8,48,107)\"]], \"line\": {\"color\": \"Grey\", \"width\": 0.5}, \"showscale\": false}, \"mode\": \"markers\", \"showlegend\": false, \"type\": \"scatter\", \"x\": [76, 92, 34, 62, 46, 59, 77, 13, 75, 40, 17, 5, 5, 9, 27, 7, 26, 21, 6, 38, 99, 8, 8, 18, 26, 12, 6, 30, 20, 13, 49, 20, 5, 5, 13, 11, 5, 34, 58, 84, 15, 22, 9, 17, 16, 15, 16, 31, 41, 23, 16, 13, 9, 70, 24, 9, 18, 5, 10, 18, 28, 14, 15, 8, 24, 20, 12, 7, 14, 32, 28, 14, 14, 19, 11, 17, 22, 14, 5, 11, 25, 15, 7, 7, 7, 8, 8, 5, 5, 5, 5, 5, 5, 5, 10, 6, 11, 9, 5, 5], \"xaxis\": \"x6\", \"y\": [0.7827459472637629, 0.7710833392467813, 0.7798987976976947, 0.7857053401410156, 0.7808670312142292, 0.7743312412483125, 0.7775071361478494, 0.7838899697612186, 0.7772838853838744, 0.7771007221465295, 0.8066805377122327, 0.8120441730895157, 0.8100181580121286, 0.8082294694404286, 0.795620488609139, 0.799219978566103, 0.7931456787161527, 0.8022940736210104, 0.8089041922120458, 0.7904218447764887, 0.7720177334630192, 0.8133946502058573, 0.8133946502058573, 0.8069520899989019, 0.8043259317723602, 0.7906768605438533, 0.8048919714194925, 0.7940353641362453, 0.8119547643875354, 0.7861639176830172, 0.7895183876814169, 0.8119547643875354, 0.8169425174280313, 0.8050186461775025, 0.8098117082156128, 0.7814462302710599, 0.7958380757239535, 0.7986678171366687, 0.7899553961391663, 0.790388980823446, 0.7873449025009639, 0.8080095543578173, 0.8104203520340416, 0.8176968080929088, 0.8158301199643759, 0.8169564021626851, 0.8123608340173627, 0.8069259691759675, 0.7965485361261999, 0.784679241249696, 0.7805476941210053, 0.8123218403447613, 0.806920632979658, 0.7934843803052916, 0.8073856842302342, 0.799755766718666, 0.8078472578856686, 0.8106975718651089, 0.7938869440423003, 0.7773422219015341, 0.8048380245150003, 0.8148625434364879, 0.8056387618811681, 0.8166872040460659, 0.8095424346628187, 0.8114074416244884, 0.8020559824533958, 0.8138719444451361, 0.817833579404119, 0.7804436710987308, 0.8037120014880474, 0.8148625434364879, 0.816194163226536, 0.8124989320929106, 0.8130743852749779, 0.813808466351297, 0.8031311383377968, 0.8135987918296701, 0.7962833646906438, 0.810424213131726, 0.7787675193798202, 0.813318681366499, 0.8167642395528504, 0.8189256875615737, 0.7837722644250856, 0.8186025028253828, 0.8058919482753651, 0.8215793019808597, 0.8209888393229025, 0.8176100213051124, 0.8176100213051124, 0.8169590897584739, 0.8176100213051124, 0.8118525873380484, 0.797546153852673, 0.8049973277633492, 0.7992972830219068, 0.8167570595239875, 0.8075724663451007, 0.816718227927354], \"yaxis\": \"y6\"}, {\"marker\": {\"color\": [0, 1, 2, 3, 4, 5, 6, 7, 8, 9, 10, 11, 12, 13, 14, 15, 16, 17, 18, 19, 20, 21, 22, 23, 24, 25, 26, 27, 28, 29, 30, 31, 32, 33, 34, 35, 36, 37, 38, 39, 40, 41, 42, 43, 44, 45, 46, 47, 48, 49, 50, 51, 52, 53, 54, 55, 56, 57, 58, 59, 60, 61, 62, 63, 64, 65, 66, 67, 68, 69, 70, 71, 72, 73, 74, 75, 76, 77, 78, 79, 80, 81, 82, 83, 84, 85, 86, 87, 88, 89, 90, 91, 92, 93, 94, 95, 96, 97, 98, 99], \"colorbar\": {\"title\": {\"text\": \"#Trials\"}, \"x\": 1.0, \"xpad\": 40}, \"colorscale\": [[0.0, \"rgb(247,251,255)\"], [0.125, \"rgb(222,235,247)\"], [0.25, \"rgb(198,219,239)\"], [0.375, \"rgb(158,202,225)\"], [0.5, \"rgb(107,174,214)\"], [0.625, \"rgb(66,146,198)\"], [0.75, \"rgb(33,113,181)\"], [0.875, \"rgb(8,81,156)\"], [1.0, \"rgb(8,48,107)\"]], \"line\": {\"color\": \"Grey\", \"width\": 0.5}, \"showscale\": false}, \"mode\": \"markers\", \"showlegend\": false, \"type\": \"scatter\", \"x\": [21, 53, 38, 22, 28, 52, 39, 26, 44, 50, 1, 2, 1, 1, 10, 11, 13, 1, 6, 16, 60, 6, 6, 6, 6, 18, 9, 15, 5, 23, 19, 5, 4, 9, 3, 33, 13, 8, 13, 3, 23, 4, 7, 1, 1, 1, 1, 1, 11, 32, 42, 3, 8, 4, 1, 11, 7, 1, 15, 59, 4, 1, 6, 3, 2, 3, 9, 1, 1, 49, 4, 1, 1, 3, 5, 2, 7, 5, 10, 1, 36, 1, 2, 3, 28, 3, 8, 3, 4, 5, 5, 5, 5, 6, 12, 8, 10, 5, 7, 5], \"xaxis\": \"x7\", \"y\": [0.7827459472637629, 0.7710833392467813, 0.7798987976976947, 0.7857053401410156, 0.7808670312142292, 0.7743312412483125, 0.7775071361478494, 0.7838899697612186, 0.7772838853838744, 0.7771007221465295, 0.8066805377122327, 0.8120441730895157, 0.8100181580121286, 0.8082294694404286, 0.795620488609139, 0.799219978566103, 0.7931456787161527, 0.8022940736210104, 0.8089041922120458, 0.7904218447764887, 0.7720177334630192, 0.8133946502058573, 0.8133946502058573, 0.8069520899989019, 0.8043259317723602, 0.7906768605438533, 0.8048919714194925, 0.7940353641362453, 0.8119547643875354, 0.7861639176830172, 0.7895183876814169, 0.8119547643875354, 0.8169425174280313, 0.8050186461775025, 0.8098117082156128, 0.7814462302710599, 0.7958380757239535, 0.7986678171366687, 0.7899553961391663, 0.790388980823446, 0.7873449025009639, 0.8080095543578173, 0.8104203520340416, 0.8176968080929088, 0.8158301199643759, 0.8169564021626851, 0.8123608340173627, 0.8069259691759675, 0.7965485361261999, 0.784679241249696, 0.7805476941210053, 0.8123218403447613, 0.806920632979658, 0.7934843803052916, 0.8073856842302342, 0.799755766718666, 0.8078472578856686, 0.8106975718651089, 0.7938869440423003, 0.7773422219015341, 0.8048380245150003, 0.8148625434364879, 0.8056387618811681, 0.8166872040460659, 0.8095424346628187, 0.8114074416244884, 0.8020559824533958, 0.8138719444451361, 0.817833579404119, 0.7804436710987308, 0.8037120014880474, 0.8148625434364879, 0.816194163226536, 0.8124989320929106, 0.8130743852749779, 0.813808466351297, 0.8031311383377968, 0.8135987918296701, 0.7962833646906438, 0.810424213131726, 0.7787675193798202, 0.813318681366499, 0.8167642395528504, 0.8189256875615737, 0.7837722644250856, 0.8186025028253828, 0.8058919482753651, 0.8215793019808597, 0.8209888393229025, 0.8176100213051124, 0.8176100213051124, 0.8169590897584739, 0.8176100213051124, 0.8118525873380484, 0.797546153852673, 0.8049973277633492, 0.7992972830219068, 0.8167570595239875, 0.8075724663451007, 0.816718227927354], \"yaxis\": \"y7\"}, {\"marker\": {\"color\": [0, 1, 2, 3, 4, 5, 6, 7, 8, 9, 10, 11, 12, 13, 14, 15, 16, 17, 18, 19, 20, 21, 22, 23, 24, 25, 26, 27, 28, 29, 30, 31, 32, 33, 34, 35, 36, 37, 38, 39, 40, 41, 42, 43, 44, 45, 46, 47, 48, 49, 50, 51, 52, 53, 54, 55, 56, 57, 58, 59, 60, 61, 62, 63, 64, 65, 66, 67, 68, 69, 70, 71, 72, 73, 74, 75, 76, 77, 78, 79, 80, 81, 82, 83, 84, 85, 86, 87, 88, 89, 90, 91, 92, 93, 94, 95, 96, 97, 98, 99], \"colorbar\": {\"title\": {\"text\": \"#Trials\"}, \"x\": 1.0, \"xpad\": 40}, \"colorscale\": [[0.0, \"rgb(247,251,255)\"], [0.125, \"rgb(222,235,247)\"], [0.25, \"rgb(198,219,239)\"], [0.375, \"rgb(158,202,225)\"], [0.5, \"rgb(107,174,214)\"], [0.625, \"rgb(66,146,198)\"], [0.75, \"rgb(33,113,181)\"], [0.875, \"rgb(8,81,156)\"], [1.0, \"rgb(8,48,107)\"]], \"line\": {\"color\": \"Grey\", \"width\": 0.5}, \"showscale\": false}, \"mode\": \"markers\", \"showlegend\": false, \"type\": \"scatter\", \"x\": [200, 350, 100, 250, 50, 350, 150, 200, 200, 150, 300, 300, 300, 400, 300, 400, 300, 250, 350, 300, 250, 350, 350, 400, 350, 350, 400, 350, 300, 250, 400, 300, 350, 350, 350, 350, 400, 350, 300, 250, 350, 300, 300, 250, 200, 150, 150, 100, 200, 150, 100, 100, 200, 150, 200, 50, 150, 200, 150, 250, 200, 150, 150, 100, 100, 50, 100, 150, 150, 100, 150, 150, 150, 200, 100, 200, 150, 150, 100, 50, 200, 150, 150, 150, 100, 250, 250, 250, 250, 250, 250, 250, 250, 250, 250, 250, 250, 250, 250, 250], \"xaxis\": \"x8\", \"y\": [0.7827459472637629, 0.7710833392467813, 0.7798987976976947, 0.7857053401410156, 0.7808670312142292, 0.7743312412483125, 0.7775071361478494, 0.7838899697612186, 0.7772838853838744, 0.7771007221465295, 0.8066805377122327, 0.8120441730895157, 0.8100181580121286, 0.8082294694404286, 0.795620488609139, 0.799219978566103, 0.7931456787161527, 0.8022940736210104, 0.8089041922120458, 0.7904218447764887, 0.7720177334630192, 0.8133946502058573, 0.8133946502058573, 0.8069520899989019, 0.8043259317723602, 0.7906768605438533, 0.8048919714194925, 0.7940353641362453, 0.8119547643875354, 0.7861639176830172, 0.7895183876814169, 0.8119547643875354, 0.8169425174280313, 0.8050186461775025, 0.8098117082156128, 0.7814462302710599, 0.7958380757239535, 0.7986678171366687, 0.7899553961391663, 0.790388980823446, 0.7873449025009639, 0.8080095543578173, 0.8104203520340416, 0.8176968080929088, 0.8158301199643759, 0.8169564021626851, 0.8123608340173627, 0.8069259691759675, 0.7965485361261999, 0.784679241249696, 0.7805476941210053, 0.8123218403447613, 0.806920632979658, 0.7934843803052916, 0.8073856842302342, 0.799755766718666, 0.8078472578856686, 0.8106975718651089, 0.7938869440423003, 0.7773422219015341, 0.8048380245150003, 0.8148625434364879, 0.8056387618811681, 0.8166872040460659, 0.8095424346628187, 0.8114074416244884, 0.8020559824533958, 0.8138719444451361, 0.817833579404119, 0.7804436710987308, 0.8037120014880474, 0.8148625434364879, 0.816194163226536, 0.8124989320929106, 0.8130743852749779, 0.813808466351297, 0.8031311383377968, 0.8135987918296701, 0.7962833646906438, 0.810424213131726, 0.7787675193798202, 0.813318681366499, 0.8167642395528504, 0.8189256875615737, 0.7837722644250856, 0.8186025028253828, 0.8058919482753651, 0.8215793019808597, 0.8209888393229025, 0.8176100213051124, 0.8176100213051124, 0.8169590897584739, 0.8176100213051124, 0.8118525873380484, 0.797546153852673, 0.8049973277633492, 0.7992972830219068, 0.8167570595239875, 0.8075724663451007, 0.816718227927354], \"yaxis\": \"y8\"}, {\"marker\": {\"color\": [0, 1, 2, 3, 4, 5, 6, 7, 8, 9, 10, 11, 12, 13, 14, 15, 16, 17, 18, 19, 20, 21, 22, 23, 24, 25, 26, 27, 28, 29, 30, 31, 32, 33, 34, 35, 36, 37, 38, 39, 40, 41, 42, 43, 44, 45, 46, 47, 48, 49, 50, 51, 52, 53, 54, 55, 56, 57, 58, 59, 60, 61, 62, 63, 64, 65, 66, 67, 68, 69, 70, 71, 72, 73, 74, 75, 76, 77, 78, 79, 80, 81, 82, 83, 84, 85, 86, 87, 88, 89, 90, 91, 92, 93, 94, 95, 96, 97, 98, 99], \"colorbar\": {\"title\": {\"text\": \"#Trials\"}, \"x\": 1.0, \"xpad\": 40}, \"colorscale\": [[0.0, \"rgb(247,251,255)\"], [0.125, \"rgb(222,235,247)\"], [0.25, \"rgb(198,219,239)\"], [0.375, \"rgb(158,202,225)\"], [0.5, \"rgb(107,174,214)\"], [0.625, \"rgb(66,146,198)\"], [0.75, \"rgb(33,113,181)\"], [0.875, \"rgb(8,81,156)\"], [1.0, \"rgb(8,48,107)\"]], \"line\": {\"color\": \"Grey\", \"width\": 0.5}, \"showscale\": false}, \"mode\": \"markers\", \"showlegend\": false, \"type\": \"scatter\", \"x\": [42, 42, 42, 42, 42, 42, 42, 42, 42, 42, 42, 42, 42, 42, 42, 42, 42, 42, 42, 42, 42, 42, 42, 42, 42, 42, 42, 42, 42, 42, 42, 42, 42, 42, 42, 42, 42, 42, 42, 42, 42, 42, 42, 42, 42, 42, 42, 42, 42, 42, 42, 42, 42, 42, 42, 42, 42, 42, 42, 42, 42, 42, 42, 42, 42, 42, 42, 42, 42, 42, 42, 42, 42, 42, 42, 42, 42, 42, 42, 42, 42, 42, 42, 42, 42, 42, 42, 42, 42, 42, 42, 42, 42, 42, 42, 42, 42, 42, 42, 42], \"xaxis\": \"x9\", \"y\": [0.7827459472637629, 0.7710833392467813, 0.7798987976976947, 0.7857053401410156, 0.7808670312142292, 0.7743312412483125, 0.7775071361478494, 0.7838899697612186, 0.7772838853838744, 0.7771007221465295, 0.8066805377122327, 0.8120441730895157, 0.8100181580121286, 0.8082294694404286, 0.795620488609139, 0.799219978566103, 0.7931456787161527, 0.8022940736210104, 0.8089041922120458, 0.7904218447764887, 0.7720177334630192, 0.8133946502058573, 0.8133946502058573, 0.8069520899989019, 0.8043259317723602, 0.7906768605438533, 0.8048919714194925, 0.7940353641362453, 0.8119547643875354, 0.7861639176830172, 0.7895183876814169, 0.8119547643875354, 0.8169425174280313, 0.8050186461775025, 0.8098117082156128, 0.7814462302710599, 0.7958380757239535, 0.7986678171366687, 0.7899553961391663, 0.790388980823446, 0.7873449025009639, 0.8080095543578173, 0.8104203520340416, 0.8176968080929088, 0.8158301199643759, 0.8169564021626851, 0.8123608340173627, 0.8069259691759675, 0.7965485361261999, 0.784679241249696, 0.7805476941210053, 0.8123218403447613, 0.806920632979658, 0.7934843803052916, 0.8073856842302342, 0.799755766718666, 0.8078472578856686, 0.8106975718651089, 0.7938869440423003, 0.7773422219015341, 0.8048380245150003, 0.8148625434364879, 0.8056387618811681, 0.8166872040460659, 0.8095424346628187, 0.8114074416244884, 0.8020559824533958, 0.8138719444451361, 0.817833579404119, 0.7804436710987308, 0.8037120014880474, 0.8148625434364879, 0.816194163226536, 0.8124989320929106, 0.8130743852749779, 0.813808466351297, 0.8031311383377968, 0.8135987918296701, 0.7962833646906438, 0.810424213131726, 0.7787675193798202, 0.813318681366499, 0.8167642395528504, 0.8189256875615737, 0.7837722644250856, 0.8186025028253828, 0.8058919482753651, 0.8215793019808597, 0.8209888393229025, 0.8176100213051124, 0.8176100213051124, 0.8169590897584739, 0.8176100213051124, 0.8118525873380484, 0.797546153852673, 0.8049973277633492, 0.7992972830219068, 0.8167570595239875, 0.8075724663451007, 0.816718227927354], \"yaxis\": \"y9\"}],                        {\"template\": {\"data\": {\"bar\": [{\"error_x\": {\"color\": \"#2a3f5f\"}, \"error_y\": {\"color\": \"#2a3f5f\"}, \"marker\": {\"line\": {\"color\": \"#E5ECF6\", \"width\": 0.5}}, \"type\": \"bar\"}], \"barpolar\": [{\"marker\": {\"line\": {\"color\": \"#E5ECF6\", \"width\": 0.5}}, \"type\": \"barpolar\"}], \"carpet\": [{\"aaxis\": {\"endlinecolor\": \"#2a3f5f\", \"gridcolor\": \"white\", \"linecolor\": \"white\", \"minorgridcolor\": \"white\", \"startlinecolor\": \"#2a3f5f\"}, \"baxis\": {\"endlinecolor\": \"#2a3f5f\", \"gridcolor\": \"white\", \"linecolor\": \"white\", \"minorgridcolor\": \"white\", \"startlinecolor\": \"#2a3f5f\"}, \"type\": \"carpet\"}], \"choropleth\": [{\"colorbar\": {\"outlinewidth\": 0, \"ticks\": \"\"}, \"type\": \"choropleth\"}], \"contour\": [{\"colorbar\": {\"outlinewidth\": 0, \"ticks\": \"\"}, \"colorscale\": [[0.0, \"#0d0887\"], [0.1111111111111111, \"#46039f\"], [0.2222222222222222, \"#7201a8\"], [0.3333333333333333, \"#9c179e\"], [0.4444444444444444, \"#bd3786\"], [0.5555555555555556, \"#d8576b\"], [0.6666666666666666, \"#ed7953\"], [0.7777777777777778, \"#fb9f3a\"], [0.8888888888888888, \"#fdca26\"], [1.0, \"#f0f921\"]], \"type\": \"contour\"}], \"contourcarpet\": [{\"colorbar\": {\"outlinewidth\": 0, \"ticks\": \"\"}, \"type\": \"contourcarpet\"}], \"heatmap\": [{\"colorbar\": {\"outlinewidth\": 0, \"ticks\": \"\"}, \"colorscale\": [[0.0, \"#0d0887\"], [0.1111111111111111, \"#46039f\"], [0.2222222222222222, \"#7201a8\"], [0.3333333333333333, \"#9c179e\"], [0.4444444444444444, \"#bd3786\"], [0.5555555555555556, \"#d8576b\"], [0.6666666666666666, \"#ed7953\"], [0.7777777777777778, \"#fb9f3a\"], [0.8888888888888888, \"#fdca26\"], [1.0, \"#f0f921\"]], \"type\": \"heatmap\"}], \"heatmapgl\": [{\"colorbar\": {\"outlinewidth\": 0, \"ticks\": \"\"}, \"colorscale\": [[0.0, \"#0d0887\"], [0.1111111111111111, \"#46039f\"], [0.2222222222222222, \"#7201a8\"], [0.3333333333333333, \"#9c179e\"], [0.4444444444444444, \"#bd3786\"], [0.5555555555555556, \"#d8576b\"], [0.6666666666666666, \"#ed7953\"], [0.7777777777777778, \"#fb9f3a\"], [0.8888888888888888, \"#fdca26\"], [1.0, \"#f0f921\"]], \"type\": \"heatmapgl\"}], \"histogram\": [{\"marker\": {\"colorbar\": {\"outlinewidth\": 0, \"ticks\": \"\"}}, \"type\": \"histogram\"}], \"histogram2d\": [{\"colorbar\": {\"outlinewidth\": 0, \"ticks\": \"\"}, \"colorscale\": [[0.0, \"#0d0887\"], [0.1111111111111111, \"#46039f\"], [0.2222222222222222, \"#7201a8\"], [0.3333333333333333, \"#9c179e\"], [0.4444444444444444, \"#bd3786\"], [0.5555555555555556, \"#d8576b\"], [0.6666666666666666, \"#ed7953\"], [0.7777777777777778, \"#fb9f3a\"], [0.8888888888888888, \"#fdca26\"], [1.0, \"#f0f921\"]], \"type\": \"histogram2d\"}], \"histogram2dcontour\": [{\"colorbar\": {\"outlinewidth\": 0, \"ticks\": \"\"}, \"colorscale\": [[0.0, \"#0d0887\"], [0.1111111111111111, \"#46039f\"], [0.2222222222222222, \"#7201a8\"], [0.3333333333333333, \"#9c179e\"], [0.4444444444444444, \"#bd3786\"], [0.5555555555555556, \"#d8576b\"], [0.6666666666666666, \"#ed7953\"], [0.7777777777777778, \"#fb9f3a\"], [0.8888888888888888, \"#fdca26\"], [1.0, \"#f0f921\"]], \"type\": \"histogram2dcontour\"}], \"mesh3d\": [{\"colorbar\": {\"outlinewidth\": 0, \"ticks\": \"\"}, \"type\": \"mesh3d\"}], \"parcoords\": [{\"line\": {\"colorbar\": {\"outlinewidth\": 0, \"ticks\": \"\"}}, \"type\": \"parcoords\"}], \"pie\": [{\"automargin\": true, \"type\": \"pie\"}], \"scatter\": [{\"marker\": {\"colorbar\": {\"outlinewidth\": 0, \"ticks\": \"\"}}, \"type\": \"scatter\"}], \"scatter3d\": [{\"line\": {\"colorbar\": {\"outlinewidth\": 0, \"ticks\": \"\"}}, \"marker\": {\"colorbar\": {\"outlinewidth\": 0, \"ticks\": \"\"}}, \"type\": \"scatter3d\"}], \"scattercarpet\": [{\"marker\": {\"colorbar\": {\"outlinewidth\": 0, \"ticks\": \"\"}}, \"type\": \"scattercarpet\"}], \"scattergeo\": [{\"marker\": {\"colorbar\": {\"outlinewidth\": 0, \"ticks\": \"\"}}, \"type\": \"scattergeo\"}], \"scattergl\": [{\"marker\": {\"colorbar\": {\"outlinewidth\": 0, \"ticks\": \"\"}}, \"type\": \"scattergl\"}], \"scattermapbox\": [{\"marker\": {\"colorbar\": {\"outlinewidth\": 0, \"ticks\": \"\"}}, \"type\": \"scattermapbox\"}], \"scatterpolar\": [{\"marker\": {\"colorbar\": {\"outlinewidth\": 0, \"ticks\": \"\"}}, \"type\": \"scatterpolar\"}], \"scatterpolargl\": [{\"marker\": {\"colorbar\": {\"outlinewidth\": 0, \"ticks\": \"\"}}, \"type\": \"scatterpolargl\"}], \"scatterternary\": [{\"marker\": {\"colorbar\": {\"outlinewidth\": 0, \"ticks\": \"\"}}, \"type\": \"scatterternary\"}], \"surface\": [{\"colorbar\": {\"outlinewidth\": 0, \"ticks\": \"\"}, \"colorscale\": [[0.0, \"#0d0887\"], [0.1111111111111111, \"#46039f\"], [0.2222222222222222, \"#7201a8\"], [0.3333333333333333, \"#9c179e\"], [0.4444444444444444, \"#bd3786\"], [0.5555555555555556, \"#d8576b\"], [0.6666666666666666, \"#ed7953\"], [0.7777777777777778, \"#fb9f3a\"], [0.8888888888888888, \"#fdca26\"], [1.0, \"#f0f921\"]], \"type\": \"surface\"}], \"table\": [{\"cells\": {\"fill\": {\"color\": \"#EBF0F8\"}, \"line\": {\"color\": \"white\"}}, \"header\": {\"fill\": {\"color\": \"#C8D4E3\"}, \"line\": {\"color\": \"white\"}}, \"type\": \"table\"}]}, \"layout\": {\"annotationdefaults\": {\"arrowcolor\": \"#2a3f5f\", \"arrowhead\": 0, \"arrowwidth\": 1}, \"coloraxis\": {\"colorbar\": {\"outlinewidth\": 0, \"ticks\": \"\"}}, \"colorscale\": {\"diverging\": [[0, \"#8e0152\"], [0.1, \"#c51b7d\"], [0.2, \"#de77ae\"], [0.3, \"#f1b6da\"], [0.4, \"#fde0ef\"], [0.5, \"#f7f7f7\"], [0.6, \"#e6f5d0\"], [0.7, \"#b8e186\"], [0.8, \"#7fbc41\"], [0.9, \"#4d9221\"], [1, \"#276419\"]], \"sequential\": [[0.0, \"#0d0887\"], [0.1111111111111111, \"#46039f\"], [0.2222222222222222, \"#7201a8\"], [0.3333333333333333, \"#9c179e\"], [0.4444444444444444, \"#bd3786\"], [0.5555555555555556, \"#d8576b\"], [0.6666666666666666, \"#ed7953\"], [0.7777777777777778, \"#fb9f3a\"], [0.8888888888888888, \"#fdca26\"], [1.0, \"#f0f921\"]], \"sequentialminus\": [[0.0, \"#0d0887\"], [0.1111111111111111, \"#46039f\"], [0.2222222222222222, \"#7201a8\"], [0.3333333333333333, \"#9c179e\"], [0.4444444444444444, \"#bd3786\"], [0.5555555555555556, \"#d8576b\"], [0.6666666666666666, \"#ed7953\"], [0.7777777777777778, \"#fb9f3a\"], [0.8888888888888888, \"#fdca26\"], [1.0, \"#f0f921\"]]}, \"colorway\": [\"#636efa\", \"#EF553B\", \"#00cc96\", \"#ab63fa\", \"#FFA15A\", \"#19d3f3\", \"#FF6692\", \"#B6E880\", \"#FF97FF\", \"#FECB52\"], \"font\": {\"color\": \"#2a3f5f\"}, \"geo\": {\"bgcolor\": \"white\", \"lakecolor\": \"white\", \"landcolor\": \"#E5ECF6\", \"showlakes\": true, \"showland\": true, \"subunitcolor\": \"white\"}, \"hoverlabel\": {\"align\": \"left\"}, \"hovermode\": \"closest\", \"mapbox\": {\"style\": \"light\"}, \"paper_bgcolor\": \"white\", \"plot_bgcolor\": \"#E5ECF6\", \"polar\": {\"angularaxis\": {\"gridcolor\": \"white\", \"linecolor\": \"white\", \"ticks\": \"\"}, \"bgcolor\": \"#E5ECF6\", \"radialaxis\": {\"gridcolor\": \"white\", \"linecolor\": \"white\", \"ticks\": \"\"}}, \"scene\": {\"xaxis\": {\"backgroundcolor\": \"#E5ECF6\", \"gridcolor\": \"white\", \"gridwidth\": 2, \"linecolor\": \"white\", \"showbackground\": true, \"ticks\": \"\", \"zerolinecolor\": \"white\"}, \"yaxis\": {\"backgroundcolor\": \"#E5ECF6\", \"gridcolor\": \"white\", \"gridwidth\": 2, \"linecolor\": \"white\", \"showbackground\": true, \"ticks\": \"\", \"zerolinecolor\": \"white\"}, \"zaxis\": {\"backgroundcolor\": \"#E5ECF6\", \"gridcolor\": \"white\", \"gridwidth\": 2, \"linecolor\": \"white\", \"showbackground\": true, \"ticks\": \"\", \"zerolinecolor\": \"white\"}}, \"shapedefaults\": {\"line\": {\"color\": \"#2a3f5f\"}}, \"ternary\": {\"aaxis\": {\"gridcolor\": \"white\", \"linecolor\": \"white\", \"ticks\": \"\"}, \"baxis\": {\"gridcolor\": \"white\", \"linecolor\": \"white\", \"ticks\": \"\"}, \"bgcolor\": \"#E5ECF6\", \"caxis\": {\"gridcolor\": \"white\", \"linecolor\": \"white\", \"ticks\": \"\"}}, \"title\": {\"x\": 0.05}, \"xaxis\": {\"automargin\": true, \"gridcolor\": \"white\", \"linecolor\": \"white\", \"ticks\": \"\", \"title\": {\"standoff\": 15}, \"zerolinecolor\": \"white\", \"zerolinewidth\": 2}, \"yaxis\": {\"automargin\": true, \"gridcolor\": \"white\", \"linecolor\": \"white\", \"ticks\": \"\", \"title\": {\"standoff\": 15}, \"zerolinecolor\": \"white\", \"zerolinewidth\": 2}}}, \"title\": {\"text\": \"Slice Plot\"}, \"width\": 2700, \"xaxis\": {\"anchor\": \"y\", \"domain\": [0.0, 0.09135802469135802], \"title\": {\"text\": \"bootstrap\"}}, \"xaxis2\": {\"anchor\": \"y2\", \"domain\": [0.11358024691358025, 0.20493827160493827], \"title\": {\"text\": \"class_weight\"}}, \"xaxis3\": {\"anchor\": \"y3\", \"domain\": [0.2271604938271605, 0.31851851851851853], \"title\": {\"text\": \"criterion\"}}, \"xaxis4\": {\"anchor\": \"y4\", \"domain\": [0.34074074074074073, 0.43209876543209874], \"title\": {\"text\": \"max_depth\"}}, \"xaxis5\": {\"anchor\": \"y5\", \"domain\": [0.454320987654321, 0.5456790123456791], \"title\": {\"text\": \"max_features\"}}, \"xaxis6\": {\"anchor\": \"y6\", \"domain\": [0.5679012345679012, 0.6592592592592592], \"title\": {\"text\": \"min_child_samples\"}}, \"xaxis7\": {\"anchor\": \"y7\", \"domain\": [0.6814814814814815, 0.7728395061728395], \"title\": {\"text\": \"min_samples_leaf\"}}, \"xaxis8\": {\"anchor\": \"y8\", \"domain\": [0.7950617283950617, 0.8864197530864197], \"title\": {\"text\": \"n_estimators\"}}, \"xaxis9\": {\"anchor\": \"y9\", \"domain\": [0.908641975308642, 1.0], \"title\": {\"text\": \"random_state\"}}, \"yaxis\": {\"anchor\": \"x\", \"domain\": [0.0, 1.0], \"title\": {\"text\": \"Objective Value\"}}, \"yaxis2\": {\"anchor\": \"x2\", \"domain\": [0.0, 1.0], \"matches\": \"y\", \"showticklabels\": false}, \"yaxis3\": {\"anchor\": \"x3\", \"domain\": [0.0, 1.0], \"matches\": \"y\", \"showticklabels\": false}, \"yaxis4\": {\"anchor\": \"x4\", \"domain\": [0.0, 1.0], \"matches\": \"y\", \"showticklabels\": false}, \"yaxis5\": {\"anchor\": \"x5\", \"domain\": [0.0, 1.0], \"matches\": \"y\", \"showticklabels\": false}, \"yaxis6\": {\"anchor\": \"x6\", \"domain\": [0.0, 1.0], \"matches\": \"y\", \"showticklabels\": false}, \"yaxis7\": {\"anchor\": \"x7\", \"domain\": [0.0, 1.0], \"matches\": \"y\", \"showticklabels\": false}, \"yaxis8\": {\"anchor\": \"x8\", \"domain\": [0.0, 1.0], \"matches\": \"y\", \"showticklabels\": false}, \"yaxis9\": {\"anchor\": \"x9\", \"domain\": [0.0, 1.0], \"matches\": \"y\", \"showticklabels\": false}},                        {\"responsive\": true}                    ).then(function(){\n",
       "                            \n",
       "var gd = document.getElementById('52963fbd-4770-4da5-a91c-5d9260a6eb08');\n",
       "var x = new MutationObserver(function (mutations, observer) {{\n",
       "        var display = window.getComputedStyle(gd).display;\n",
       "        if (!display || display === 'none') {{\n",
       "            console.log([gd, 'removed!']);\n",
       "            Plotly.purge(gd);\n",
       "            observer.disconnect();\n",
       "        }}\n",
       "}});\n",
       "\n",
       "// Listen for the removal of the full notebook cells\n",
       "var notebookContainer = gd.closest('#notebook-container');\n",
       "if (notebookContainer) {{\n",
       "    x.observe(notebookContainer, {childList: true});\n",
       "}}\n",
       "\n",
       "// Listen for the clearing of the current output cell\n",
       "var outputEl = gd.closest('.output');\n",
       "if (outputEl) {{\n",
       "    x.observe(outputEl, {childList: true});\n",
       "}}\n",
       "\n",
       "                        })                };                });            </script>        </div>"
      ]
     },
     "metadata": {},
     "output_type": "display_data"
    }
   ],
   "source": [
    "optuna.visualization.plot_slice(study)"
   ]
  },
  {
   "cell_type": "code",
   "execution_count": 20,
   "metadata": {},
   "outputs": [
    {
     "data": {
      "text/html": [
       "<div>\n",
       "<style scoped>\n",
       "    .dataframe tbody tr th:only-of-type {\n",
       "        vertical-align: middle;\n",
       "    }\n",
       "\n",
       "    .dataframe tbody tr th {\n",
       "        vertical-align: top;\n",
       "    }\n",
       "\n",
       "    .dataframe thead th {\n",
       "        text-align: right;\n",
       "    }\n",
       "</style>\n",
       "<table border=\"1\" class=\"dataframe\">\n",
       "  <thead>\n",
       "    <tr style=\"text-align: right;\">\n",
       "      <th></th>\n",
       "      <th>criterion</th>\n",
       "      <th>n_estimators</th>\n",
       "      <th>max_depth</th>\n",
       "      <th>min_child_samples</th>\n",
       "      <th>min_samples_leaf</th>\n",
       "      <th>max_features</th>\n",
       "      <th>bootstrap</th>\n",
       "      <th>class_weight</th>\n",
       "      <th>random_state</th>\n",
       "      <th>f1_score</th>\n",
       "    </tr>\n",
       "  </thead>\n",
       "  <tbody>\n",
       "    <tr>\n",
       "      <th>87</th>\n",
       "      <td>entropy</td>\n",
       "      <td>250</td>\n",
       "      <td>21</td>\n",
       "      <td>5</td>\n",
       "      <td>3</td>\n",
       "      <td>sqrt</td>\n",
       "      <td>False</td>\n",
       "      <td>balanced_subsample</td>\n",
       "      <td>42</td>\n",
       "      <td>0.821579</td>\n",
       "    </tr>\n",
       "    <tr>\n",
       "      <th>88</th>\n",
       "      <td>entropy</td>\n",
       "      <td>250</td>\n",
       "      <td>21</td>\n",
       "      <td>5</td>\n",
       "      <td>4</td>\n",
       "      <td>sqrt</td>\n",
       "      <td>False</td>\n",
       "      <td>balanced_subsample</td>\n",
       "      <td>42</td>\n",
       "      <td>0.820989</td>\n",
       "    </tr>\n",
       "    <tr>\n",
       "      <th>83</th>\n",
       "      <td>entropy</td>\n",
       "      <td>150</td>\n",
       "      <td>18</td>\n",
       "      <td>7</td>\n",
       "      <td>3</td>\n",
       "      <td>sqrt</td>\n",
       "      <td>False</td>\n",
       "      <td>balanced_subsample</td>\n",
       "      <td>42</td>\n",
       "      <td>0.818926</td>\n",
       "    </tr>\n",
       "    <tr>\n",
       "      <th>85</th>\n",
       "      <td>entropy</td>\n",
       "      <td>250</td>\n",
       "      <td>18</td>\n",
       "      <td>8</td>\n",
       "      <td>3</td>\n",
       "      <td>sqrt</td>\n",
       "      <td>False</td>\n",
       "      <td>balanced_subsample</td>\n",
       "      <td>42</td>\n",
       "      <td>0.818603</td>\n",
       "    </tr>\n",
       "    <tr>\n",
       "      <th>68</th>\n",
       "      <td>entropy</td>\n",
       "      <td>150</td>\n",
       "      <td>19</td>\n",
       "      <td>14</td>\n",
       "      <td>1</td>\n",
       "      <td>sqrt</td>\n",
       "      <td>False</td>\n",
       "      <td>balanced_subsample</td>\n",
       "      <td>42</td>\n",
       "      <td>0.817834</td>\n",
       "    </tr>\n",
       "    <tr>\n",
       "      <th>...</th>\n",
       "      <td>...</td>\n",
       "      <td>...</td>\n",
       "      <td>...</td>\n",
       "      <td>...</td>\n",
       "      <td>...</td>\n",
       "      <td>...</td>\n",
       "      <td>...</td>\n",
       "      <td>...</td>\n",
       "      <td>...</td>\n",
       "      <td>...</td>\n",
       "    </tr>\n",
       "    <tr>\n",
       "      <th>8</th>\n",
       "      <td>entropy</td>\n",
       "      <td>200</td>\n",
       "      <td>14</td>\n",
       "      <td>75</td>\n",
       "      <td>44</td>\n",
       "      <td>auto</td>\n",
       "      <td>False</td>\n",
       "      <td>balanced_subsample</td>\n",
       "      <td>42</td>\n",
       "      <td>0.777284</td>\n",
       "    </tr>\n",
       "    <tr>\n",
       "      <th>9</th>\n",
       "      <td>gini</td>\n",
       "      <td>150</td>\n",
       "      <td>25</td>\n",
       "      <td>40</td>\n",
       "      <td>50</td>\n",
       "      <td>sqrt</td>\n",
       "      <td>False</td>\n",
       "      <td>balanced_subsample</td>\n",
       "      <td>42</td>\n",
       "      <td>0.777101</td>\n",
       "    </tr>\n",
       "    <tr>\n",
       "      <th>5</th>\n",
       "      <td>entropy</td>\n",
       "      <td>350</td>\n",
       "      <td>18</td>\n",
       "      <td>59</td>\n",
       "      <td>52</td>\n",
       "      <td>auto</td>\n",
       "      <td>True</td>\n",
       "      <td>balanced_subsample</td>\n",
       "      <td>42</td>\n",
       "      <td>0.774331</td>\n",
       "    </tr>\n",
       "    <tr>\n",
       "      <th>20</th>\n",
       "      <td>entropy</td>\n",
       "      <td>250</td>\n",
       "      <td>10</td>\n",
       "      <td>99</td>\n",
       "      <td>60</td>\n",
       "      <td>log2</td>\n",
       "      <td>True</td>\n",
       "      <td>balanced_subsample</td>\n",
       "      <td>42</td>\n",
       "      <td>0.772018</td>\n",
       "    </tr>\n",
       "    <tr>\n",
       "      <th>1</th>\n",
       "      <td>gini</td>\n",
       "      <td>350</td>\n",
       "      <td>9</td>\n",
       "      <td>92</td>\n",
       "      <td>53</td>\n",
       "      <td>log2</td>\n",
       "      <td>False</td>\n",
       "      <td>balanced_subsample</td>\n",
       "      <td>42</td>\n",
       "      <td>0.771083</td>\n",
       "    </tr>\n",
       "  </tbody>\n",
       "</table>\n",
       "<p>100 rows × 10 columns</p>\n",
       "</div>"
      ],
      "text/plain": [
       "   criterion  n_estimators  max_depth  min_child_samples  min_samples_leaf  \\\n",
       "87   entropy           250         21                  5                 3   \n",
       "88   entropy           250         21                  5                 4   \n",
       "83   entropy           150         18                  7                 3   \n",
       "85   entropy           250         18                  8                 3   \n",
       "68   entropy           150         19                 14                 1   \n",
       "..       ...           ...        ...                ...               ...   \n",
       "8    entropy           200         14                 75                44   \n",
       "9       gini           150         25                 40                50   \n",
       "5    entropy           350         18                 59                52   \n",
       "20   entropy           250         10                 99                60   \n",
       "1       gini           350          9                 92                53   \n",
       "\n",
       "   max_features  bootstrap        class_weight  random_state  f1_score  \n",
       "87         sqrt      False  balanced_subsample            42  0.821579  \n",
       "88         sqrt      False  balanced_subsample            42  0.820989  \n",
       "83         sqrt      False  balanced_subsample            42  0.818926  \n",
       "85         sqrt      False  balanced_subsample            42  0.818603  \n",
       "68         sqrt      False  balanced_subsample            42  0.817834  \n",
       "..          ...        ...                 ...           ...       ...  \n",
       "8          auto      False  balanced_subsample            42  0.777284  \n",
       "9          sqrt      False  balanced_subsample            42  0.777101  \n",
       "5          auto       True  balanced_subsample            42  0.774331  \n",
       "20         log2       True  balanced_subsample            42  0.772018  \n",
       "1          log2      False  balanced_subsample            42  0.771083  \n",
       "\n",
       "[100 rows x 10 columns]"
      ]
     },
     "execution_count": 20,
     "metadata": {},
     "output_type": "execute_result"
    }
   ],
   "source": [
    "records = []\n",
    "for t in study.get_trials():\n",
    "    records.append({**t.params, \"f1_score\":t.values[0] if t.values is not None else 0})\n",
    "\n",
    "pd.DataFrame.from_records(records).sort_values(by=\"f1_score\", ascending=False)"
   ]
  },
  {
   "cell_type": "code",
   "execution_count": 21,
   "metadata": {},
   "outputs": [
    {
     "data": {
      "text/html": [
       "<div>\n",
       "<style scoped>\n",
       "    .dataframe tbody tr th:only-of-type {\n",
       "        vertical-align: middle;\n",
       "    }\n",
       "\n",
       "    .dataframe tbody tr th {\n",
       "        vertical-align: top;\n",
       "    }\n",
       "\n",
       "    .dataframe thead th {\n",
       "        text-align: right;\n",
       "    }\n",
       "</style>\n",
       "<table border=\"1\" class=\"dataframe\">\n",
       "  <thead>\n",
       "    <tr style=\"text-align: right;\">\n",
       "      <th></th>\n",
       "      <th>number</th>\n",
       "      <th>value</th>\n",
       "      <th>datetime_start</th>\n",
       "      <th>datetime_complete</th>\n",
       "      <th>duration</th>\n",
       "      <th>params_bootstrap</th>\n",
       "      <th>params_class_weight</th>\n",
       "      <th>params_criterion</th>\n",
       "      <th>params_max_depth</th>\n",
       "      <th>params_max_features</th>\n",
       "      <th>params_min_child_samples</th>\n",
       "      <th>params_min_samples_leaf</th>\n",
       "      <th>params_n_estimators</th>\n",
       "      <th>params_random_state</th>\n",
       "      <th>state</th>\n",
       "    </tr>\n",
       "  </thead>\n",
       "  <tbody>\n",
       "    <tr>\n",
       "      <th>87</th>\n",
       "      <td>87</td>\n",
       "      <td>0.821579</td>\n",
       "      <td>2021-02-08 19:46:48.016772</td>\n",
       "      <td>2021-02-08 19:46:55.951757</td>\n",
       "      <td>0 days 00:00:07.934985</td>\n",
       "      <td>False</td>\n",
       "      <td>balanced_subsample</td>\n",
       "      <td>entropy</td>\n",
       "      <td>21</td>\n",
       "      <td>sqrt</td>\n",
       "      <td>5</td>\n",
       "      <td>3</td>\n",
       "      <td>250</td>\n",
       "      <td>42</td>\n",
       "      <td>COMPLETE</td>\n",
       "    </tr>\n",
       "    <tr>\n",
       "      <th>88</th>\n",
       "      <td>88</td>\n",
       "      <td>0.820989</td>\n",
       "      <td>2021-02-08 19:46:56.037683</td>\n",
       "      <td>2021-02-08 19:47:03.758382</td>\n",
       "      <td>0 days 00:00:07.720699</td>\n",
       "      <td>False</td>\n",
       "      <td>balanced_subsample</td>\n",
       "      <td>entropy</td>\n",
       "      <td>21</td>\n",
       "      <td>sqrt</td>\n",
       "      <td>5</td>\n",
       "      <td>4</td>\n",
       "      <td>250</td>\n",
       "      <td>42</td>\n",
       "      <td>COMPLETE</td>\n",
       "    </tr>\n",
       "    <tr>\n",
       "      <th>83</th>\n",
       "      <td>83</td>\n",
       "      <td>0.818926</td>\n",
       "      <td>2021-02-08 19:46:23.521625</td>\n",
       "      <td>2021-02-08 19:46:29.061674</td>\n",
       "      <td>0 days 00:00:05.540049</td>\n",
       "      <td>False</td>\n",
       "      <td>balanced_subsample</td>\n",
       "      <td>entropy</td>\n",
       "      <td>18</td>\n",
       "      <td>sqrt</td>\n",
       "      <td>7</td>\n",
       "      <td>3</td>\n",
       "      <td>150</td>\n",
       "      <td>42</td>\n",
       "      <td>COMPLETE</td>\n",
       "    </tr>\n",
       "    <tr>\n",
       "      <th>85</th>\n",
       "      <td>85</td>\n",
       "      <td>0.818603</td>\n",
       "      <td>2021-02-08 19:46:32.649700</td>\n",
       "      <td>2021-02-08 19:46:40.676517</td>\n",
       "      <td>0 days 00:00:08.026817</td>\n",
       "      <td>False</td>\n",
       "      <td>balanced_subsample</td>\n",
       "      <td>entropy</td>\n",
       "      <td>18</td>\n",
       "      <td>sqrt</td>\n",
       "      <td>8</td>\n",
       "      <td>3</td>\n",
       "      <td>250</td>\n",
       "      <td>42</td>\n",
       "      <td>COMPLETE</td>\n",
       "    </tr>\n",
       "    <tr>\n",
       "      <th>68</th>\n",
       "      <td>68</td>\n",
       "      <td>0.817834</td>\n",
       "      <td>2021-02-08 19:45:10.789686</td>\n",
       "      <td>2021-02-08 19:45:16.641991</td>\n",
       "      <td>0 days 00:00:05.852305</td>\n",
       "      <td>False</td>\n",
       "      <td>balanced_subsample</td>\n",
       "      <td>entropy</td>\n",
       "      <td>19</td>\n",
       "      <td>sqrt</td>\n",
       "      <td>14</td>\n",
       "      <td>1</td>\n",
       "      <td>150</td>\n",
       "      <td>42</td>\n",
       "      <td>COMPLETE</td>\n",
       "    </tr>\n",
       "    <tr>\n",
       "      <th>...</th>\n",
       "      <td>...</td>\n",
       "      <td>...</td>\n",
       "      <td>...</td>\n",
       "      <td>...</td>\n",
       "      <td>...</td>\n",
       "      <td>...</td>\n",
       "      <td>...</td>\n",
       "      <td>...</td>\n",
       "      <td>...</td>\n",
       "      <td>...</td>\n",
       "      <td>...</td>\n",
       "      <td>...</td>\n",
       "      <td>...</td>\n",
       "      <td>...</td>\n",
       "      <td>...</td>\n",
       "    </tr>\n",
       "    <tr>\n",
       "      <th>8</th>\n",
       "      <td>8</td>\n",
       "      <td>0.777284</td>\n",
       "      <td>2021-02-08 19:39:44.362403</td>\n",
       "      <td>2021-02-08 19:39:48.294433</td>\n",
       "      <td>0 days 00:00:03.932030</td>\n",
       "      <td>False</td>\n",
       "      <td>balanced_subsample</td>\n",
       "      <td>entropy</td>\n",
       "      <td>14</td>\n",
       "      <td>auto</td>\n",
       "      <td>75</td>\n",
       "      <td>44</td>\n",
       "      <td>200</td>\n",
       "      <td>42</td>\n",
       "      <td>COMPLETE</td>\n",
       "    </tr>\n",
       "    <tr>\n",
       "      <th>9</th>\n",
       "      <td>9</td>\n",
       "      <td>0.777101</td>\n",
       "      <td>2021-02-08 19:39:48.347973</td>\n",
       "      <td>2021-02-08 19:39:50.615243</td>\n",
       "      <td>0 days 00:00:02.267270</td>\n",
       "      <td>False</td>\n",
       "      <td>balanced_subsample</td>\n",
       "      <td>gini</td>\n",
       "      <td>25</td>\n",
       "      <td>sqrt</td>\n",
       "      <td>40</td>\n",
       "      <td>50</td>\n",
       "      <td>150</td>\n",
       "      <td>42</td>\n",
       "      <td>COMPLETE</td>\n",
       "    </tr>\n",
       "    <tr>\n",
       "      <th>5</th>\n",
       "      <td>5</td>\n",
       "      <td>0.774331</td>\n",
       "      <td>2021-02-08 19:39:32.904805</td>\n",
       "      <td>2021-02-08 19:39:38.421461</td>\n",
       "      <td>0 days 00:00:05.516656</td>\n",
       "      <td>True</td>\n",
       "      <td>balanced_subsample</td>\n",
       "      <td>entropy</td>\n",
       "      <td>18</td>\n",
       "      <td>auto</td>\n",
       "      <td>59</td>\n",
       "      <td>52</td>\n",
       "      <td>350</td>\n",
       "      <td>42</td>\n",
       "      <td>COMPLETE</td>\n",
       "    </tr>\n",
       "    <tr>\n",
       "      <th>20</th>\n",
       "      <td>20</td>\n",
       "      <td>0.772018</td>\n",
       "      <td>2021-02-08 19:40:57.428362</td>\n",
       "      <td>2021-02-08 19:41:01.269632</td>\n",
       "      <td>0 days 00:00:03.841270</td>\n",
       "      <td>True</td>\n",
       "      <td>balanced_subsample</td>\n",
       "      <td>entropy</td>\n",
       "      <td>10</td>\n",
       "      <td>log2</td>\n",
       "      <td>99</td>\n",
       "      <td>60</td>\n",
       "      <td>250</td>\n",
       "      <td>42</td>\n",
       "      <td>COMPLETE</td>\n",
       "    </tr>\n",
       "    <tr>\n",
       "      <th>1</th>\n",
       "      <td>1</td>\n",
       "      <td>0.771083</td>\n",
       "      <td>2021-02-08 19:39:19.557085</td>\n",
       "      <td>2021-02-08 19:39:24.693818</td>\n",
       "      <td>0 days 00:00:05.136733</td>\n",
       "      <td>False</td>\n",
       "      <td>balanced_subsample</td>\n",
       "      <td>gini</td>\n",
       "      <td>9</td>\n",
       "      <td>log2</td>\n",
       "      <td>92</td>\n",
       "      <td>53</td>\n",
       "      <td>350</td>\n",
       "      <td>42</td>\n",
       "      <td>COMPLETE</td>\n",
       "    </tr>\n",
       "  </tbody>\n",
       "</table>\n",
       "<p>100 rows × 15 columns</p>\n",
       "</div>"
      ],
      "text/plain": [
       "    number     value             datetime_start          datetime_complete  \\\n",
       "87      87  0.821579 2021-02-08 19:46:48.016772 2021-02-08 19:46:55.951757   \n",
       "88      88  0.820989 2021-02-08 19:46:56.037683 2021-02-08 19:47:03.758382   \n",
       "83      83  0.818926 2021-02-08 19:46:23.521625 2021-02-08 19:46:29.061674   \n",
       "85      85  0.818603 2021-02-08 19:46:32.649700 2021-02-08 19:46:40.676517   \n",
       "68      68  0.817834 2021-02-08 19:45:10.789686 2021-02-08 19:45:16.641991   \n",
       "..     ...       ...                        ...                        ...   \n",
       "8        8  0.777284 2021-02-08 19:39:44.362403 2021-02-08 19:39:48.294433   \n",
       "9        9  0.777101 2021-02-08 19:39:48.347973 2021-02-08 19:39:50.615243   \n",
       "5        5  0.774331 2021-02-08 19:39:32.904805 2021-02-08 19:39:38.421461   \n",
       "20      20  0.772018 2021-02-08 19:40:57.428362 2021-02-08 19:41:01.269632   \n",
       "1        1  0.771083 2021-02-08 19:39:19.557085 2021-02-08 19:39:24.693818   \n",
       "\n",
       "                 duration  params_bootstrap params_class_weight  \\\n",
       "87 0 days 00:00:07.934985             False  balanced_subsample   \n",
       "88 0 days 00:00:07.720699             False  balanced_subsample   \n",
       "83 0 days 00:00:05.540049             False  balanced_subsample   \n",
       "85 0 days 00:00:08.026817             False  balanced_subsample   \n",
       "68 0 days 00:00:05.852305             False  balanced_subsample   \n",
       "..                    ...               ...                 ...   \n",
       "8  0 days 00:00:03.932030             False  balanced_subsample   \n",
       "9  0 days 00:00:02.267270             False  balanced_subsample   \n",
       "5  0 days 00:00:05.516656              True  balanced_subsample   \n",
       "20 0 days 00:00:03.841270              True  balanced_subsample   \n",
       "1  0 days 00:00:05.136733             False  balanced_subsample   \n",
       "\n",
       "   params_criterion  params_max_depth params_max_features  \\\n",
       "87          entropy                21                sqrt   \n",
       "88          entropy                21                sqrt   \n",
       "83          entropy                18                sqrt   \n",
       "85          entropy                18                sqrt   \n",
       "68          entropy                19                sqrt   \n",
       "..              ...               ...                 ...   \n",
       "8           entropy                14                auto   \n",
       "9              gini                25                sqrt   \n",
       "5           entropy                18                auto   \n",
       "20          entropy                10                log2   \n",
       "1              gini                 9                log2   \n",
       "\n",
       "    params_min_child_samples  params_min_samples_leaf  params_n_estimators  \\\n",
       "87                         5                        3                  250   \n",
       "88                         5                        4                  250   \n",
       "83                         7                        3                  150   \n",
       "85                         8                        3                  250   \n",
       "68                        14                        1                  150   \n",
       "..                       ...                      ...                  ...   \n",
       "8                         75                       44                  200   \n",
       "9                         40                       50                  150   \n",
       "5                         59                       52                  350   \n",
       "20                        99                       60                  250   \n",
       "1                         92                       53                  350   \n",
       "\n",
       "    params_random_state     state  \n",
       "87                   42  COMPLETE  \n",
       "88                   42  COMPLETE  \n",
       "83                   42  COMPLETE  \n",
       "85                   42  COMPLETE  \n",
       "68                   42  COMPLETE  \n",
       "..                  ...       ...  \n",
       "8                    42  COMPLETE  \n",
       "9                    42  COMPLETE  \n",
       "5                    42  COMPLETE  \n",
       "20                   42  COMPLETE  \n",
       "1                    42  COMPLETE  \n",
       "\n",
       "[100 rows x 15 columns]"
      ]
     },
     "execution_count": 21,
     "metadata": {},
     "output_type": "execute_result"
    }
   ],
   "source": [
    "study.trials_dataframe()[lambda r: r.value.notna()].sort_values(by='value', ascending=False)"
   ]
  },
  {
   "cell_type": "code",
   "execution_count": 36,
   "metadata": {},
   "outputs": [],
   "source": [
    "# Estos son los parámetros que me dieron el resultado ganador\n",
    "# best rf params\n",
    "rf_params = {\n",
    "    'bootstrap': False, \n",
    "    'class_weight': 'balanced_subsample', \n",
    "    'criterion': 'entropy', \n",
    "    'max_depth': 21, \n",
    "    'max_features': 'sqrt', \n",
    "    'min_samples_split': 5, \n",
    "    'min_samples_leaf': 3, \n",
    "    'n_estimators': 250, \n",
    "    'random_state': 42\n",
    "}\n"
   ]
  },
  {
   "cell_type": "code",
   "execution_count": 37,
   "metadata": {},
   "outputs": [
    {
     "data": {
      "text/plain": [
       "{'bootstrap': False,\n",
       " 'class_weight': 'balanced_subsample',\n",
       " 'criterion': 'entropy',\n",
       " 'max_depth': 21,\n",
       " 'max_features': 'sqrt',\n",
       " 'min_child_samples': 5,\n",
       " 'min_samples_leaf': 3,\n",
       " 'n_estimators': 250,\n",
       " 'random_state': 42}"
      ]
     },
     "execution_count": 37,
     "metadata": {},
     "output_type": "execute_result"
    }
   ],
   "source": [
    "# pero voy a sobreescribirlos con los de optuna\n",
    "trial.params "
   ]
  },
  {
   "cell_type": "code",
   "execution_count": 38,
   "metadata": {},
   "outputs": [],
   "source": [
    "clf = RandomForestClassifier(**rf_params)"
   ]
  },
  {
   "cell_type": "code",
   "execution_count": 39,
   "metadata": {
    "scrolled": true
   },
   "outputs": [
    {
     "data": {
      "text/plain": [
       "RandomForestClassifier(bootstrap=False, class_weight='balanced_subsample',\n",
       "                       criterion='entropy', max_depth=21, max_features='sqrt',\n",
       "                       min_samples_leaf=3, min_samples_split=5,\n",
       "                       n_estimators=250, random_state=42)"
      ]
     },
     "execution_count": 39,
     "metadata": {},
     "output_type": "execute_result"
    }
   ],
   "source": [
    "clf.fit(X_train, y_train)"
   ]
  },
  {
   "cell_type": "code",
   "execution_count": 41,
   "metadata": {},
   "outputs": [
    {
     "name": "stdout",
     "output_type": "stream",
     "text": [
      "Train:  0.984397431248913 Validation:  0.8216827799925756\n",
      "Test:  0.7935037797191449\n"
     ]
    }
   ],
   "source": [
    "# print(classification_report(y_train, clf.predict(X_train)))\n",
    "# print(classification_report(y_val, clf.predict(X_val)))\n",
    "# print(classification_report(y_test, clf.predict(X_test)))\n",
    "\n",
    "print(\"Train: \", metric(y_train, clf.predict(X_train)), \"Validation: \", metric(y_val, clf.predict(X_val)))\n",
    "print(\"Test: \", metric(y_test, clf.predict(X_test)))"
   ]
  },
  {
   "cell_type": "markdown",
   "metadata": {},
   "source": [
    "_________________\n",
    "\n",
    "## Submition\n"
   ]
  },
  {
   "cell_type": "code",
   "execution_count": 42,
   "metadata": {
    "scrolled": true
   },
   "outputs": [
    {
     "data": {
      "text/plain": [
       "RandomForestClassifier(bootstrap=False, class_weight='balanced_subsample',\n",
       "                       criterion='entropy', max_depth=21, max_features='sqrt',\n",
       "                       min_samples_leaf=3, min_samples_split=5,\n",
       "                       n_estimators=250, random_state=42)"
      ]
     },
     "execution_count": 42,
     "metadata": {},
     "output_type": "execute_result"
    }
   ],
   "source": [
    "test_pred = test.loc[:, ~test.columns.isin(['revenue', \"id\"])]\n",
    "\n",
    "clf.fit(X, y)"
   ]
  },
  {
   "cell_type": "code",
   "execution_count": 45,
   "metadata": {},
   "outputs": [],
   "source": [
    "submit = clf.predict(test_pred)"
   ]
  },
  {
   "cell_type": "code",
   "execution_count": 46,
   "metadata": {},
   "outputs": [],
   "source": [
    "from datetime import datetime\n",
    "get_date = lambda : datetime.now().strftime(\"%Y%m%d_%H%M%S\")"
   ]
  },
  {
   "cell_type": "code",
   "execution_count": 47,
   "metadata": {},
   "outputs": [],
   "source": [
    "date_part = get_date()"
   ]
  },
  {
   "cell_type": "code",
   "execution_count": 48,
   "metadata": {},
   "outputs": [],
   "source": [
    "pd.DataFrame({\"id\":test.id, \"revenue\":submit}).to_csv(f'../data/results/006-{date_part}_rf.csv', index=False)\n",
    "pd.DataFrame([clf.get_params()]).to_csv(f'../data/results/006-{date_part}_params_rf.csv', index=False)"
   ]
  },
  {
   "cell_type": "markdown",
   "metadata": {},
   "source": [
    "______________\n",
    "## Model interpretation\n",
    "TODO: \n",
    "- https://towardsdatascience.com/decrypting-your-machine-learning-model-using-lime-5adc035109b5\n",
    "- https://christophm.github.io/interpretable-ml-book/interpretability.html\n",
    "- https://github.com/slundberg/shap\n"
   ]
  },
  {
   "cell_type": "code",
   "execution_count": null,
   "metadata": {},
   "outputs": [],
   "source": [
    "https://towardsdatascience.com/decrypting-your-machine-learning-model-using-lime-5adc035109b5"
   ]
  }
 ],
 "metadata": {
  "kernelspec": {
   "display_name": "default_3.7.9",
   "language": "python",
   "name": "default_3.7.9"
  },
  "language_info": {
   "codemirror_mode": {
    "name": "ipython",
    "version": 3
   },
   "file_extension": ".py",
   "mimetype": "text/x-python",
   "name": "python",
   "nbconvert_exporter": "python",
   "pygments_lexer": "ipython3",
   "version": "3.7.9"
  }
 },
 "nbformat": 4,
 "nbformat_minor": 4
}
