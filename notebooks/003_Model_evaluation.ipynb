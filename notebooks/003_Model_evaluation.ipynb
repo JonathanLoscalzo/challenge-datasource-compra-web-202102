{
 "cells": [
  {
   "cell_type": "code",
   "execution_count": 655,
   "metadata": {},
   "outputs": [],
   "source": [
    "import pandas as pd\n",
    "import numpy as np"
   ]
  },
  {
   "cell_type": "code",
   "execution_count": 656,
   "metadata": {},
   "outputs": [],
   "source": [
    "import xgboost as xgb\n",
    "import lightgbm as gbm\n",
    "from sklearn.ensemble import RandomForestClassifier, AdaBoostClassifier\n",
    "from sklearn.linear_model import LogisticRegression"
   ]
  },
  {
   "cell_type": "code",
   "execution_count": 657,
   "metadata": {},
   "outputs": [],
   "source": [
    "from sklearn.model_selection import train_test_split, cross_val_score, cross_validate, StratifiedKFold, GridSearchCV\n",
    "from sklearn.metrics import f1_score, classification_report, confusion_matrix, make_scorer\n",
    "\n",
    "from functools import partial"
   ]
  },
  {
   "cell_type": "code",
   "execution_count": 658,
   "metadata": {},
   "outputs": [],
   "source": [
    "train = pd.read_parquet('../data/processed/train.parquet')\n",
    "test = pd.read_parquet('../data/processed/test.parquet')"
   ]
  },
  {
   "cell_type": "code",
   "execution_count": 659,
   "metadata": {},
   "outputs": [],
   "source": [
    "metric = partial(f1_score, average='macro')\n",
    "score = make_scorer(f1_score, average='macro')"
   ]
  },
  {
   "cell_type": "code",
   "execution_count": 660,
   "metadata": {},
   "outputs": [],
   "source": [
    "X, y = train.loc[:, ~train.columns.isin(['revenue', \"id\"])], train.revenue\n",
    "X_train, X_test, y_train, y_test = train_test_split(X,y, stratify=y, test_size=0.2)\n",
    "X_train, X_val, y_train, y_val = train_test_split(X_train, y_train, stratify=y_train, test_size=0.2)"
   ]
  },
  {
   "cell_type": "code",
   "execution_count": 661,
   "metadata": {},
   "outputs": [],
   "source": [
    "def evaluate_model(clf, metric, score, data):\n",
    "    \"\"\"Evaluates a model and returns a summary for visualize. [just internal use]\n",
    "    \"\"\"\n",
    "    X_train, X_test, y_train, y_test = data\n",
    "    f1_cross = cross_val_score(clf, X_train, y_train, cv=5, scoring=score)\n",
    "    clf.fit(X_train, y_train)\n",
    "    return {\n",
    "        \"model\": clf.__class__.__name__, \n",
    "        \"test\": metric(y_test, clf.predict(X_test)), \n",
    "        \"train\": metric(y_train, clf.predict(X_train)),\n",
    "        \"f1_cross_mean\": np.mean(f1_cross),\n",
    "        \"f1_cross_std\": np.std(f1_cross)\n",
    "    }"
   ]
  },
  {
   "cell_type": "code",
   "execution_count": 662,
   "metadata": {},
   "outputs": [],
   "source": [
    "lgb_params = {\n",
    "    'n_estimators':300,\n",
    "    'boosting_type': 'dart',\n",
    "    'objective': 'binary',\n",
    "    'learning_rate': 0.1, \n",
    "    'max_depth' : 8,\n",
    "    'num_leaves': 64,\n",
    "#     'is_unbalance':True, # is_unbalance vs scale_pos_weight\n",
    "     ## see https://towardsdatascience.com/understanding-lightgbm-parameters-and-how-to-tune-them-6764e20c6e5b\n",
    "    'scale_pos_weight': y_train.sum() / (y_train-1).abs().sum()\n",
    "#     'max_bin': 512,\n",
    "#     'subsample_for_bin': 200,\n",
    "#     'subsample': 1,\n",
    "#     'subsample_freq': 1,\n",
    "#     'colsample_bytree': 0.8,\n",
    "#     'reg_alpha': 5,\n",
    "#     'reg_lambda': 10,\n",
    "#     'min_split_gain': 1,\n",
    "#     'min_child_weight': 1,\n",
    "#     'min_child_samples': 5,\n",
    "}"
   ]
  },
  {
   "cell_type": "code",
   "execution_count": 663,
   "metadata": {},
   "outputs": [],
   "source": [
    "# I've tested out other models but I select LightGBM\n",
    "models = [\n",
    "    gbm.LGBMClassifier(**lgb_params,),\n",
    "    \n",
    "#     xgb.XGBClassifier(\n",
    "#         n_estimators=400\n",
    "#     ), \n",
    "#     RandomForestClassifier(),\n",
    "#     LogisticRegression(),\n",
    "#     AdaBoostClassifier()\n",
    "]"
   ]
  },
  {
   "cell_type": "code",
   "execution_count": 664,
   "metadata": {},
   "outputs": [],
   "source": [
    "results = [evaluate_model(model, metric, score, (X_train, X_val, y_train, y_val)) for model in models]"
   ]
  },
  {
   "cell_type": "code",
   "execution_count": 665,
   "metadata": {},
   "outputs": [
    {
     "data": {
      "text/html": [
       "<div>\n",
       "<style scoped>\n",
       "    .dataframe tbody tr th:only-of-type {\n",
       "        vertical-align: middle;\n",
       "    }\n",
       "\n",
       "    .dataframe tbody tr th {\n",
       "        vertical-align: top;\n",
       "    }\n",
       "\n",
       "    .dataframe thead th {\n",
       "        text-align: right;\n",
       "    }\n",
       "</style>\n",
       "<table border=\"1\" class=\"dataframe\">\n",
       "  <thead>\n",
       "    <tr style=\"text-align: right;\">\n",
       "      <th></th>\n",
       "      <th>model</th>\n",
       "      <th>test</th>\n",
       "      <th>train</th>\n",
       "      <th>f1_cross_mean</th>\n",
       "      <th>f1_cross_std</th>\n",
       "    </tr>\n",
       "  </thead>\n",
       "  <tbody>\n",
       "    <tr>\n",
       "      <th>0</th>\n",
       "      <td>LGBMClassifier</td>\n",
       "      <td>0.759424</td>\n",
       "      <td>0.935723</td>\n",
       "      <td>0.759777</td>\n",
       "      <td>0.008417</td>\n",
       "    </tr>\n",
       "  </tbody>\n",
       "</table>\n",
       "</div>"
      ],
      "text/plain": [
       "            model      test     train  f1_cross_mean  f1_cross_std\n",
       "0  LGBMClassifier  0.759424  0.935723       0.759777      0.008417"
      ]
     },
     "execution_count": 665,
     "metadata": {},
     "output_type": "execute_result"
    }
   ],
   "source": [
    "pd.DataFrame.from_dict(results)"
   ]
  },
  {
   "cell_type": "code",
   "execution_count": 666,
   "metadata": {},
   "outputs": [
    {
     "data": {
      "text/plain": [
       "{'boosting_type': 'dart',\n",
       " 'class_weight': None,\n",
       " 'colsample_bytree': 1.0,\n",
       " 'importance_type': 'split',\n",
       " 'learning_rate': 0.1,\n",
       " 'max_depth': 8,\n",
       " 'min_child_samples': 20,\n",
       " 'min_child_weight': 0.001,\n",
       " 'min_split_gain': 0.0,\n",
       " 'n_estimators': 300,\n",
       " 'n_jobs': -1,\n",
       " 'num_leaves': 64,\n",
       " 'objective': 'binary',\n",
       " 'random_state': None,\n",
       " 'reg_alpha': 0.0,\n",
       " 'reg_lambda': 0.0,\n",
       " 'silent': True,\n",
       " 'subsample': 1.0,\n",
       " 'subsample_for_bin': 200000,\n",
       " 'subsample_freq': 0,\n",
       " 'scale_pos_weight': 0.18265524625267665}"
      ]
     },
     "execution_count": 666,
     "metadata": {},
     "output_type": "execute_result"
    }
   ],
   "source": [
    "models[0].get_params()"
   ]
  },
  {
   "cell_type": "markdown",
   "metadata": {},
   "source": [
    "## Model evaluation\n",
    "I planned to use LightGBM. "
   ]
  },
  {
   "cell_type": "code",
   "execution_count": 637,
   "metadata": {},
   "outputs": [],
   "source": [
    "# Create parameters to search\n",
    "# these hypermarateres were obtained from 004 notebook with optuna.\n",
    "# Hence, I let it to have a reproducible workflow.\n",
    "\n",
    "grid_params = {\n",
    "    'learning_rate': [0.08],\n",
    "    'boosting_type' : ['dart'],\n",
    "    'n_estimators': [300],\n",
    "    'lambda_l1': [0.001, 0.02],\n",
    "    'lambda_l2': [1e-3, 0.1, 5],\n",
    "#     'max_depth': [17,23],\n",
    "    'num_leaves': [23, 75],\n",
    "#     \"random_state\": [42],\n",
    "#     'random_state' : [501], # Updated from 'seed'\n",
    "#     'colsample_bytree' : [0.65, 0.66],\n",
    "#     'subsample' : [0.60, 0.75],\n",
    "#     'reg_alpha' : [1,1.2],\n",
    "#     'reg_lambda' : [1,1.2,1.4],\n",
    "}\n",
    "\n"
   ]
  },
  {
   "cell_type": "code",
   "execution_count": 638,
   "metadata": {},
   "outputs": [],
   "source": [
    "clf = gbm.LGBMClassifier(**lgb_params)"
   ]
  },
  {
   "cell_type": "code",
   "execution_count": null,
   "metadata": {
    "scrolled": true
   },
   "outputs": [],
   "source": [
    "# Create the grid\n",
    "grid = GridSearchCV(\n",
    "    clf, \n",
    "    grid_params,\n",
    "    cv=StratifiedKFold(2),\n",
    "    n_jobs=-1,\n",
    "    scoring=score,\n",
    "    verbose=1\n",
    ")\n",
    "\n",
    "# Run the grid\n",
    "# I setted fit_params for lightgbm, if needed, remove it (in case of changing the model)\n",
    "grid.fit(\n",
    "    X_train, y_train, \n",
    "    eval_set=[(X_train, y_train), (X_val, y_val)], \n",
    "    early_stopping_rounds=15,\n",
    "    eval_metric=[lambda y_true, y_pred: (\"F1_MACRO\", metric(y_true, np.round(y_pred)), True)],\n",
    "    feature_name=X_train.columns.tolist(),\n",
    "    categorical_feature=[\"Month\", \"TrafficType\", \"Browser\", \"SpecialDay\", \"OperatingSystems\", \"Region\", \"VisitorType\", \"Weekend\"]\n",
    ")\n",
    "# Print the best parameters found\n",
    "print(grid.best_params_)\n",
    "print(grid.best_score_)"
   ]
  },
  {
   "cell_type": "code",
   "execution_count": null,
   "metadata": {
    "scrolled": true
   },
   "outputs": [
    {
     "name": "stdout",
     "output_type": "stream",
     "text": [
      "Fitting 2 folds for each of 12 candidates, totalling 24 fits\n"
     ]
    },
    {
     "name": "stderr",
     "output_type": "stream",
     "text": [
      "[Parallel(n_jobs=-1)]: Using backend LokyBackend with 4 concurrent workers.\n"
     ]
    }
   ],
   "source": []
  },
  {
   "cell_type": "code",
   "execution_count": 641,
   "metadata": {},
   "outputs": [
    {
     "name": "stdout",
     "output_type": "stream",
     "text": [
      "              precision    recall  f1-score   support\n",
      "\n",
      "           0       0.94      0.93      0.94      1460\n",
      "           1       0.65      0.66      0.65       267\n",
      "\n",
      "    accuracy                           0.89      1727\n",
      "   macro avg       0.79      0.79      0.79      1727\n",
      "weighted avg       0.89      0.89      0.89      1727\n",
      "\n",
      "[[1364   96]\n",
      " [  92  175]]\n",
      "0.793042870765575\n",
      "0.8960253976445436\n"
     ]
    }
   ],
   "source": [
    "print(classification_report(y_test, grid.best_estimator_.predict(X_test)))\n",
    "print(confusion_matrix(y_test, grid.best_estimator_.predict(X_test)))\n",
    "print(metric(y_test, grid.best_estimator_.predict(X_test)))\n",
    "print(metric(y_train, grid.best_estimator_.predict(X_train)))\n"
   ]
  },
  {
   "cell_type": "code",
   "execution_count": 680,
   "metadata": {},
   "outputs": [],
   "source": [
    "### for submition, parameters from optuna + grid-search\n",
    "### dictionary update: {**dict1, **dict2}, or with dict.update(dict2)\n",
    "\n",
    "clf = gbm.LGBMClassifier(**{**lgb_params, **grid.best_params_})"
   ]
  },
  {
   "cell_type": "code",
   "execution_count": 686,
   "metadata": {},
   "outputs": [],
   "source": []
  },
  {
   "cell_type": "code",
   "execution_count": 672,
   "metadata": {
    "scrolled": true
   },
   "outputs": [
    {
     "name": "stdout",
     "output_type": "stream",
     "text": [
      "[LightGBM] [Warning] lambda_l1 is set=0.02, reg_alpha=0.0 will be ignored. Current value: lambda_l1=0.02\n",
      "[LightGBM] [Warning] lambda_l2 is set=5, reg_lambda=0.0 will be ignored. Current value: lambda_l2=5\n",
      "[1]\tvalid_0's binary_logloss: 0.414235\tvalid_0's F1_MACRO: 0.458158\tvalid_1's binary_logloss: 0.413747\tvalid_1's F1_MACRO: 0.458219\n",
      "[2]\tvalid_0's binary_logloss: 0.40034\tvalid_0's F1_MACRO: 0.458158\tvalid_1's binary_logloss: 0.3999\tvalid_1's F1_MACRO: 0.458219\n",
      "[3]\tvalid_0's binary_logloss: 0.388542\tvalid_0's F1_MACRO: 0.458158\tvalid_1's binary_logloss: 0.38766\tvalid_1's F1_MACRO: 0.458219\n",
      "[4]\tvalid_0's binary_logloss: 0.378102\tvalid_0's F1_MACRO: 0.458158\tvalid_1's binary_logloss: 0.376341\tvalid_1's F1_MACRO: 0.458219\n",
      "[5]\tvalid_0's binary_logloss: 0.368981\tvalid_0's F1_MACRO: 0.458158\tvalid_1's binary_logloss: 0.366515\tvalid_1's F1_MACRO: 0.458219\n",
      "[6]\tvalid_0's binary_logloss: 0.360855\tvalid_0's F1_MACRO: 0.458158\tvalid_1's binary_logloss: 0.357981\tvalid_1's F1_MACRO: 0.458219\n",
      "[7]\tvalid_0's binary_logloss: 0.353361\tvalid_0's F1_MACRO: 0.458158\tvalid_1's binary_logloss: 0.349727\tvalid_1's F1_MACRO: 0.458219\n",
      "[8]\tvalid_0's binary_logloss: 0.356504\tvalid_0's F1_MACRO: 0.458158\tvalid_1's binary_logloss: 0.352737\tvalid_1's F1_MACRO: 0.458219\n",
      "[9]\tvalid_0's binary_logloss: 0.349553\tvalid_0's F1_MACRO: 0.458158\tvalid_1's binary_logloss: 0.345277\tvalid_1's F1_MACRO: 0.458219\n",
      "[10]\tvalid_0's binary_logloss: 0.343431\tvalid_0's F1_MACRO: 0.458158\tvalid_1's binary_logloss: 0.338941\tvalid_1's F1_MACRO: 0.458219\n",
      "[11]\tvalid_0's binary_logloss: 0.337864\tvalid_0's F1_MACRO: 0.458158\tvalid_1's binary_logloss: 0.332809\tvalid_1's F1_MACRO: 0.458219\n",
      "[12]\tvalid_0's binary_logloss: 0.339923\tvalid_0's F1_MACRO: 0.458158\tvalid_1's binary_logloss: 0.335192\tvalid_1's F1_MACRO: 0.458219\n",
      "[13]\tvalid_0's binary_logloss: 0.334037\tvalid_0's F1_MACRO: 0.458158\tvalid_1's binary_logloss: 0.32942\tvalid_1's F1_MACRO: 0.458219\n",
      "[14]\tvalid_0's binary_logloss: 0.328767\tvalid_0's F1_MACRO: 0.458158\tvalid_1's binary_logloss: 0.324226\tvalid_1's F1_MACRO: 0.458219\n",
      "[15]\tvalid_0's binary_logloss: 0.323975\tvalid_0's F1_MACRO: 0.458158\tvalid_1's binary_logloss: 0.319327\tvalid_1's F1_MACRO: 0.458219\n",
      "[16]\tvalid_0's binary_logloss: 0.319673\tvalid_0's F1_MACRO: 0.458158\tvalid_1's binary_logloss: 0.31511\tvalid_1's F1_MACRO: 0.458219\n",
      "[17]\tvalid_0's binary_logloss: 0.315975\tvalid_0's F1_MACRO: 0.499151\tvalid_1's binary_logloss: 0.311568\tvalid_1's F1_MACRO: 0.495861\n",
      "[18]\tvalid_0's binary_logloss: 0.3127\tvalid_0's F1_MACRO: 0.540158\tvalid_1's binary_logloss: 0.307972\tvalid_1's F1_MACRO: 0.543557\n",
      "[19]\tvalid_0's binary_logloss: 0.309579\tvalid_0's F1_MACRO: 0.553492\tvalid_1's binary_logloss: 0.304755\tvalid_1's F1_MACRO: 0.571728\n",
      "[20]\tvalid_0's binary_logloss: 0.306985\tvalid_0's F1_MACRO: 0.567465\tvalid_1's binary_logloss: 0.302276\tvalid_1's F1_MACRO: 0.594657\n",
      "[21]\tvalid_0's binary_logloss: 0.30777\tvalid_0's F1_MACRO: 0.56252\tvalid_1's binary_logloss: 0.303111\tvalid_1's F1_MACRO: 0.587133\n",
      "[22]\tvalid_0's binary_logloss: 0.305454\tvalid_0's F1_MACRO: 0.57122\tvalid_1's binary_logloss: 0.300828\tvalid_1's F1_MACRO: 0.598375\n",
      "[23]\tvalid_0's binary_logloss: 0.303236\tvalid_0's F1_MACRO: 0.583741\tvalid_1's binary_logloss: 0.298549\tvalid_1's F1_MACRO: 0.605727\n",
      "[24]\tvalid_0's binary_logloss: 0.300958\tvalid_0's F1_MACRO: 0.598156\tvalid_1's binary_logloss: 0.29618\tvalid_1's F1_MACRO: 0.623627\n",
      "[25]\tvalid_0's binary_logloss: 0.29925\tvalid_0's F1_MACRO: 0.606364\tvalid_1's binary_logloss: 0.294408\tvalid_1's F1_MACRO: 0.627127\n",
      "[26]\tvalid_0's binary_logloss: 0.29732\tvalid_0's F1_MACRO: 0.610864\tvalid_1's binary_logloss: 0.292367\tvalid_1's F1_MACRO: 0.640872\n",
      "[27]\tvalid_0's binary_logloss: 0.295409\tvalid_0's F1_MACRO: 0.622368\tvalid_1's binary_logloss: 0.290463\tvalid_1's F1_MACRO: 0.640872\n",
      "[28]\tvalid_0's binary_logloss: 0.29604\tvalid_0's F1_MACRO: 0.617976\tvalid_1's binary_logloss: 0.291144\tvalid_1's F1_MACRO: 0.637474\n",
      "[29]\tvalid_0's binary_logloss: 0.294395\tvalid_0's F1_MACRO: 0.624114\tvalid_1's binary_logloss: 0.28959\tvalid_1's F1_MACRO: 0.640872\n",
      "[30]\tvalid_0's binary_logloss: 0.292829\tvalid_0's F1_MACRO: 0.633816\tvalid_1's binary_logloss: 0.287814\tvalid_1's F1_MACRO: 0.644246\n",
      "[31]\tvalid_0's binary_logloss: 0.293047\tvalid_0's F1_MACRO: 0.631246\tvalid_1's binary_logloss: 0.288011\tvalid_1's F1_MACRO: 0.644246\n",
      "[32]\tvalid_0's binary_logloss: 0.290725\tvalid_0's F1_MACRO: 0.634452\tvalid_1's binary_logloss: 0.28594\tvalid_1's F1_MACRO: 0.644246\n",
      "[33]\tvalid_0's binary_logloss: 0.288334\tvalid_0's F1_MACRO: 0.639317\tvalid_1's binary_logloss: 0.283882\tvalid_1's F1_MACRO: 0.640872\n",
      "[34]\tvalid_0's binary_logloss: 0.286182\tvalid_0's F1_MACRO: 0.642897\tvalid_1's binary_logloss: 0.281753\tvalid_1's F1_MACRO: 0.647596\n",
      "[35]\tvalid_0's binary_logloss: 0.28668\tvalid_0's F1_MACRO: 0.642059\tvalid_1's binary_logloss: 0.282251\tvalid_1's F1_MACRO: 0.647596\n",
      "[36]\tvalid_0's binary_logloss: 0.287848\tvalid_0's F1_MACRO: 0.637849\tvalid_1's binary_logloss: 0.283519\tvalid_1's F1_MACRO: 0.644246\n",
      "[37]\tvalid_0's binary_logloss: 0.286308\tvalid_0's F1_MACRO: 0.637849\tvalid_1's binary_logloss: 0.281845\tvalid_1's F1_MACRO: 0.644246\n",
      "[38]\tvalid_0's binary_logloss: 0.284435\tvalid_0's F1_MACRO: 0.646232\tvalid_1's binary_logloss: 0.280093\tvalid_1's F1_MACRO: 0.650921\n",
      "[39]\tvalid_0's binary_logloss: 0.282499\tvalid_0's F1_MACRO: 0.649771\tvalid_1's binary_logloss: 0.278417\tvalid_1's F1_MACRO: 0.657501\n",
      "[40]\tvalid_0's binary_logloss: 0.282162\tvalid_0's F1_MACRO: 0.649771\tvalid_1's binary_logloss: 0.278211\tvalid_1's F1_MACRO: 0.657501\n",
      "[41]\tvalid_0's binary_logloss: 0.283012\tvalid_0's F1_MACRO: 0.643957\tvalid_1's binary_logloss: 0.279047\tvalid_1's F1_MACRO: 0.650921\n",
      "[42]\tvalid_0's binary_logloss: 0.28141\tvalid_0's F1_MACRO: 0.649544\tvalid_1's binary_logloss: 0.277671\tvalid_1's F1_MACRO: 0.654223\n",
      "[43]\tvalid_0's binary_logloss: 0.282044\tvalid_0's F1_MACRO: 0.647062\tvalid_1's binary_logloss: 0.278342\tvalid_1's F1_MACRO: 0.654223\n",
      "[44]\tvalid_0's binary_logloss: 0.280911\tvalid_0's F1_MACRO: 0.652012\tvalid_1's binary_logloss: 0.27703\tvalid_1's F1_MACRO: 0.660756\n",
      "[45]\tvalid_0's binary_logloss: 0.279024\tvalid_0's F1_MACRO: 0.652012\tvalid_1's binary_logloss: 0.27516\tvalid_1's F1_MACRO: 0.660756\n",
      "[46]\tvalid_0's binary_logloss: 0.279024\tvalid_0's F1_MACRO: 0.652012\tvalid_1's binary_logloss: 0.27516\tvalid_1's F1_MACRO: 0.660756\n",
      "[47]\tvalid_0's binary_logloss: 0.279024\tvalid_0's F1_MACRO: 0.652012\tvalid_1's binary_logloss: 0.27516\tvalid_1's F1_MACRO: 0.660756\n",
      "[48]\tvalid_0's binary_logloss: 0.279024\tvalid_0's F1_MACRO: 0.652012\tvalid_1's binary_logloss: 0.27516\tvalid_1's F1_MACRO: 0.660756\n",
      "[49]\tvalid_0's binary_logloss: 0.279024\tvalid_0's F1_MACRO: 0.652012\tvalid_1's binary_logloss: 0.27516\tvalid_1's F1_MACRO: 0.660756\n",
      "[50]\tvalid_0's binary_logloss: 0.279024\tvalid_0's F1_MACRO: 0.652012\tvalid_1's binary_logloss: 0.27516\tvalid_1's F1_MACRO: 0.660756\n",
      "[51]\tvalid_0's binary_logloss: 0.281386\tvalid_0's F1_MACRO: 0.647288\tvalid_1's binary_logloss: 0.277545\tvalid_1's F1_MACRO: 0.647596\n",
      "[52]\tvalid_0's binary_logloss: 0.281386\tvalid_0's F1_MACRO: 0.647288\tvalid_1's binary_logloss: 0.277545\tvalid_1's F1_MACRO: 0.647596\n",
      "[53]\tvalid_0's binary_logloss: 0.283945\tvalid_0's F1_MACRO: 0.641664\tvalid_1's binary_logloss: 0.280126\tvalid_1's F1_MACRO: 0.644246\n",
      "[54]\tvalid_0's binary_logloss: 0.285858\tvalid_0's F1_MACRO: 0.63744\tvalid_1's binary_logloss: 0.281971\tvalid_1's F1_MACRO: 0.640872\n",
      "[55]\tvalid_0's binary_logloss: 0.287335\tvalid_0's F1_MACRO: 0.6306\tvalid_1's binary_logloss: 0.283548\tvalid_1's F1_MACRO: 0.63405\n",
      "[56]\tvalid_0's binary_logloss: 0.305851\tvalid_0's F1_MACRO: 0.590536\tvalid_1's binary_logloss: 0.302123\tvalid_1's F1_MACRO: 0.609361\n",
      "[57]\tvalid_0's binary_logloss: 0.312822\tvalid_0's F1_MACRO: 0.575447\tvalid_1's binary_logloss: 0.309107\tvalid_1's F1_MACRO: 0.598375\n",
      "[58]\tvalid_0's binary_logloss: 0.333418\tvalid_0's F1_MACRO: 0.550594\tvalid_1's binary_logloss: 0.329632\tvalid_1's F1_MACRO: 0.56384\n",
      "[59]\tvalid_0's binary_logloss: 0.34022\tvalid_0's F1_MACRO: 0.538211\tvalid_1's binary_logloss: 0.336439\tvalid_1's F1_MACRO: 0.555825\n",
      "[60]\tvalid_0's binary_logloss: 0.346682\tvalid_0's F1_MACRO: 0.531904\tvalid_1's binary_logloss: 0.3427\tvalid_1's F1_MACRO: 0.5394\n",
      "[61]\tvalid_0's binary_logloss: 0.348155\tvalid_0's F1_MACRO: 0.520135\tvalid_1's binary_logloss: 0.34418\tvalid_1's F1_MACRO: 0.530982\n",
      "[62]\tvalid_0's binary_logloss: 0.349925\tvalid_0's F1_MACRO: 0.513599\tvalid_1's binary_logloss: 0.345939\tvalid_1's F1_MACRO: 0.530982\n",
      "[63]\tvalid_0's binary_logloss: 0.352107\tvalid_0's F1_MACRO: 0.502521\tvalid_1's binary_logloss: 0.348139\tvalid_1's F1_MACRO: 0.504867\n",
      "[64]\tvalid_0's binary_logloss: 0.357668\tvalid_0's F1_MACRO: 0.504755\tvalid_1's binary_logloss: 0.353598\tvalid_1's F1_MACRO: 0.504867\n",
      "[65]\tvalid_0's binary_logloss: 0.359092\tvalid_0's F1_MACRO: 0.500276\tvalid_1's binary_logloss: 0.354969\tvalid_1's F1_MACRO: 0.500383\n",
      "[66]\tvalid_0's binary_logloss: 0.364697\tvalid_0's F1_MACRO: 0.498022\tvalid_1's binary_logloss: 0.360417\tvalid_1's F1_MACRO: 0.491299\n",
      "[67]\tvalid_0's binary_logloss: 0.369797\tvalid_0's F1_MACRO: 0.494623\tvalid_1's binary_logloss: 0.365133\tvalid_1's F1_MACRO: 0.495861\n",
      "[68]\tvalid_0's binary_logloss: 0.369742\tvalid_0's F1_MACRO: 0.496892\tvalid_1's binary_logloss: 0.364981\tvalid_1's F1_MACRO: 0.500383\n",
      "[69]\tvalid_0's binary_logloss: 0.370322\tvalid_0's F1_MACRO: 0.493485\tvalid_1's binary_logloss: 0.365543\tvalid_1's F1_MACRO: 0.495861\n",
      "[70]\tvalid_0's binary_logloss: 0.371102\tvalid_0's F1_MACRO: 0.494623\tvalid_1's binary_logloss: 0.366294\tvalid_1's F1_MACRO: 0.500383\n",
      "[71]\tvalid_0's binary_logloss: 0.37601\tvalid_0's F1_MACRO: 0.494623\tvalid_1's binary_logloss: 0.371018\tvalid_1's F1_MACRO: 0.500383\n",
      "[72]\tvalid_0's binary_logloss: 0.375841\tvalid_0's F1_MACRO: 0.492345\tvalid_1's binary_logloss: 0.370792\tvalid_1's F1_MACRO: 0.500383\n",
      "[73]\tvalid_0's binary_logloss: 0.380679\tvalid_0's F1_MACRO: 0.496892\tvalid_1's binary_logloss: 0.375568\tvalid_1's F1_MACRO: 0.500383\n",
      "[74]\tvalid_0's binary_logloss: 0.380208\tvalid_0's F1_MACRO: 0.492345\tvalid_1's binary_logloss: 0.375132\tvalid_1's F1_MACRO: 0.486697\n",
      "[75]\tvalid_0's binary_logloss: 0.378971\tvalid_0's F1_MACRO: 0.494623\tvalid_1's binary_logloss: 0.373925\tvalid_1's F1_MACRO: 0.500383\n",
      "[76]\tvalid_0's binary_logloss: 0.383016\tvalid_0's F1_MACRO: 0.496892\tvalid_1's binary_logloss: 0.377697\tvalid_1's F1_MACRO: 0.500383\n",
      "[77]\tvalid_0's binary_logloss: 0.39776\tvalid_0's F1_MACRO: 0.476114\tvalid_1's binary_logloss: 0.392501\tvalid_1's F1_MACRO: 0.467881\n",
      "[78]\tvalid_0's binary_logloss: 0.397452\tvalid_0's F1_MACRO: 0.473754\tvalid_1's binary_logloss: 0.392142\tvalid_1's F1_MACRO: 0.467881\n",
      "[79]\tvalid_0's binary_logloss: 0.417837\tvalid_0's F1_MACRO: 0.460587\tvalid_1's binary_logloss: 0.412569\tvalid_1's F1_MACRO: 0.463072\n",
      "[80]\tvalid_0's binary_logloss: 0.417555\tvalid_0's F1_MACRO: 0.460587\tvalid_1's binary_logloss: 0.412294\tvalid_1's F1_MACRO: 0.463072\n",
      "[81]\tvalid_0's binary_logloss: 0.417402\tvalid_0's F1_MACRO: 0.460587\tvalid_1's binary_logloss: 0.412209\tvalid_1's F1_MACRO: 0.463072\n",
      "[82]\tvalid_0's binary_logloss: 0.419319\tvalid_0's F1_MACRO: 0.460587\tvalid_1's binary_logloss: 0.41391\tvalid_1's F1_MACRO: 0.463072\n",
      "[83]\tvalid_0's binary_logloss: 0.419395\tvalid_0's F1_MACRO: 0.460587\tvalid_1's binary_logloss: 0.414043\tvalid_1's F1_MACRO: 0.463072\n",
      "[84]\tvalid_0's binary_logloss: 0.421154\tvalid_0's F1_MACRO: 0.463005\tvalid_1's binary_logloss: 0.414979\tvalid_1's F1_MACRO: 0.467881\n",
      "[85]\tvalid_0's binary_logloss: 0.42289\tvalid_0's F1_MACRO: 0.467809\tvalid_1's binary_logloss: 0.415958\tvalid_1's F1_MACRO: 0.467881\n",
      "[86]\tvalid_0's binary_logloss: 0.423657\tvalid_0's F1_MACRO: 0.470195\tvalid_1's binary_logloss: 0.41712\tvalid_1's F1_MACRO: 0.467881\n",
      "[87]\tvalid_0's binary_logloss: 0.422703\tvalid_0's F1_MACRO: 0.470195\tvalid_1's binary_logloss: 0.416161\tvalid_1's F1_MACRO: 0.467881\n",
      "[88]\tvalid_0's binary_logloss: 0.42188\tvalid_0's F1_MACRO: 0.467809\tvalid_1's binary_logloss: 0.415382\tvalid_1's F1_MACRO: 0.467881\n",
      "[89]\tvalid_0's binary_logloss: 0.422982\tvalid_0's F1_MACRO: 0.476114\tvalid_1's binary_logloss: 0.416746\tvalid_1's F1_MACRO: 0.467881\n",
      "[90]\tvalid_0's binary_logloss: 0.421381\tvalid_0's F1_MACRO: 0.476114\tvalid_1's binary_logloss: 0.415339\tvalid_1's F1_MACRO: 0.467881\n",
      "[91]\tvalid_0's binary_logloss: 0.42263\tvalid_0's F1_MACRO: 0.485449\tvalid_1's binary_logloss: 0.41691\tvalid_1's F1_MACRO: 0.482055\n",
      "[92]\tvalid_0's binary_logloss: 0.423668\tvalid_0's F1_MACRO: 0.492345\tvalid_1's binary_logloss: 0.418392\tvalid_1's F1_MACRO: 0.500383\n",
      "[93]\tvalid_0's binary_logloss: 0.422392\tvalid_0's F1_MACRO: 0.492345\tvalid_1's binary_logloss: 0.417146\tvalid_1's F1_MACRO: 0.500383\n",
      "[94]\tvalid_0's binary_logloss: 0.422068\tvalid_0's F1_MACRO: 0.491202\tvalid_1's binary_logloss: 0.417026\tvalid_1's F1_MACRO: 0.491299\n",
      "[95]\tvalid_0's binary_logloss: 0.423974\tvalid_0's F1_MACRO: 0.494623\tvalid_1's binary_logloss: 0.418952\tvalid_1's F1_MACRO: 0.504867\n",
      "[96]\tvalid_0's binary_logloss: 0.425003\tvalid_0's F1_MACRO: 0.5014\tvalid_1's binary_logloss: 0.419514\tvalid_1's F1_MACRO: 0.509312\n",
      "[97]\tvalid_0's binary_logloss: 0.425931\tvalid_0's F1_MACRO: 0.505869\tvalid_1's binary_logloss: 0.420638\tvalid_1's F1_MACRO: 0.509312\n",
      "[98]\tvalid_0's binary_logloss: 0.426814\tvalid_0's F1_MACRO: 0.509196\tvalid_1's binary_logloss: 0.421696\tvalid_1's F1_MACRO: 0.51372\n",
      "[99]\tvalid_0's binary_logloss: 0.426662\tvalid_0's F1_MACRO: 0.506981\tvalid_1's binary_logloss: 0.421492\tvalid_1's F1_MACRO: 0.509312\n",
      "[100]\tvalid_0's binary_logloss: 0.426279\tvalid_0's F1_MACRO: 0.504755\tvalid_1's binary_logloss: 0.421154\tvalid_1's F1_MACRO: 0.509312\n",
      "[101]\tvalid_0's binary_logloss: 0.425982\tvalid_0's F1_MACRO: 0.500276\tvalid_1's binary_logloss: 0.420891\tvalid_1's F1_MACRO: 0.509312\n",
      "[102]\tvalid_0's binary_logloss: 0.424751\tvalid_0's F1_MACRO: 0.496892\tvalid_1's binary_logloss: 0.419607\tvalid_1's F1_MACRO: 0.509312\n",
      "[103]\tvalid_0's binary_logloss: 0.424281\tvalid_0's F1_MACRO: 0.495759\tvalid_1's binary_logloss: 0.419143\tvalid_1's F1_MACRO: 0.504867\n",
      "[104]\tvalid_0's binary_logloss: 0.423513\tvalid_0's F1_MACRO: 0.495759\tvalid_1's binary_logloss: 0.418435\tvalid_1's F1_MACRO: 0.504867\n",
      "[105]\tvalid_0's binary_logloss: 0.425168\tvalid_0's F1_MACRO: 0.499151\tvalid_1's binary_logloss: 0.4199\tvalid_1's F1_MACRO: 0.509312\n",
      "[106]\tvalid_0's binary_logloss: 0.42594\tvalid_0's F1_MACRO: 0.504755\tvalid_1's binary_logloss: 0.4208\tvalid_1's F1_MACRO: 0.51372\n",
      "[107]\tvalid_0's binary_logloss: 0.426822\tvalid_0's F1_MACRO: 0.509196\tvalid_1's binary_logloss: 0.421678\tvalid_1's F1_MACRO: 0.51372\n",
      "[108]\tvalid_0's binary_logloss: 0.427862\tvalid_0's F1_MACRO: 0.514694\tvalid_1's binary_logloss: 0.422343\tvalid_1's F1_MACRO: 0.51809\n",
      "[109]\tvalid_0's binary_logloss: 0.428714\tvalid_0's F1_MACRO: 0.517965\tvalid_1's binary_logloss: 0.423163\tvalid_1's F1_MACRO: 0.530982\n",
      "[110]\tvalid_0's binary_logloss: 0.428333\tvalid_0's F1_MACRO: 0.517965\tvalid_1's binary_logloss: 0.422831\tvalid_1's F1_MACRO: 0.530982\n",
      "[111]\tvalid_0's binary_logloss: 0.427818\tvalid_0's F1_MACRO: 0.512502\tvalid_1's binary_logloss: 0.422338\tvalid_1's F1_MACRO: 0.51809\n",
      "[112]\tvalid_0's binary_logloss: 0.427723\tvalid_0's F1_MACRO: 0.510301\tvalid_1's binary_logloss: 0.422309\tvalid_1's F1_MACRO: 0.51372\n",
      "[113]\tvalid_0's binary_logloss: 0.426976\tvalid_0's F1_MACRO: 0.506981\tvalid_1's binary_logloss: 0.421582\tvalid_1's F1_MACRO: 0.51372\n",
      "[114]\tvalid_0's binary_logloss: 0.434566\tvalid_0's F1_MACRO: 0.498022\tvalid_1's binary_logloss: 0.42916\tvalid_1's F1_MACRO: 0.500383\n",
      "[115]\tvalid_0's binary_logloss: 0.434727\tvalid_0's F1_MACRO: 0.494623\tvalid_1's binary_logloss: 0.429234\tvalid_1's F1_MACRO: 0.495861\n",
      "[116]\tvalid_0's binary_logloss: 0.434198\tvalid_0's F1_MACRO: 0.493485\tvalid_1's binary_logloss: 0.428672\tvalid_1's F1_MACRO: 0.495861\n",
      "[117]\tvalid_0's binary_logloss: 0.433276\tvalid_0's F1_MACRO: 0.491202\tvalid_1's binary_logloss: 0.427709\tvalid_1's F1_MACRO: 0.482055\n",
      "[118]\tvalid_0's binary_logloss: 0.433809\tvalid_0's F1_MACRO: 0.496892\tvalid_1's binary_logloss: 0.42803\tvalid_1's F1_MACRO: 0.491299\n",
      "[119]\tvalid_0's binary_logloss: 0.43424\tvalid_0's F1_MACRO: 0.504755\tvalid_1's binary_logloss: 0.428682\tvalid_1's F1_MACRO: 0.504867\n",
      "[120]\tvalid_0's binary_logloss: 0.434916\tvalid_0's F1_MACRO: 0.506981\tvalid_1's binary_logloss: 0.428876\tvalid_1's F1_MACRO: 0.51372\n",
      "[121]\tvalid_0's binary_logloss: 0.446471\tvalid_0's F1_MACRO: 0.496892\tvalid_1's binary_logloss: 0.440428\tvalid_1's F1_MACRO: 0.491299\n",
      "[122]\tvalid_0's binary_logloss: 0.44495\tvalid_0's F1_MACRO: 0.502521\tvalid_1's binary_logloss: 0.43916\tvalid_1's F1_MACRO: 0.491299\n",
      "[123]\tvalid_0's binary_logloss: 0.443645\tvalid_0's F1_MACRO: 0.502521\tvalid_1's binary_logloss: 0.43785\tvalid_1's F1_MACRO: 0.504867\n",
      "[124]\tvalid_0's binary_logloss: 0.442862\tvalid_0's F1_MACRO: 0.511403\tvalid_1's binary_logloss: 0.436878\tvalid_1's F1_MACRO: 0.522424\n",
      "[125]\tvalid_0's binary_logloss: 0.441492\tvalid_0's F1_MACRO: 0.515787\tvalid_1's binary_logloss: 0.43568\tvalid_1's F1_MACRO: 0.526721\n",
      "[126]\tvalid_0's binary_logloss: 0.440916\tvalid_0's F1_MACRO: 0.514694\tvalid_1's binary_logloss: 0.43511\tvalid_1's F1_MACRO: 0.522424\n",
      "[127]\tvalid_0's binary_logloss: 0.440344\tvalid_0's F1_MACRO: 0.510301\tvalid_1's binary_logloss: 0.434535\tvalid_1's F1_MACRO: 0.522424\n",
      "[128]\tvalid_0's binary_logloss: 0.439168\tvalid_0's F1_MACRO: 0.516877\tvalid_1's binary_logloss: 0.43377\tvalid_1's F1_MACRO: 0.530982\n",
      "[129]\tvalid_0's binary_logloss: 0.438099\tvalid_0's F1_MACRO: 0.521216\tvalid_1's binary_logloss: 0.43248\tvalid_1's F1_MACRO: 0.535208\n",
      "[130]\tvalid_0's binary_logloss: 0.43702\tvalid_0's F1_MACRO: 0.524446\tvalid_1's binary_logloss: 0.43168\tvalid_1's F1_MACRO: 0.5394\n",
      "[131]\tvalid_0's binary_logloss: 0.436336\tvalid_0's F1_MACRO: 0.530845\tvalid_1's binary_logloss: 0.430849\tvalid_1's F1_MACRO: 0.5394\n",
      "[132]\tvalid_0's binary_logloss: 0.435221\tvalid_0's F1_MACRO: 0.531904\tvalid_1's binary_logloss: 0.430091\tvalid_1's F1_MACRO: 0.543557\n",
      "[133]\tvalid_0's binary_logloss: 0.434879\tvalid_0's F1_MACRO: 0.528721\tvalid_1's binary_logloss: 0.429735\tvalid_1's F1_MACRO: 0.5394\n",
      "[134]\tvalid_0's binary_logloss: 0.43383\tvalid_0's F1_MACRO: 0.537165\tvalid_1's binary_logloss: 0.428513\tvalid_1's F1_MACRO: 0.543557\n",
      "[135]\tvalid_0's binary_logloss: 0.434049\tvalid_0's F1_MACRO: 0.530845\tvalid_1's binary_logloss: 0.428666\tvalid_1's F1_MACRO: 0.543557\n",
      "[136]\tvalid_0's binary_logloss: 0.439566\tvalid_0's F1_MACRO: 0.524446\tvalid_1's binary_logloss: 0.434194\tvalid_1's F1_MACRO: 0.5394\n",
      "[137]\tvalid_0's binary_logloss: 0.438243\tvalid_0's F1_MACRO: 0.528721\tvalid_1's binary_logloss: 0.432918\tvalid_1's F1_MACRO: 0.5394\n",
      "[138]\tvalid_0's binary_logloss: 0.43681\tvalid_0's F1_MACRO: 0.536117\tvalid_1's binary_logloss: 0.431652\tvalid_1's F1_MACRO: 0.543557\n",
      "[139]\tvalid_0's binary_logloss: 0.435424\tvalid_0's F1_MACRO: 0.542373\tvalid_1's binary_logloss: 0.430504\tvalid_1's F1_MACRO: 0.54768\n",
      "[140]\tvalid_0's binary_logloss: 0.43532\tvalid_0's F1_MACRO: 0.538211\tvalid_1's binary_logloss: 0.43038\tvalid_1's F1_MACRO: 0.54768\n",
      "[141]\tvalid_0's binary_logloss: 0.435147\tvalid_0's F1_MACRO: 0.534015\tvalid_1's binary_logloss: 0.430226\tvalid_1's F1_MACRO: 0.543557\n",
      "[142]\tvalid_0's binary_logloss: 0.434644\tvalid_0's F1_MACRO: 0.530845\tvalid_1's binary_logloss: 0.429692\tvalid_1's F1_MACRO: 0.543557\n",
      "[143]\tvalid_0's binary_logloss: 0.438177\tvalid_0's F1_MACRO: 0.523371\tvalid_1's binary_logloss: 0.433193\tvalid_1's F1_MACRO: 0.530982\n",
      "[144]\tvalid_0's binary_logloss: 0.437757\tvalid_0's F1_MACRO: 0.522295\tvalid_1's binary_logloss: 0.432751\tvalid_1's F1_MACRO: 0.530982\n",
      "[145]\tvalid_0's binary_logloss: 0.436271\tvalid_0's F1_MACRO: 0.525518\tvalid_1's binary_logloss: 0.431522\tvalid_1's F1_MACRO: 0.5394\n",
      "[146]\tvalid_0's binary_logloss: 0.436339\tvalid_0's F1_MACRO: 0.523371\tvalid_1's binary_logloss: 0.431608\tvalid_1's F1_MACRO: 0.535208\n",
      "[147]\tvalid_0's binary_logloss: 0.435987\tvalid_0's F1_MACRO: 0.523371\tvalid_1's binary_logloss: 0.43127\tvalid_1's F1_MACRO: 0.530982\n",
      "[148]\tvalid_0's binary_logloss: 0.435229\tvalid_0's F1_MACRO: 0.526588\tvalid_1's binary_logloss: 0.430449\tvalid_1's F1_MACRO: 0.5394\n",
      "[149]\tvalid_0's binary_logloss: 0.434008\tvalid_0's F1_MACRO: 0.529784\tvalid_1's binary_logloss: 0.429221\tvalid_1's F1_MACRO: 0.543557\n",
      "[150]\tvalid_0's binary_logloss: 0.43357\tvalid_0's F1_MACRO: 0.529784\tvalid_1's binary_logloss: 0.428809\tvalid_1's F1_MACRO: 0.543557\n",
      "[151]\tvalid_0's binary_logloss: 0.433748\tvalid_0's F1_MACRO: 0.526588\tvalid_1's binary_logloss: 0.428982\tvalid_1's F1_MACRO: 0.543557\n",
      "[152]\tvalid_0's binary_logloss: 0.432375\tvalid_0's F1_MACRO: 0.537165\tvalid_1's binary_logloss: 0.427617\tvalid_1's F1_MACRO: 0.54768\n",
      "[153]\tvalid_0's binary_logloss: 0.432157\tvalid_0's F1_MACRO: 0.531904\tvalid_1's binary_logloss: 0.427392\tvalid_1's F1_MACRO: 0.5394\n",
      "[154]\tvalid_0's binary_logloss: 0.432518\tvalid_0's F1_MACRO: 0.526588\tvalid_1's binary_logloss: 0.427773\tvalid_1's F1_MACRO: 0.5394\n",
      "[155]\tvalid_0's binary_logloss: 0.431862\tvalid_0's F1_MACRO: 0.540296\tvalid_1's binary_logloss: 0.426903\tvalid_1's F1_MACRO: 0.543557\n",
      "[156]\tvalid_0's binary_logloss: 0.430533\tvalid_0's F1_MACRO: 0.544441\tvalid_1's binary_logloss: 0.42568\tvalid_1's F1_MACRO: 0.555825\n",
      "[157]\tvalid_0's binary_logloss: 0.429255\tvalid_0's F1_MACRO: 0.5465\tvalid_1's binary_logloss: 0.424497\tvalid_1's F1_MACRO: 0.559849\n",
      "[158]\tvalid_0's binary_logloss: 0.427755\tvalid_0's F1_MACRO: 0.548551\tvalid_1's binary_logloss: 0.423112\tvalid_1's F1_MACRO: 0.559849\n",
      "[159]\tvalid_0's binary_logloss: 0.431342\tvalid_0's F1_MACRO: 0.545471\tvalid_1's binary_logloss: 0.426693\tvalid_1's F1_MACRO: 0.555825\n",
      "[160]\tvalid_0's binary_logloss: 0.429915\tvalid_0's F1_MACRO: 0.547527\tvalid_1's binary_logloss: 0.425413\tvalid_1's F1_MACRO: 0.555825\n",
      "[161]\tvalid_0's binary_logloss: 0.429644\tvalid_0's F1_MACRO: 0.545471\tvalid_1's binary_logloss: 0.425183\tvalid_1's F1_MACRO: 0.555825\n",
      "[162]\tvalid_0's binary_logloss: 0.428402\tvalid_0's F1_MACRO: 0.549574\tvalid_1's binary_logloss: 0.424014\tvalid_1's F1_MACRO: 0.559849\n",
      "[163]\tvalid_0's binary_logloss: 0.427153\tvalid_0's F1_MACRO: 0.550594\tvalid_1's binary_logloss: 0.422962\tvalid_1's F1_MACRO: 0.559849\n",
      "[164]\tvalid_0's binary_logloss: 0.425558\tvalid_0's F1_MACRO: 0.554655\tvalid_1's binary_logloss: 0.421414\tvalid_1's F1_MACRO: 0.559849\n",
      "[165]\tvalid_0's binary_logloss: 0.42438\tvalid_0's F1_MACRO: 0.555665\tvalid_1's binary_logloss: 0.420439\tvalid_1's F1_MACRO: 0.575625\n",
      "[166]\tvalid_0's binary_logloss: 0.42452\tvalid_0's F1_MACRO: 0.554655\tvalid_1's binary_logloss: 0.420518\tvalid_1's F1_MACRO: 0.571728\n",
      "[167]\tvalid_0's binary_logloss: 0.423566\tvalid_0's F1_MACRO: 0.555665\tvalid_1's binary_logloss: 0.419474\tvalid_1's F1_MACRO: 0.583327\n",
      "[168]\tvalid_0's binary_logloss: 0.422221\tvalid_0's F1_MACRO: 0.559685\tvalid_1's binary_logloss: 0.418126\tvalid_1's F1_MACRO: 0.583327\n",
      "[169]\tvalid_0's binary_logloss: 0.422173\tvalid_0's F1_MACRO: 0.558683\tvalid_1's binary_logloss: 0.418054\tvalid_1's F1_MACRO: 0.583327\n",
      "[170]\tvalid_0's binary_logloss: 0.420647\tvalid_0's F1_MACRO: 0.560685\tvalid_1's binary_logloss: 0.4169\tvalid_1's F1_MACRO: 0.583327\n",
      "[171]\tvalid_0's binary_logloss: 0.420514\tvalid_0's F1_MACRO: 0.560685\tvalid_1's binary_logloss: 0.416711\tvalid_1's F1_MACRO: 0.579491\n",
      "[172]\tvalid_0's binary_logloss: 0.419693\tvalid_0's F1_MACRO: 0.560685\tvalid_1's binary_logloss: 0.416056\tvalid_1's F1_MACRO: 0.579491\n",
      "[173]\tvalid_0's binary_logloss: 0.419544\tvalid_0's F1_MACRO: 0.560685\tvalid_1's binary_logloss: 0.415921\tvalid_1's F1_MACRO: 0.579491\n",
      "[174]\tvalid_0's binary_logloss: 0.418355\tvalid_0's F1_MACRO: 0.562679\tvalid_1's binary_logloss: 0.41478\tvalid_1's F1_MACRO: 0.587133\n",
      "[175]\tvalid_0's binary_logloss: 0.418404\tvalid_0's F1_MACRO: 0.558683\tvalid_1's binary_logloss: 0.414842\tvalid_1's F1_MACRO: 0.579491\n",
      "[176]\tvalid_0's binary_logloss: 0.418346\tvalid_0's F1_MACRO: 0.558683\tvalid_1's binary_logloss: 0.414827\tvalid_1's F1_MACRO: 0.579491\n",
      "[177]\tvalid_0's binary_logloss: 0.417619\tvalid_0's F1_MACRO: 0.560685\tvalid_1's binary_logloss: 0.414382\tvalid_1's F1_MACRO: 0.579491\n",
      "[178]\tvalid_0's binary_logloss: 0.417752\tvalid_0's F1_MACRO: 0.558683\tvalid_1's binary_logloss: 0.414527\tvalid_1's F1_MACRO: 0.579491\n",
      "[179]\tvalid_0's binary_logloss: 0.417972\tvalid_0's F1_MACRO: 0.558683\tvalid_1's binary_logloss: 0.414721\tvalid_1's F1_MACRO: 0.579491\n",
      "[180]\tvalid_0's binary_logloss: 0.418199\tvalid_0's F1_MACRO: 0.556673\tvalid_1's binary_logloss: 0.414941\tvalid_1's F1_MACRO: 0.579491\n",
      "[181]\tvalid_0's binary_logloss: 0.418073\tvalid_0's F1_MACRO: 0.556673\tvalid_1's binary_logloss: 0.414756\tvalid_1's F1_MACRO: 0.579491\n",
      "[182]\tvalid_0's binary_logloss: 0.417472\tvalid_0's F1_MACRO: 0.558683\tvalid_1's binary_logloss: 0.413992\tvalid_1's F1_MACRO: 0.579491\n",
      "[183]\tvalid_0's binary_logloss: 0.416298\tvalid_0's F1_MACRO: 0.560685\tvalid_1's binary_logloss: 0.412823\tvalid_1's F1_MACRO: 0.583327\n",
      "[184]\tvalid_0's binary_logloss: 0.415212\tvalid_0's F1_MACRO: 0.560685\tvalid_1's binary_logloss: 0.411661\tvalid_1's F1_MACRO: 0.583327\n",
      "[185]\tvalid_0's binary_logloss: 0.415418\tvalid_0's F1_MACRO: 0.559685\tvalid_1's binary_logloss: 0.411851\tvalid_1's F1_MACRO: 0.583327\n",
      "[186]\tvalid_0's binary_logloss: 0.414555\tvalid_0's F1_MACRO: 0.561683\tvalid_1's binary_logloss: 0.411101\tvalid_1's F1_MACRO: 0.583327\n",
      "[187]\tvalid_0's binary_logloss: 0.4137\tvalid_0's F1_MACRO: 0.566643\tvalid_1's binary_logloss: 0.41035\tvalid_1's F1_MACRO: 0.587133\n",
      "[188]\tvalid_0's binary_logloss: 0.412497\tvalid_0's F1_MACRO: 0.569595\tvalid_1's binary_logloss: 0.409397\tvalid_1's F1_MACRO: 0.594657\n",
      "[189]\tvalid_0's binary_logloss: 0.412658\tvalid_0's F1_MACRO: 0.568613\tvalid_1's binary_logloss: 0.409532\tvalid_1's F1_MACRO: 0.590909\n",
      "[190]\tvalid_0's binary_logloss: 0.4114\tvalid_0's F1_MACRO: 0.569595\tvalid_1's binary_logloss: 0.408707\tvalid_1's F1_MACRO: 0.587133\n",
      "[191]\tvalid_0's binary_logloss: 0.41496\tvalid_0's F1_MACRO: 0.567629\tvalid_1's binary_logloss: 0.412223\tvalid_1's F1_MACRO: 0.587133\n",
      "[192]\tvalid_0's binary_logloss: 0.415402\tvalid_0's F1_MACRO: 0.565655\tvalid_1's binary_logloss: 0.41259\tvalid_1's F1_MACRO: 0.587133\n",
      "[193]\tvalid_0's binary_logloss: 0.414144\tvalid_0's F1_MACRO: 0.569595\tvalid_1's binary_logloss: 0.411045\tvalid_1's F1_MACRO: 0.587133\n",
      "[194]\tvalid_0's binary_logloss: 0.412974\tvalid_0's F1_MACRO: 0.570575\tvalid_1's binary_logloss: 0.41001\tvalid_1's F1_MACRO: 0.594657\n",
      "[195]\tvalid_0's binary_logloss: 0.413047\tvalid_0's F1_MACRO: 0.569595\tvalid_1's binary_logloss: 0.410048\tvalid_1's F1_MACRO: 0.590909\n",
      "[196]\tvalid_0's binary_logloss: 0.413204\tvalid_0's F1_MACRO: 0.569595\tvalid_1's binary_logloss: 0.410192\tvalid_1's F1_MACRO: 0.587133\n",
      "[197]\tvalid_0's binary_logloss: 0.413516\tvalid_0's F1_MACRO: 0.568613\tvalid_1's binary_logloss: 0.410485\tvalid_1's F1_MACRO: 0.587133\n",
      "[198]\tvalid_0's binary_logloss: 0.413531\tvalid_0's F1_MACRO: 0.567629\tvalid_1's binary_logloss: 0.410477\tvalid_1's F1_MACRO: 0.587133\n",
      "[199]\tvalid_0's binary_logloss: 0.41287\tvalid_0's F1_MACRO: 0.569595\tvalid_1's binary_logloss: 0.410068\tvalid_1's F1_MACRO: 0.587133\n",
      "[200]\tvalid_0's binary_logloss: 0.411613\tvalid_0's F1_MACRO: 0.570575\tvalid_1's binary_logloss: 0.408752\tvalid_1's F1_MACRO: 0.594657\n",
      "[201]\tvalid_0's binary_logloss: 0.411288\tvalid_0's F1_MACRO: 0.570575\tvalid_1's binary_logloss: 0.408474\tvalid_1's F1_MACRO: 0.590909\n",
      "[202]\tvalid_0's binary_logloss: 0.410131\tvalid_0's F1_MACRO: 0.57253\tvalid_1's binary_logloss: 0.407136\tvalid_1's F1_MACRO: 0.594657\n",
      "[203]\tvalid_0's binary_logloss: 0.410037\tvalid_0's F1_MACRO: 0.571553\tvalid_1's binary_logloss: 0.407041\tvalid_1's F1_MACRO: 0.594657\n",
      "[204]\tvalid_0's binary_logloss: 0.409369\tvalid_0's F1_MACRO: 0.571553\tvalid_1's binary_logloss: 0.406058\tvalid_1's F1_MACRO: 0.598375\n",
      "[205]\tvalid_0's binary_logloss: 0.40816\tvalid_0's F1_MACRO: 0.574476\tvalid_1's binary_logloss: 0.404628\tvalid_1's F1_MACRO: 0.605727\n",
      "[206]\tvalid_0's binary_logloss: 0.408102\tvalid_0's F1_MACRO: 0.574476\tvalid_1's binary_logloss: 0.404574\tvalid_1's F1_MACRO: 0.605727\n",
      "[207]\tvalid_0's binary_logloss: 0.408179\tvalid_0's F1_MACRO: 0.571553\tvalid_1's binary_logloss: 0.404665\tvalid_1's F1_MACRO: 0.602065\n",
      "[208]\tvalid_0's binary_logloss: 0.408438\tvalid_0's F1_MACRO: 0.571553\tvalid_1's binary_logloss: 0.404892\tvalid_1's F1_MACRO: 0.602065\n",
      "[209]\tvalid_0's binary_logloss: 0.412594\tvalid_0's F1_MACRO: 0.569595\tvalid_1's binary_logloss: 0.409037\tvalid_1's F1_MACRO: 0.590909\n",
      "[210]\tvalid_0's binary_logloss: 0.411087\tvalid_0's F1_MACRO: 0.569595\tvalid_1's binary_logloss: 0.407542\tvalid_1's F1_MACRO: 0.598375\n",
      "[211]\tvalid_0's binary_logloss: 0.411184\tvalid_0's F1_MACRO: 0.569595\tvalid_1's binary_logloss: 0.407621\tvalid_1's F1_MACRO: 0.594657\n",
      "[212]\tvalid_0's binary_logloss: 0.409946\tvalid_0's F1_MACRO: 0.570575\tvalid_1's binary_logloss: 0.406457\tvalid_1's F1_MACRO: 0.602065\n",
      "[213]\tvalid_0's binary_logloss: 0.410042\tvalid_0's F1_MACRO: 0.569595\tvalid_1's binary_logloss: 0.406574\tvalid_1's F1_MACRO: 0.598375\n",
      "[214]\tvalid_0's binary_logloss: 0.410419\tvalid_0's F1_MACRO: 0.569595\tvalid_1's binary_logloss: 0.40695\tvalid_1's F1_MACRO: 0.598375\n",
      "[215]\tvalid_0's binary_logloss: 0.410773\tvalid_0's F1_MACRO: 0.569595\tvalid_1's binary_logloss: 0.407259\tvalid_1's F1_MACRO: 0.590909\n",
      "[216]\tvalid_0's binary_logloss: 0.412915\tvalid_0's F1_MACRO: 0.566643\tvalid_1's binary_logloss: 0.409408\tvalid_1's F1_MACRO: 0.587133\n",
      "[217]\tvalid_0's binary_logloss: 0.411347\tvalid_0's F1_MACRO: 0.568613\tvalid_1's binary_logloss: 0.407857\tvalid_1's F1_MACRO: 0.590909\n",
      "[218]\tvalid_0's binary_logloss: 0.410308\tvalid_0's F1_MACRO: 0.570575\tvalid_1's binary_logloss: 0.406859\tvalid_1's F1_MACRO: 0.594657\n",
      "[219]\tvalid_0's binary_logloss: 0.412758\tvalid_0's F1_MACRO: 0.568613\tvalid_1's binary_logloss: 0.409309\tvalid_1's F1_MACRO: 0.590909\n",
      "[220]\tvalid_0's binary_logloss: 0.412846\tvalid_0's F1_MACRO: 0.567629\tvalid_1's binary_logloss: 0.40938\tvalid_1's F1_MACRO: 0.587133\n",
      "[221]\tvalid_0's binary_logloss: 0.411633\tvalid_0's F1_MACRO: 0.569595\tvalid_1's binary_logloss: 0.40831\tvalid_1's F1_MACRO: 0.590909\n",
      "[222]\tvalid_0's binary_logloss: 0.410246\tvalid_0's F1_MACRO: 0.571553\tvalid_1's binary_logloss: 0.407049\tvalid_1's F1_MACRO: 0.598375\n",
      "[223]\tvalid_0's binary_logloss: 0.409294\tvalid_0's F1_MACRO: 0.57253\tvalid_1's binary_logloss: 0.406156\tvalid_1's F1_MACRO: 0.598375\n",
      "[224]\tvalid_0's binary_logloss: 0.407352\tvalid_0's F1_MACRO: 0.574476\tvalid_1's binary_logloss: 0.404847\tvalid_1's F1_MACRO: 0.598375\n",
      "[225]\tvalid_0's binary_logloss: 0.407412\tvalid_0's F1_MACRO: 0.573504\tvalid_1's binary_logloss: 0.40492\tvalid_1's F1_MACRO: 0.598375\n",
      "[226]\tvalid_0's binary_logloss: 0.405859\tvalid_0's F1_MACRO: 0.574476\tvalid_1's binary_logloss: 0.403367\tvalid_1's F1_MACRO: 0.602065\n",
      "[227]\tvalid_0's binary_logloss: 0.404633\tvalid_0's F1_MACRO: 0.578347\tvalid_1's binary_logloss: 0.401944\tvalid_1's F1_MACRO: 0.605727\n",
      "[228]\tvalid_0's binary_logloss: 0.403254\tvalid_0's F1_MACRO: 0.57931\tvalid_1's binary_logloss: 0.400984\tvalid_1's F1_MACRO: 0.605727\n",
      "[229]\tvalid_0's binary_logloss: 0.402102\tvalid_0's F1_MACRO: 0.585998\tvalid_1's binary_logloss: 0.399726\tvalid_1's F1_MACRO: 0.609361\n",
      "[230]\tvalid_0's binary_logloss: 0.400562\tvalid_0's F1_MACRO: 0.590719\tvalid_1's binary_logloss: 0.397734\tvalid_1's F1_MACRO: 0.612968\n",
      "[231]\tvalid_0's binary_logloss: 0.399395\tvalid_0's F1_MACRO: 0.592595\tvalid_1's binary_logloss: 0.396919\tvalid_1's F1_MACRO: 0.612968\n",
      "[232]\tvalid_0's binary_logloss: 0.397874\tvalid_0's F1_MACRO: 0.600026\tvalid_1's binary_logloss: 0.3959\tvalid_1's F1_MACRO: 0.616548\n",
      "[233]\tvalid_0's binary_logloss: 0.396579\tvalid_0's F1_MACRO: 0.601866\tvalid_1's binary_logloss: 0.394871\tvalid_1's F1_MACRO: 0.616548\n",
      "[234]\tvalid_0's binary_logloss: 0.395204\tvalid_0's F1_MACRO: 0.603699\tvalid_1's binary_logloss: 0.393408\tvalid_1's F1_MACRO: 0.616548\n",
      "[235]\tvalid_0's binary_logloss: 0.394993\tvalid_0's F1_MACRO: 0.603699\tvalid_1's binary_logloss: 0.393228\tvalid_1's F1_MACRO: 0.616548\n",
      "[236]\tvalid_0's binary_logloss: 0.393724\tvalid_0's F1_MACRO: 0.606435\tvalid_1's binary_logloss: 0.392063\tvalid_1's F1_MACRO: 0.616548\n",
      "[237]\tvalid_0's binary_logloss: 0.394059\tvalid_0's F1_MACRO: 0.604613\tvalid_1's binary_logloss: 0.39235\tvalid_1's F1_MACRO: 0.612968\n",
      "[238]\tvalid_0's binary_logloss: 0.394438\tvalid_0's F1_MACRO: 0.600026\tvalid_1's binary_logloss: 0.392698\tvalid_1's F1_MACRO: 0.612968\n",
      "[239]\tvalid_0's binary_logloss: 0.394668\tvalid_0's F1_MACRO: 0.599103\tvalid_1's binary_logloss: 0.392912\tvalid_1's F1_MACRO: 0.612968\n",
      "[240]\tvalid_0's binary_logloss: 0.394651\tvalid_0's F1_MACRO: 0.599103\tvalid_1's binary_logloss: 0.392856\tvalid_1's F1_MACRO: 0.612968\n",
      "[241]\tvalid_0's binary_logloss: 0.395136\tvalid_0's F1_MACRO: 0.598179\tvalid_1's binary_logloss: 0.393329\tvalid_1's F1_MACRO: 0.612968\n",
      "[242]\tvalid_0's binary_logloss: 0.394525\tvalid_0's F1_MACRO: 0.600026\tvalid_1's binary_logloss: 0.392907\tvalid_1's F1_MACRO: 0.612968\n",
      "[243]\tvalid_0's binary_logloss: 0.394944\tvalid_0's F1_MACRO: 0.598179\tvalid_1's binary_logloss: 0.393302\tvalid_1's F1_MACRO: 0.612968\n",
      "[244]\tvalid_0's binary_logloss: 0.394966\tvalid_0's F1_MACRO: 0.596325\tvalid_1's binary_logloss: 0.393316\tvalid_1's F1_MACRO: 0.612968\n",
      "[245]\tvalid_0's binary_logloss: 0.395159\tvalid_0's F1_MACRO: 0.595395\tvalid_1's binary_logloss: 0.393519\tvalid_1's F1_MACRO: 0.612968\n",
      "[246]\tvalid_0's binary_logloss: 0.394598\tvalid_0's F1_MACRO: 0.598179\tvalid_1's binary_logloss: 0.392979\tvalid_1's F1_MACRO: 0.609361\n",
      "[247]\tvalid_0's binary_logloss: 0.393448\tvalid_0's F1_MACRO: 0.600947\tvalid_1's binary_logloss: 0.39199\tvalid_1's F1_MACRO: 0.609361\n",
      "[248]\tvalid_0's binary_logloss: 0.393834\tvalid_0's F1_MACRO: 0.599103\tvalid_1's binary_logloss: 0.392319\tvalid_1's F1_MACRO: 0.609361\n",
      "[249]\tvalid_0's binary_logloss: 0.393007\tvalid_0's F1_MACRO: 0.601866\tvalid_1's binary_logloss: 0.391732\tvalid_1's F1_MACRO: 0.609361\n",
      "[250]\tvalid_0's binary_logloss: 0.39324\tvalid_0's F1_MACRO: 0.600026\tvalid_1's binary_logloss: 0.391908\tvalid_1's F1_MACRO: 0.609361\n",
      "[251]\tvalid_0's binary_logloss: 0.392152\tvalid_0's F1_MACRO: 0.604613\tvalid_1's binary_logloss: 0.390593\tvalid_1's F1_MACRO: 0.609361\n",
      "[252]\tvalid_0's binary_logloss: 0.392443\tvalid_0's F1_MACRO: 0.601866\tvalid_1's binary_logloss: 0.390952\tvalid_1's F1_MACRO: 0.609361\n",
      "[253]\tvalid_0's binary_logloss: 0.391527\tvalid_0's F1_MACRO: 0.603699\tvalid_1's binary_logloss: 0.389884\tvalid_1's F1_MACRO: 0.609361\n",
      "[254]\tvalid_0's binary_logloss: 0.390508\tvalid_0's F1_MACRO: 0.602783\tvalid_1's binary_logloss: 0.389027\tvalid_1's F1_MACRO: 0.609361\n",
      "[255]\tvalid_0's binary_logloss: 0.389459\tvalid_0's F1_MACRO: 0.603699\tvalid_1's binary_logloss: 0.388001\tvalid_1's F1_MACRO: 0.609361\n",
      "[256]\tvalid_0's binary_logloss: 0.389856\tvalid_0's F1_MACRO: 0.602783\tvalid_1's binary_logloss: 0.388387\tvalid_1's F1_MACRO: 0.609361\n",
      "[257]\tvalid_0's binary_logloss: 0.388566\tvalid_0's F1_MACRO: 0.603699\tvalid_1's binary_logloss: 0.387555\tvalid_1's F1_MACRO: 0.612968\n",
      "[258]\tvalid_0's binary_logloss: 0.387815\tvalid_0's F1_MACRO: 0.608251\tvalid_1's binary_logloss: 0.386902\tvalid_1's F1_MACRO: 0.616548\n",
      "[259]\tvalid_0's binary_logloss: 0.386337\tvalid_0's F1_MACRO: 0.609156\tvalid_1's binary_logloss: 0.38539\tvalid_1's F1_MACRO: 0.612968\n",
      "[260]\tvalid_0's binary_logloss: 0.385184\tvalid_0's F1_MACRO: 0.61276\tvalid_1's binary_logloss: 0.384317\tvalid_1's F1_MACRO: 0.616548\n",
      "[261]\tvalid_0's binary_logloss: 0.385442\tvalid_0's F1_MACRO: 0.61276\tvalid_1's binary_logloss: 0.384556\tvalid_1's F1_MACRO: 0.616548\n",
      "[262]\tvalid_0's binary_logloss: 0.384538\tvalid_0's F1_MACRO: 0.614552\tvalid_1's binary_logloss: 0.383767\tvalid_1's F1_MACRO: 0.616548\n",
      "[263]\tvalid_0's binary_logloss: 0.384437\tvalid_0's F1_MACRO: 0.61276\tvalid_1's binary_logloss: 0.383661\tvalid_1's F1_MACRO: 0.616548\n",
      "[264]\tvalid_0's binary_logloss: 0.38343\tvalid_0's F1_MACRO: 0.613657\tvalid_1's binary_logloss: 0.382759\tvalid_1's F1_MACRO: 0.616548\n",
      "[265]\tvalid_0's binary_logloss: 0.383928\tvalid_0's F1_MACRO: 0.61276\tvalid_1's binary_logloss: 0.383175\tvalid_1's F1_MACRO: 0.616548\n",
      "[266]\tvalid_0's binary_logloss: 0.383\tvalid_0's F1_MACRO: 0.614552\tvalid_1's binary_logloss: 0.382044\tvalid_1's F1_MACRO: 0.616548\n",
      "[267]\tvalid_0's binary_logloss: 0.383086\tvalid_0's F1_MACRO: 0.614552\tvalid_1's binary_logloss: 0.382126\tvalid_1's F1_MACRO: 0.616548\n",
      "[268]\tvalid_0's binary_logloss: 0.382364\tvalid_0's F1_MACRO: 0.615445\tvalid_1's binary_logloss: 0.381347\tvalid_1's F1_MACRO: 0.616548\n",
      "[269]\tvalid_0's binary_logloss: 0.381512\tvalid_0's F1_MACRO: 0.615445\tvalid_1's binary_logloss: 0.380501\tvalid_1's F1_MACRO: 0.612968\n",
      "[270]\tvalid_0's binary_logloss: 0.380317\tvalid_0's F1_MACRO: 0.619002\tvalid_1's binary_logloss: 0.379481\tvalid_1's F1_MACRO: 0.620101\n",
      "[271]\tvalid_0's binary_logloss: 0.380787\tvalid_0's F1_MACRO: 0.617227\tvalid_1's binary_logloss: 0.379897\tvalid_1's F1_MACRO: 0.620101\n",
      "[272]\tvalid_0's binary_logloss: 0.379739\tvalid_0's F1_MACRO: 0.617227\tvalid_1's binary_logloss: 0.378875\tvalid_1's F1_MACRO: 0.623627\n",
      "[273]\tvalid_0's binary_logloss: 0.379986\tvalid_0's F1_MACRO: 0.617227\tvalid_1's binary_logloss: 0.379107\tvalid_1's F1_MACRO: 0.623627\n",
      "[274]\tvalid_0's binary_logloss: 0.378904\tvalid_0's F1_MACRO: 0.618115\tvalid_1's binary_logloss: 0.377949\tvalid_1's F1_MACRO: 0.623627\n",
      "[275]\tvalid_0's binary_logloss: 0.378012\tvalid_0's F1_MACRO: 0.619002\tvalid_1's binary_logloss: 0.377079\tvalid_1's F1_MACRO: 0.620101\n",
      "[276]\tvalid_0's binary_logloss: 0.376934\tvalid_0's F1_MACRO: 0.619887\tvalid_1's binary_logloss: 0.376308\tvalid_1's F1_MACRO: 0.623627\n",
      "[277]\tvalid_0's binary_logloss: 0.375955\tvalid_0's F1_MACRO: 0.622532\tvalid_1's binary_logloss: 0.375164\tvalid_1's F1_MACRO: 0.623627\n",
      "[278]\tvalid_0's binary_logloss: 0.374941\tvalid_0's F1_MACRO: 0.622532\tvalid_1's binary_logloss: 0.374318\tvalid_1's F1_MACRO: 0.623627\n",
      "[279]\tvalid_0's binary_logloss: 0.375221\tvalid_0's F1_MACRO: 0.621652\tvalid_1's binary_logloss: 0.374587\tvalid_1's F1_MACRO: 0.623627\n",
      "[280]\tvalid_0's binary_logloss: 0.374201\tvalid_0's F1_MACRO: 0.624287\tvalid_1's binary_logloss: 0.373627\tvalid_1's F1_MACRO: 0.627127\n",
      "[281]\tvalid_0's binary_logloss: 0.374782\tvalid_0's F1_MACRO: 0.621652\tvalid_1's binary_logloss: 0.374169\tvalid_1's F1_MACRO: 0.623627\n",
      "[282]\tvalid_0's binary_logloss: 0.373731\tvalid_0's F1_MACRO: 0.624287\tvalid_1's binary_logloss: 0.373454\tvalid_1's F1_MACRO: 0.623627\n",
      "[283]\tvalid_0's binary_logloss: 0.374108\tvalid_0's F1_MACRO: 0.624287\tvalid_1's binary_logloss: 0.373794\tvalid_1's F1_MACRO: 0.623627\n",
      "[284]\tvalid_0's binary_logloss: 0.374596\tvalid_0's F1_MACRO: 0.624287\tvalid_1's binary_logloss: 0.37425\tvalid_1's F1_MACRO: 0.623627\n",
      "[285]\tvalid_0's binary_logloss: 0.374849\tvalid_0's F1_MACRO: 0.622532\tvalid_1's binary_logloss: 0.374476\tvalid_1's F1_MACRO: 0.623627\n",
      "[286]\tvalid_0's binary_logloss: 0.373765\tvalid_0's F1_MACRO: 0.622532\tvalid_1's binary_logloss: 0.373846\tvalid_1's F1_MACRO: 0.623627\n",
      "[287]\tvalid_0's binary_logloss: 0.372403\tvalid_0's F1_MACRO: 0.622532\tvalid_1's binary_logloss: 0.37279\tvalid_1's F1_MACRO: 0.623627\n",
      "[288]\tvalid_0's binary_logloss: 0.371574\tvalid_0's F1_MACRO: 0.626036\tvalid_1's binary_logloss: 0.372166\tvalid_1's F1_MACRO: 0.623627\n",
      "[289]\tvalid_0's binary_logloss: 0.373808\tvalid_0's F1_MACRO: 0.619887\tvalid_1's binary_logloss: 0.374358\tvalid_1's F1_MACRO: 0.620101\n",
      "[290]\tvalid_0's binary_logloss: 0.374253\tvalid_0's F1_MACRO: 0.619887\tvalid_1's binary_logloss: 0.374755\tvalid_1's F1_MACRO: 0.620101\n",
      "[291]\tvalid_0's binary_logloss: 0.373157\tvalid_0's F1_MACRO: 0.622532\tvalid_1's binary_logloss: 0.373902\tvalid_1's F1_MACRO: 0.623627\n",
      "[292]\tvalid_0's binary_logloss: 0.373672\tvalid_0's F1_MACRO: 0.62077\tvalid_1's binary_logloss: 0.374355\tvalid_1's F1_MACRO: 0.620101\n",
      "[293]\tvalid_0's binary_logloss: 0.372707\tvalid_0's F1_MACRO: 0.621652\tvalid_1's binary_logloss: 0.373099\tvalid_1's F1_MACRO: 0.623627\n",
      "[294]\tvalid_0's binary_logloss: 0.373242\tvalid_0's F1_MACRO: 0.621652\tvalid_1's binary_logloss: 0.373593\tvalid_1's F1_MACRO: 0.623627\n",
      "[295]\tvalid_0's binary_logloss: 0.372336\tvalid_0's F1_MACRO: 0.623411\tvalid_1's binary_logloss: 0.372815\tvalid_1's F1_MACRO: 0.623627\n",
      "[296]\tvalid_0's binary_logloss: 0.372671\tvalid_0's F1_MACRO: 0.622532\tvalid_1's binary_logloss: 0.373118\tvalid_1's F1_MACRO: 0.623627\n",
      "[297]\tvalid_0's binary_logloss: 0.373154\tvalid_0's F1_MACRO: 0.62077\tvalid_1's binary_logloss: 0.37353\tvalid_1's F1_MACRO: 0.623627\n",
      "[298]\tvalid_0's binary_logloss: 0.373722\tvalid_0's F1_MACRO: 0.619002\tvalid_1's binary_logloss: 0.374043\tvalid_1's F1_MACRO: 0.623627\n",
      "[299]\tvalid_0's binary_logloss: 0.375688\tvalid_0's F1_MACRO: 0.617227\tvalid_1's binary_logloss: 0.375954\tvalid_1's F1_MACRO: 0.620101\n",
      "[300]\tvalid_0's binary_logloss: 0.374764\tvalid_0's F1_MACRO: 0.618115\tvalid_1's binary_logloss: 0.374888\tvalid_1's F1_MACRO: 0.620101\n"
     ]
    },
    {
     "data": {
      "text/plain": [
       "LGBMClassifier(boosting_type='dart', lambda_l1=0.02, lambda_l2=5,\n",
       "               learning_rate=0.08, max_depth=8, n_estimators=300, num_leaves=75,\n",
       "               objective='binary', scale_pos_weight=0.18265524625267665)"
      ]
     },
     "execution_count": 672,
     "metadata": {},
     "output_type": "execute_result"
    }
   ],
   "source": [
    "clf.fit(\n",
    "    pd.concat([X_train, X_val], axis=0), pd.concat([y_train,y_val], axis=0),\n",
    "    eval_set=[(X_train, y_train), (X_val, y_val)], \n",
    "    early_stopping_rounds=15,\n",
    "    eval_metric=[lambda y_true, y_pred: (\"F1_MACRO\", metric(y_true, np.round(y_pred)), True)],\n",
    "    feature_name=X_train.columns.tolist(),\n",
    "    categorical_feature=[\"Month\", \"TrafficType\", \"Browser\", \"SpecialDay\", \"OperatingSystems\", \"Region\", \"VisitorType\", \"Weekend\"]\n",
    ")"
   ]
  },
  {
   "cell_type": "code",
   "execution_count": 673,
   "metadata": {},
   "outputs": [
    {
     "name": "stdout",
     "output_type": "stream",
     "text": [
      "              precision    recall  f1-score   support\n",
      "\n",
      "           0       0.96      0.98      0.97      4670\n",
      "           1       0.86      0.78      0.82       853\n",
      "\n",
      "    accuracy                           0.95      5523\n",
      "   macro avg       0.91      0.88      0.89      5523\n",
      "weighted avg       0.95      0.95      0.95      5523\n",
      "\n",
      "              precision    recall  f1-score   support\n",
      "\n",
      "           0       0.94      0.94      0.94      1460\n",
      "           1       0.68      0.65      0.67       267\n",
      "\n",
      "    accuracy                           0.90      1727\n",
      "   macro avg       0.81      0.80      0.80      1727\n",
      "weighted avg       0.90      0.90      0.90      1727\n",
      "\n",
      "0.8946028736852122\n",
      "0.8036607548885857\n"
     ]
    }
   ],
   "source": [
    "print(classification_report(y_train, clf.predict(X_train)))\n",
    "print(classification_report(y_test, clf.predict(X_test)))\n",
    "\n",
    "print(metric(y_train, clf.predict(X_train)))\n",
    "print(metric(y_test, clf.predict(X_test)))"
   ]
  },
  {
   "cell_type": "code",
   "execution_count": 674,
   "metadata": {},
   "outputs": [],
   "source": [
    "test_pred = test.loc[:, ~test.columns.isin(['revenue', \"id\"])]\n",
    "submit = clf.predict(test_pred)"
   ]
  },
  {
   "cell_type": "code",
   "execution_count": 675,
   "metadata": {},
   "outputs": [],
   "source": [
    "from datetime import datetime\n",
    "get_date = lambda : datetime.now().strftime(\"%Y%m%d_%H%M%S\")"
   ]
  },
  {
   "cell_type": "code",
   "execution_count": 676,
   "metadata": {},
   "outputs": [],
   "source": [
    "date_part = get_date()\n",
    "# save results\n",
    "pd.DataFrame({\"id\":test.id, \"revenue\":submit}).to_csv(f'../data/results/{date_part}_lgb.csv', index=False)\n",
    "\n",
    "# just if necessary, persist the parameters \n",
    "pd.DataFrame([clf.get_params()]).to_csv(f'../data/results/{date_part}_params.csv')"
   ]
  },
  {
   "cell_type": "markdown",
   "metadata": {},
   "source": [
    "__________________________\n",
    "## Model Interpretability\n",
    "- *TODO*"
   ]
  },
  {
   "cell_type": "code",
   "execution_count": null,
   "metadata": {},
   "outputs": [],
   "source": [
    "clf.feature_importances_"
   ]
  },
  {
   "cell_type": "code",
   "execution_count": null,
   "metadata": {},
   "outputs": [],
   "source": [
    "gbm.plot_importance(clf, max_num_features=10)"
   ]
  },
  {
   "cell_type": "code",
   "execution_count": null,
   "metadata": {},
   "outputs": [],
   "source": []
  }
 ],
 "metadata": {
  "kernelspec": {
   "display_name": "default_3.7.9",
   "language": "python",
   "name": "default_3.7.9"
  },
  "language_info": {
   "codemirror_mode": {
    "name": "ipython",
    "version": 3
   },
   "file_extension": ".py",
   "mimetype": "text/x-python",
   "name": "python",
   "nbconvert_exporter": "python",
   "pygments_lexer": "ipython3",
   "version": "3.7.9"
  }
 },
 "nbformat": 4,
 "nbformat_minor": 4
}
