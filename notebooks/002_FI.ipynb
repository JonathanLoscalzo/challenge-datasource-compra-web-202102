{
 "cells": [
  {
   "cell_type": "code",
   "execution_count": 67,
   "metadata": {},
   "outputs": [],
   "source": [
    "import pandas as pd\n",
    "import matplotlib.pyplot as plt\n",
    "from imblearn.over_sampling import SMOTE, ADASYN"
   ]
  },
  {
   "cell_type": "code",
   "execution_count": 68,
   "metadata": {},
   "outputs": [],
   "source": [
    "train = pd.read_csv('../data/raw/train.csv')\n",
    "test = pd.read_csv('../data/raw/test.csv')"
   ]
  },
  {
   "cell_type": "code",
   "execution_count": 69,
   "metadata": {},
   "outputs": [],
   "source": [
    "from sklearn.preprocessing import OrdinalEncoder, OneHotEncoder, StandardScaler, MinMaxScaler"
   ]
  },
  {
   "cell_type": "code",
   "execution_count": 70,
   "metadata": {},
   "outputs": [
    {
     "data": {
      "text/plain": [
       "([{'id': 8631,\n",
       "   'Administrative': 27,\n",
       "   'Administrative_Duration': 2542,\n",
       "   'Informational': 14,\n",
       "   'Informational_Duration': 978,\n",
       "   'ProductRelated': 277,\n",
       "   'ProductRelated_Duration': 6955,\n",
       "   'BounceRates': 1440,\n",
       "   'ExitRates': 3553,\n",
       "   'PageValues': 1889,\n",
       "   'SpecialDay': 6,\n",
       "   'Month': 10,\n",
       "   'OperatingSystems': 8,\n",
       "   'Browser': 13,\n",
       "   'Region': 9,\n",
       "   'TrafficType': 20,\n",
       "   'VisitorType': 3,\n",
       "   'Weekend': 2,\n",
       "   'revenue': 2}],\n",
       " (8631, 19))"
      ]
     },
     "execution_count": 70,
     "metadata": {},
     "output_type": "execute_result"
    }
   ],
   "source": [
    "# To see unique values per column. \n",
    "[{col: train[col].nunique() for col in train.columns}], train.shape"
   ]
  },
  {
   "cell_type": "code",
   "execution_count": 71,
   "metadata": {},
   "outputs": [
    {
     "name": "stdout",
     "output_type": "stream",
     "text": [
      "Index(['id', 'Administrative', 'Administrative_Duration', 'Informational',\n",
      "       'Informational_Duration', 'ProductRelated', 'ProductRelated_Duration',\n",
      "       'BounceRates', 'ExitRates', 'PageValues', 'SpecialDay', 'Month',\n",
      "       'OperatingSystems', 'Browser', 'Region', 'TrafficType', 'VisitorType',\n",
      "       'Weekend', 'revenue'],\n",
      "      dtype='object')\n",
      "<class 'pandas.core.frame.DataFrame'>\n",
      "RangeIndex: 8631 entries, 0 to 8630\n",
      "Data columns (total 19 columns):\n",
      " #   Column                   Non-Null Count  Dtype  \n",
      "---  ------                   --------------  -----  \n",
      " 0   id                       8631 non-null   int64  \n",
      " 1   Administrative           8631 non-null   int64  \n",
      " 2   Administrative_Duration  8631 non-null   float64\n",
      " 3   Informational            8631 non-null   int64  \n",
      " 4   Informational_Duration   8631 non-null   float64\n",
      " 5   ProductRelated           8631 non-null   int64  \n",
      " 6   ProductRelated_Duration  8631 non-null   float64\n",
      " 7   BounceRates              8631 non-null   float64\n",
      " 8   ExitRates                8631 non-null   float64\n",
      " 9   PageValues               8631 non-null   float64\n",
      " 10  SpecialDay               8631 non-null   float64\n",
      " 11  Month                    8631 non-null   object \n",
      " 12  OperatingSystems         8631 non-null   int64  \n",
      " 13  Browser                  8631 non-null   int64  \n",
      " 14  Region                   8631 non-null   int64  \n",
      " 15  TrafficType              8631 non-null   int64  \n",
      " 16  VisitorType              8631 non-null   object \n",
      " 17  Weekend                  8631 non-null   bool   \n",
      " 18  revenue                  8631 non-null   int64  \n",
      "dtypes: bool(1), float64(7), int64(9), object(2)\n",
      "memory usage: 1.2+ MB\n",
      "None\n"
     ]
    }
   ],
   "source": [
    "print(train.columns)\n",
    "print(train.info())"
   ]
  },
  {
   "cell_type": "code",
   "execution_count": 72,
   "metadata": {},
   "outputs": [],
   "source": [
    "def train_ordinal(df, enc_columns):\n",
    "    \"\"\" Train an ordinal encoder from sklearn\n",
    "    \"\"\"\n",
    "    enc = OrdinalEncoder()\n",
    "    enc.fit(df[enc_columns].to_numpy())\n",
    "    \n",
    "    return enc\n",
    "\n",
    "def transform_ordinal(df, enc, enc_columns):\n",
    "    \"\"\" Transform and Apply an ordinal encoder from sklearn\n",
    "    \"\"\"\n",
    "    df[enc_columns] = enc.transform(df[enc_columns])\n",
    "    df[enc_columns] = df[enc_columns].astype('category')\n",
    "    "
   ]
  },
  {
   "cell_type": "code",
   "execution_count": 73,
   "metadata": {},
   "outputs": [],
   "source": [
    "\n",
    "def train_ohe(df, ohe_columns):\n",
    "    \"\"\" Train a one hot encoder from sklearn\n",
    "    \"\"\"\n",
    "    ohe = OneHotEncoder()\n",
    "    ohe.fit(df[ohe_columns])\n",
    "    return ohe\n",
    "\n",
    "def transform_one_hot(df, ohe, ohe_columns):\n",
    "    \"\"\" Transform and Apply an one-hot encoder from sklearn\n",
    "    \"\"\"\n",
    "    df.loc[:, ohe.get_feature_names(ohe_columns)] = ohe.transform(df[ohe_columns]).toarray()\n",
    "    df.drop(columns=ohe_columns, inplace=True)\n"
   ]
  },
  {
   "cell_type": "code",
   "execution_count": 74,
   "metadata": {},
   "outputs": [],
   "source": [
    "def train_stdscaler(df, columns):\n",
    "    \"\"\" Train a scaler from sklearn. MixMax gives better performance than StandardScaler\n",
    "    \"\"\"\n",
    "    scaler = MinMaxScaler()\n",
    "    scaler.fit(df[columns])\n",
    "    return scaler\n",
    "\n",
    "def transform_stdscaler(df, scaler, columns):\n",
    "    \"\"\" Transform and Apply scaler from sklearn\n",
    "    \"\"\"\n",
    "    df[columns] = scaler.transform(df[columns])\n",
    "    "
   ]
  },
  {
   "cell_type": "code",
   "execution_count": 75,
   "metadata": {},
   "outputs": [],
   "source": [
    "def sum_duration_columns(df):\n",
    "    \"\"\" From all *_Duration columns, it are sum and result in a new column Total\n",
    "    \"\"\"\n",
    "    duration_columns = df.columns.str.contains(\"Duration\")\n",
    "    # train[\"Total_Duration\"] = \n",
    "    df['Total_Duration'] = df.loc[:,duration_columns].sum(axis=1)\n",
    "\n",
    "def avg_duration_per_page(df):\n",
    "    \"\"\" From all *_Duration columns, add a avg duration time per page\n",
    "    \"\"\"\n",
    "    duration_columns = df.columns.str.contains(\"Duration\")\n",
    "    duration_columns_str = df.columns[duration_columns]\n",
    "    pages_names = duration_columns_str.str.replace('_Duration', '')\n",
    "    for page, duration in zip(pages_names, duration_columns_str):\n",
    "        df[page+\"_Duration_AVG\"]= (df[duration] / df[page]).fillna(-1)\n"
   ]
  },
  {
   "cell_type": "code",
   "execution_count": 76,
   "metadata": {},
   "outputs": [],
   "source": [
    "%%script false --no-raise-error\n",
    "# I skip this part due to one-hot. LightGBM performs better with categorical feature treatment ad-hoc\n",
    "\n",
    "# 1st option\n",
    "enc_columns=[\"Month\", \"TrafficType\", \"Browser\"]\n",
    "enc = train_ordinal(train, enc_columns)\n",
    "transform_ordinal(train, enc, enc_columns)\n",
    "\n",
    "ohe_columns = [\"SpecialDay\", \"OperatingSystems\", \"Region\", \"VisitorType\", \"Weekend\"]\n",
    "ohe = train_ohe(train, ohe_columns)\n",
    "transform_one_hot(train, ohe, ohe_columns)\n",
    "\n",
    "avg_duration_per_page(train)\n",
    "sum_duration_columns(train)\n",
    "\n",
    "stdscaler_columns = [\"Administrative_Duration\", \"Informational_Duration\", \"ProductRelated_Duration\"]\n",
    "\n",
    "scaler = train_stdscaler(train, stdscaler_columns)\n",
    "transform_stdscaler(train, scaler, stdscaler_columns)"
   ]
  },
  {
   "cell_type": "code",
   "execution_count": 77,
   "metadata": {},
   "outputs": [],
   "source": [
    "# 2nd option\n",
    "enc_columns=[\"Month\", \"TrafficType\", \"Browser\", \"SpecialDay\", \"OperatingSystems\", \"Region\", \"VisitorType\", \"Weekend\"]\n",
    "enc = train_ordinal(train, enc_columns)\n",
    "transform_ordinal(train, enc, enc_columns)\n",
    "\n",
    "avg_duration_per_page(train)\n",
    "sum_duration_columns(train)\n",
    "\n",
    "stdscaler_columns = [\"Administrative_Duration\", \"Informational_Duration\", \"ProductRelated_Duration\"]\n",
    "\n",
    "scaler = train_stdscaler(train, stdscaler_columns)\n",
    "transform_stdscaler(train, scaler, stdscaler_columns)"
   ]
  },
  {
   "cell_type": "code",
   "execution_count": 78,
   "metadata": {},
   "outputs": [],
   "source": [
    "%%script false --no-raise-error\n",
    "# transform test dataset with 1st option\n",
    "transform_ordinal(test, enc, enc_columns)\n",
    "transform_one_hot(test, ohe, ohe_columns)\n",
    "sum_duration_columns(test)\n",
    "transform_stdscaler(test, scaler, stdscaler_columns)\n",
    "\n",
    "avg_duration_per_page(test)\n",
    "sum_duration_columns(test)"
   ]
  },
  {
   "cell_type": "code",
   "execution_count": 79,
   "metadata": {},
   "outputs": [],
   "source": [
    "# transform test dataset with 2nd option\n",
    "transform_ordinal(test, enc, enc_columns)\n",
    "transform_stdscaler(test, scaler, stdscaler_columns)\n",
    "avg_duration_per_page(test)\n",
    "sum_duration_columns(test)"
   ]
  },
  {
   "cell_type": "code",
   "execution_count": 80,
   "metadata": {},
   "outputs": [],
   "source": [
    "# imblearn \n",
    "X, y = train.loc[:,~train.columns.isin(['revenue'])], train.revenue"
   ]
  },
  {
   "cell_type": "code",
   "execution_count": 81,
   "metadata": {},
   "outputs": [],
   "source": [
    "oversampler = ADASYN() #SMOTE()\n",
    "\n",
    "oversampler.fit(X, y)\n",
    "\n",
    "X_hat, y_hat = oversampler.fit_resample(X, y)"
   ]
  },
  {
   "cell_type": "code",
   "execution_count": 82,
   "metadata": {},
   "outputs": [
    {
     "data": {
      "text/plain": [
       "<AxesSubplot:>"
      ]
     },
     "execution_count": 82,
     "metadata": {},
     "output_type": "execute_result"
    },
    {
     "data": {
      "image/png": "[encoded data removed]",
      "text/plain": [
       "<Figure size 432x288 with 2 Axes>"
      ]
     },
     "metadata": {
      "needs_background": "light"
     },
     "output_type": "display_data"
    }
   ],
   "source": [
    "fig, (ax1, ax2) = plt.subplots(1,2)\n",
    "y_hat.value_counts().plot.bar(ax = ax1)\n",
    "y.value_counts().plot.bar(ax = ax2)"
   ]
  },
  {
   "cell_type": "code",
   "execution_count": 83,
   "metadata": {},
   "outputs": [],
   "source": [
    "avoid_resample = True\n",
    "# if true, it doesn't apply resampling. \n",
    "# at the moment, model performs ok without resampling.\n",
    "\n",
    "if not avoid_resample:\n",
    "    train_transformed = pd.concat([X_hat, y_hat], axis=1)\n",
    "    test_transformed = test.copy()\n",
    "else:\n",
    "    test_transformed = test.copy()\n",
    "    train_transformed = train.copy()\n",
    "    \n"
   ]
  },
  {
   "cell_type": "code",
   "execution_count": 84,
   "metadata": {},
   "outputs": [],
   "source": [
    "train_transformed.to_parquet('../data/processed/train.parquet')\n",
    "test_transformed.to_parquet('../data/processed/test.parquet')"
   ]
  },
  {
   "cell_type": "code",
   "execution_count": 52,
   "metadata": {},
   "outputs": [
    {
     "data": {
      "text/plain": [
       "id                                int64\n",
       "Administrative                    int64\n",
       "Administrative_Duration         float64\n",
       "Informational                     int64\n",
       "Informational_Duration          float64\n",
       "ProductRelated                    int64\n",
       "ProductRelated_Duration         float64\n",
       "BounceRates                     float64\n",
       "ExitRates                       float64\n",
       "PageValues                      float64\n",
       "SpecialDay                     category\n",
       "Month                          category\n",
       "OperatingSystems               category\n",
       "Browser                        category\n",
       "Region                         category\n",
       "TrafficType                    category\n",
       "VisitorType                    category\n",
       "Weekend                        category\n",
       "revenue                           int64\n",
       "Administrative_Duration_AVG     float64\n",
       "Informational_Duration_AVG      float64\n",
       "ProductRelated_Duration_AVG     float64\n",
       "Total_Duration                  float64\n",
       "dtype: object"
      ]
     },
     "execution_count": 52,
     "metadata": {},
     "output_type": "execute_result"
    }
   ],
   "source": [
    "train.dtypes"
   ]
  },
  {
   "cell_type": "code",
   "execution_count": null,
   "metadata": {},
   "outputs": [],
   "source": []
  }
 ],
 "metadata": {
  "kernelspec": {
   "display_name": "default_3.7.9",
   "language": "python",
   "name": "default_3.7.9"
  },
  "language_info": {
   "codemirror_mode": {
    "name": "ipython",
    "version": 3
   },
   "file_extension": ".py",
   "mimetype": "text/x-python",
   "name": "python",
   "nbconvert_exporter": "python",
   "pygments_lexer": "ipython3",
   "version": "3.7.9"
  }
 },
 "nbformat": 4,
 "nbformat_minor": 4
}
